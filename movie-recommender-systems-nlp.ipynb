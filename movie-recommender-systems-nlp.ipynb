{
 "cells": [
  {
   "cell_type": "code",
   "execution_count": 92,
   "metadata": {
    "_cell_guid": "b1076dfc-b9ad-4769-8c92-a6c4dae69d19",
    "_uuid": "8f2839f25d086af736a60e9eeb907d3b93b6e0e5",
    "execution": {
     "iopub.execute_input": "2021-09-14T03:31:37.690591Z",
     "iopub.status.busy": "2021-09-14T03:31:37.690152Z",
     "iopub.status.idle": "2021-09-14T03:31:37.712152Z",
     "shell.execute_reply": "2021-09-14T03:31:37.711313Z",
     "shell.execute_reply.started": "2021-09-14T03:31:37.690511Z"
    }
   },
   "outputs": [],
   "source": [
    "# This Python 3 environment comes with many helpful analytics libraries installed\n",
    "# It is defined by the kaggle/python Docker image: https://github.com/kaggle/docker-python\n",
    "# For example, here's several helpful packages to load\n",
    "\n",
    "import numpy as np # linear algebra\n",
    "import pandas as pd # data processing, CSV file I/O (e.g. pd.read_csv)\n",
    "\n",
    "# Input data files are available in the read-only \"../input/\" directory\n",
    "# For example, running this (by clicking run or pressing Shift+Enter) will list all files under the input directory\n",
    "\n",
    "import os\n",
    "for dirname, _, filenames in os.walk('/kaggle/input'):\n",
    "    for filename in filenames:\n",
    "        print(os.path.join(dirname, filename))\n",
    "\n",
    "# You can write up to 20GB to the current directory (/kaggle/working/) that gets preserved as output when you create a version using \"Save & Run All\" \n",
    "# You can also write temporary files to /kaggle/temp/, but they won't be saved outside of the current session"
   ]
  },
  {
   "cell_type": "code",
   "execution_count": 93,
   "metadata": {
    "execution": {
     "iopub.execute_input": "2021-09-14T03:31:37.713953Z",
     "iopub.status.busy": "2021-09-14T03:31:37.713557Z",
     "iopub.status.idle": "2021-09-14T03:31:39.335720Z",
     "shell.execute_reply": "2021-09-14T03:31:39.334741Z",
     "shell.execute_reply.started": "2021-09-14T03:31:37.713915Z"
    }
   },
   "outputs": [],
   "source": [
    "%matplotlib inline\n",
    "import numpy as np\n",
    "import pandas as pd\n",
    "import matplotlib.pyplot as plt\n",
    "import seaborn as sns\n",
    "import scipy as stats\n",
    "from ast import literal_eval\n",
    "from sklearn.feature_extraction.text import TfidfVectorizer,CountVectorizer\n",
    "from sklearn.metrics.pairwise import linear_kernel, cosine_similarity\n",
    "from nltk.stem.snowball import SnowballStemmer\n",
    "from nltk.stem.wordnet import WordNetLemmatizer\n",
    "from nltk.corpus import wordnet\n",
    "\n",
    "\n",
    "pd.pandas.set_option('display.max_columns',None)\n"
   ]
  },
  {
   "cell_type": "markdown",
   "metadata": {},
   "source": [
    "from ast import literal_eval is used to evaluate the python literals like float,int,string etc.\n",
    "eg: code = \"\"\"(1, 2, {'foo': 'bar'})\"\"\" can be evaluated as Tuple when passed through the literal_eval object \n"
   ]
  },
  {
   "cell_type": "markdown",
   "metadata": {},
   "source": [
    "**Simmple Recomender**\n",
    "\n",
    "In this we are going to recommend movies based on the gener and rating or popularity of movie watched by most people "
   ]
  },
  {
   "cell_type": "code",
   "execution_count": 94,
   "metadata": {
    "execution": {
     "iopub.execute_input": "2021-09-14T03:31:39.337552Z",
     "iopub.status.busy": "2021-09-14T03:31:39.337289Z",
     "iopub.status.idle": "2021-09-14T03:31:40.481020Z",
     "shell.execute_reply": "2021-09-14T03:31:40.480090Z",
     "shell.execute_reply.started": "2021-09-14T03:31:39.337526Z"
    }
   },
   "outputs": [
    {
     "name": "stderr",
     "output_type": "stream",
     "text": [
      "C:\\Python 38\\lib\\site-packages\\IPython\\core\\interactiveshell.py:3441: DtypeWarning: Columns (10) have mixed types.Specify dtype option on import or set low_memory=False.\n",
      "  exec(code_obj, self.user_global_ns, self.user_ns)\n"
     ]
    },
    {
     "data": {
      "text/html": [
       "<div>\n",
       "<style scoped>\n",
       "    .dataframe tbody tr th:only-of-type {\n",
       "        vertical-align: middle;\n",
       "    }\n",
       "\n",
       "    .dataframe tbody tr th {\n",
       "        vertical-align: top;\n",
       "    }\n",
       "\n",
       "    .dataframe thead th {\n",
       "        text-align: right;\n",
       "    }\n",
       "</style>\n",
       "<table border=\"1\" class=\"dataframe\">\n",
       "  <thead>\n",
       "    <tr style=\"text-align: right;\">\n",
       "      <th></th>\n",
       "      <th>adult</th>\n",
       "      <th>belongs_to_collection</th>\n",
       "      <th>budget</th>\n",
       "      <th>genres</th>\n",
       "      <th>homepage</th>\n",
       "      <th>id</th>\n",
       "      <th>imdb_id</th>\n",
       "      <th>original_language</th>\n",
       "      <th>original_title</th>\n",
       "      <th>overview</th>\n",
       "      <th>popularity</th>\n",
       "      <th>poster_path</th>\n",
       "      <th>production_companies</th>\n",
       "      <th>production_countries</th>\n",
       "      <th>release_date</th>\n",
       "      <th>revenue</th>\n",
       "      <th>runtime</th>\n",
       "      <th>spoken_languages</th>\n",
       "      <th>status</th>\n",
       "      <th>tagline</th>\n",
       "      <th>title</th>\n",
       "      <th>video</th>\n",
       "      <th>vote_average</th>\n",
       "      <th>vote_count</th>\n",
       "    </tr>\n",
       "  </thead>\n",
       "  <tbody>\n",
       "    <tr>\n",
       "      <th>0</th>\n",
       "      <td>False</td>\n",
       "      <td>{'id': 10194, 'name': 'Toy Story Collection', 'poster_pa...</td>\n",
       "      <td>30000000</td>\n",
       "      <td>[{'id': 16, 'name': 'Animation'}, {'id': 35, 'name': 'Co...</td>\n",
       "      <td>http://toystory.disney.com/toy-story</td>\n",
       "      <td>862</td>\n",
       "      <td>tt0114709</td>\n",
       "      <td>en</td>\n",
       "      <td>Toy Story</td>\n",
       "      <td>Led by Woody, Andy's toys live happily in his room until...</td>\n",
       "      <td>21.946943</td>\n",
       "      <td>/rhIRbceoE9lR4veEXuwCC2wARtG.jpg</td>\n",
       "      <td>[{'name': 'Pixar Animation Studios', 'id': 3}]</td>\n",
       "      <td>[{'iso_3166_1': 'US', 'name': 'United States of America'}]</td>\n",
       "      <td>1995-10-30</td>\n",
       "      <td>373554033.0</td>\n",
       "      <td>81.0</td>\n",
       "      <td>[{'iso_639_1': 'en', 'name': 'English'}]</td>\n",
       "      <td>Released</td>\n",
       "      <td>NaN</td>\n",
       "      <td>Toy Story</td>\n",
       "      <td>False</td>\n",
       "      <td>7.7</td>\n",
       "      <td>5415.0</td>\n",
       "    </tr>\n",
       "    <tr>\n",
       "      <th>1</th>\n",
       "      <td>False</td>\n",
       "      <td>NaN</td>\n",
       "      <td>65000000</td>\n",
       "      <td>[{'id': 12, 'name': 'Adventure'}, {'id': 14, 'name': 'Fa...</td>\n",
       "      <td>NaN</td>\n",
       "      <td>8844</td>\n",
       "      <td>tt0113497</td>\n",
       "      <td>en</td>\n",
       "      <td>Jumanji</td>\n",
       "      <td>When siblings Judy and Peter discover an enchanted board...</td>\n",
       "      <td>17.015539</td>\n",
       "      <td>/vzmL6fP7aPKNKPRTFnZmiUfciyV.jpg</td>\n",
       "      <td>[{'name': 'TriStar Pictures', 'id': 559}, {'name': 'Teit...</td>\n",
       "      <td>[{'iso_3166_1': 'US', 'name': 'United States of America'}]</td>\n",
       "      <td>1995-12-15</td>\n",
       "      <td>262797249.0</td>\n",
       "      <td>104.0</td>\n",
       "      <td>[{'iso_639_1': 'en', 'name': 'English'}, {'iso_639_1': '...</td>\n",
       "      <td>Released</td>\n",
       "      <td>Roll the dice and unleash the excitement!</td>\n",
       "      <td>Jumanji</td>\n",
       "      <td>False</td>\n",
       "      <td>6.9</td>\n",
       "      <td>2413.0</td>\n",
       "    </tr>\n",
       "    <tr>\n",
       "      <th>2</th>\n",
       "      <td>False</td>\n",
       "      <td>{'id': 119050, 'name': 'Grumpy Old Men Collection', 'pos...</td>\n",
       "      <td>0</td>\n",
       "      <td>[{'id': 10749, 'name': 'Romance'}, {'id': 35, 'name': 'C...</td>\n",
       "      <td>NaN</td>\n",
       "      <td>15602</td>\n",
       "      <td>tt0113228</td>\n",
       "      <td>en</td>\n",
       "      <td>Grumpier Old Men</td>\n",
       "      <td>A family wedding reignites the ancient feud between next...</td>\n",
       "      <td>11.7129</td>\n",
       "      <td>/6ksm1sjKMFLbO7UY2i6G1ju9SML.jpg</td>\n",
       "      <td>[{'name': 'Warner Bros.', 'id': 6194}, {'name': 'Lancast...</td>\n",
       "      <td>[{'iso_3166_1': 'US', 'name': 'United States of America'}]</td>\n",
       "      <td>1995-12-22</td>\n",
       "      <td>0.0</td>\n",
       "      <td>101.0</td>\n",
       "      <td>[{'iso_639_1': 'en', 'name': 'English'}]</td>\n",
       "      <td>Released</td>\n",
       "      <td>Still Yelling. Still Fighting. Still Ready for Love.</td>\n",
       "      <td>Grumpier Old Men</td>\n",
       "      <td>False</td>\n",
       "      <td>6.5</td>\n",
       "      <td>92.0</td>\n",
       "    </tr>\n",
       "    <tr>\n",
       "      <th>3</th>\n",
       "      <td>False</td>\n",
       "      <td>NaN</td>\n",
       "      <td>16000000</td>\n",
       "      <td>[{'id': 35, 'name': 'Comedy'}, {'id': 18, 'name': 'Drama...</td>\n",
       "      <td>NaN</td>\n",
       "      <td>31357</td>\n",
       "      <td>tt0114885</td>\n",
       "      <td>en</td>\n",
       "      <td>Waiting to Exhale</td>\n",
       "      <td>Cheated on, mistreated and stepped on, the women are hol...</td>\n",
       "      <td>3.859495</td>\n",
       "      <td>/16XOMpEaLWkrcPqSQqhTmeJuqQl.jpg</td>\n",
       "      <td>[{'name': 'Twentieth Century Fox Film Corporation', 'id'...</td>\n",
       "      <td>[{'iso_3166_1': 'US', 'name': 'United States of America'}]</td>\n",
       "      <td>1995-12-22</td>\n",
       "      <td>81452156.0</td>\n",
       "      <td>127.0</td>\n",
       "      <td>[{'iso_639_1': 'en', 'name': 'English'}]</td>\n",
       "      <td>Released</td>\n",
       "      <td>Friends are the people who let you be yourself... and ne...</td>\n",
       "      <td>Waiting to Exhale</td>\n",
       "      <td>False</td>\n",
       "      <td>6.1</td>\n",
       "      <td>34.0</td>\n",
       "    </tr>\n",
       "    <tr>\n",
       "      <th>4</th>\n",
       "      <td>False</td>\n",
       "      <td>{'id': 96871, 'name': 'Father of the Bride Collection', ...</td>\n",
       "      <td>0</td>\n",
       "      <td>[{'id': 35, 'name': 'Comedy'}]</td>\n",
       "      <td>NaN</td>\n",
       "      <td>11862</td>\n",
       "      <td>tt0113041</td>\n",
       "      <td>en</td>\n",
       "      <td>Father of the Bride Part II</td>\n",
       "      <td>Just when George Banks has recovered from his daughter's...</td>\n",
       "      <td>8.387519</td>\n",
       "      <td>/e64sOI48hQXyru7naBFyssKFxVd.jpg</td>\n",
       "      <td>[{'name': 'Sandollar Productions', 'id': 5842}, {'name':...</td>\n",
       "      <td>[{'iso_3166_1': 'US', 'name': 'United States of America'}]</td>\n",
       "      <td>1995-02-10</td>\n",
       "      <td>76578911.0</td>\n",
       "      <td>106.0</td>\n",
       "      <td>[{'iso_639_1': 'en', 'name': 'English'}]</td>\n",
       "      <td>Released</td>\n",
       "      <td>Just When His World Is Back To Normal... He's In For The...</td>\n",
       "      <td>Father of the Bride Part II</td>\n",
       "      <td>False</td>\n",
       "      <td>5.7</td>\n",
       "      <td>173.0</td>\n",
       "    </tr>\n",
       "  </tbody>\n",
       "</table>\n",
       "</div>"
      ],
      "text/plain": [
       "   adult                                        belongs_to_collection  \\\n",
       "0  False  {'id': 10194, 'name': 'Toy Story Collection', 'poster_pa...   \n",
       "1  False                                                          NaN   \n",
       "2  False  {'id': 119050, 'name': 'Grumpy Old Men Collection', 'pos...   \n",
       "3  False                                                          NaN   \n",
       "4  False  {'id': 96871, 'name': 'Father of the Bride Collection', ...   \n",
       "\n",
       "     budget                                                       genres  \\\n",
       "0  30000000  [{'id': 16, 'name': 'Animation'}, {'id': 35, 'name': 'Co...   \n",
       "1  65000000  [{'id': 12, 'name': 'Adventure'}, {'id': 14, 'name': 'Fa...   \n",
       "2         0  [{'id': 10749, 'name': 'Romance'}, {'id': 35, 'name': 'C...   \n",
       "3  16000000  [{'id': 35, 'name': 'Comedy'}, {'id': 18, 'name': 'Drama...   \n",
       "4         0                               [{'id': 35, 'name': 'Comedy'}]   \n",
       "\n",
       "                               homepage     id    imdb_id original_language  \\\n",
       "0  http://toystory.disney.com/toy-story    862  tt0114709                en   \n",
       "1                                   NaN   8844  tt0113497                en   \n",
       "2                                   NaN  15602  tt0113228                en   \n",
       "3                                   NaN  31357  tt0114885                en   \n",
       "4                                   NaN  11862  tt0113041                en   \n",
       "\n",
       "                original_title  \\\n",
       "0                    Toy Story   \n",
       "1                      Jumanji   \n",
       "2             Grumpier Old Men   \n",
       "3            Waiting to Exhale   \n",
       "4  Father of the Bride Part II   \n",
       "\n",
       "                                                      overview popularity  \\\n",
       "0  Led by Woody, Andy's toys live happily in his room until...  21.946943   \n",
       "1  When siblings Judy and Peter discover an enchanted board...  17.015539   \n",
       "2  A family wedding reignites the ancient feud between next...    11.7129   \n",
       "3  Cheated on, mistreated and stepped on, the women are hol...   3.859495   \n",
       "4  Just when George Banks has recovered from his daughter's...   8.387519   \n",
       "\n",
       "                        poster_path  \\\n",
       "0  /rhIRbceoE9lR4veEXuwCC2wARtG.jpg   \n",
       "1  /vzmL6fP7aPKNKPRTFnZmiUfciyV.jpg   \n",
       "2  /6ksm1sjKMFLbO7UY2i6G1ju9SML.jpg   \n",
       "3  /16XOMpEaLWkrcPqSQqhTmeJuqQl.jpg   \n",
       "4  /e64sOI48hQXyru7naBFyssKFxVd.jpg   \n",
       "\n",
       "                                          production_companies  \\\n",
       "0               [{'name': 'Pixar Animation Studios', 'id': 3}]   \n",
       "1  [{'name': 'TriStar Pictures', 'id': 559}, {'name': 'Teit...   \n",
       "2  [{'name': 'Warner Bros.', 'id': 6194}, {'name': 'Lancast...   \n",
       "3  [{'name': 'Twentieth Century Fox Film Corporation', 'id'...   \n",
       "4  [{'name': 'Sandollar Productions', 'id': 5842}, {'name':...   \n",
       "\n",
       "                                         production_countries release_date  \\\n",
       "0  [{'iso_3166_1': 'US', 'name': 'United States of America'}]   1995-10-30   \n",
       "1  [{'iso_3166_1': 'US', 'name': 'United States of America'}]   1995-12-15   \n",
       "2  [{'iso_3166_1': 'US', 'name': 'United States of America'}]   1995-12-22   \n",
       "3  [{'iso_3166_1': 'US', 'name': 'United States of America'}]   1995-12-22   \n",
       "4  [{'iso_3166_1': 'US', 'name': 'United States of America'}]   1995-02-10   \n",
       "\n",
       "       revenue  runtime  \\\n",
       "0  373554033.0     81.0   \n",
       "1  262797249.0    104.0   \n",
       "2          0.0    101.0   \n",
       "3   81452156.0    127.0   \n",
       "4   76578911.0    106.0   \n",
       "\n",
       "                                              spoken_languages    status  \\\n",
       "0                     [{'iso_639_1': 'en', 'name': 'English'}]  Released   \n",
       "1  [{'iso_639_1': 'en', 'name': 'English'}, {'iso_639_1': '...  Released   \n",
       "2                     [{'iso_639_1': 'en', 'name': 'English'}]  Released   \n",
       "3                     [{'iso_639_1': 'en', 'name': 'English'}]  Released   \n",
       "4                     [{'iso_639_1': 'en', 'name': 'English'}]  Released   \n",
       "\n",
       "                                                       tagline  \\\n",
       "0                                                          NaN   \n",
       "1                    Roll the dice and unleash the excitement!   \n",
       "2         Still Yelling. Still Fighting. Still Ready for Love.   \n",
       "3  Friends are the people who let you be yourself... and ne...   \n",
       "4  Just When His World Is Back To Normal... He's In For The...   \n",
       "\n",
       "                         title  video  vote_average  vote_count  \n",
       "0                    Toy Story  False           7.7      5415.0  \n",
       "1                      Jumanji  False           6.9      2413.0  \n",
       "2             Grumpier Old Men  False           6.5        92.0  \n",
       "3            Waiting to Exhale  False           6.1        34.0  \n",
       "4  Father of the Bride Part II  False           5.7       173.0  "
      ]
     },
     "execution_count": 94,
     "metadata": {},
     "output_type": "execute_result"
    }
   ],
   "source": [
    "md = pd.read_csv('movies_metadata.csv')\n",
    "md.head()"
   ]
  },
  {
   "cell_type": "code",
   "execution_count": 95,
   "metadata": {
    "execution": {
     "iopub.execute_input": "2021-09-14T03:31:40.482893Z",
     "iopub.status.busy": "2021-09-14T03:31:40.482588Z",
     "iopub.status.idle": "2021-09-14T03:31:41.852900Z",
     "shell.execute_reply": "2021-09-14T03:31:41.851969Z",
     "shell.execute_reply.started": "2021-09-14T03:31:40.482866Z"
    }
   },
   "outputs": [],
   "source": [
    "md['genres'] = md['genres'].fillna('[]').apply(literal_eval).apply(lambda x: [i['name'] for i in x]if isinstance(x,list) else [])"
   ]
  },
  {
   "cell_type": "markdown",
   "metadata": {},
   "source": [
    "From the above we are taking out the genres values from the dictionary such that the name from the data alone is picked up and made into list. here literal_eval will evaluate the list we gave in the fillna and will apply the same."
   ]
  },
  {
   "cell_type": "markdown",
   "metadata": {},
   "source": [
    "TMBD Rating is used for Top Movie rating. we will be using IMDB Weighted Rating to construct the chart"
   ]
  },
  {
   "cell_type": "markdown",
   "metadata": {},
   "source": [
    "Weighted Rating (WR) =  (vv+m.R)+(mv+m.C) \n",
    "where,\n",
    "\n",
    "v is the number of votes for the movie\n",
    "m is the minimum votes required to be listed in the chart\n",
    "R is the average rating of the movie\n",
    "C is the mean vote across the whole report\n",
    "\n",
    "value of m is determined by taking 95th percentile as the cutoff. i.e we are taking movies having more votes than 95%"
   ]
  },
  {
   "cell_type": "code",
   "execution_count": 96,
   "metadata": {
    "execution": {
     "iopub.execute_input": "2021-09-14T03:31:41.854711Z",
     "iopub.status.busy": "2021-09-14T03:31:41.854243Z",
     "iopub.status.idle": "2021-09-14T03:31:41.863186Z",
     "shell.execute_reply": "2021-09-14T03:31:41.861841Z",
     "shell.execute_reply.started": "2021-09-14T03:31:41.854652Z"
    }
   },
   "outputs": [
    {
     "data": {
      "text/plain": [
       "0        5415.0\n",
       "1        2413.0\n",
       "2          92.0\n",
       "3          34.0\n",
       "4         173.0\n",
       "          ...  \n",
       "45461       1.0\n",
       "45462       3.0\n",
       "45463       6.0\n",
       "45464       0.0\n",
       "45465       0.0\n",
       "Name: vote_count, Length: 45466, dtype: float64"
      ]
     },
     "execution_count": 96,
     "metadata": {},
     "output_type": "execute_result"
    }
   ],
   "source": [
    "md['vote_count']"
   ]
  },
  {
   "cell_type": "code",
   "execution_count": 97,
   "metadata": {
    "execution": {
     "iopub.execute_input": "2021-09-14T03:31:41.864676Z",
     "iopub.status.busy": "2021-09-14T03:31:41.864409Z",
     "iopub.status.idle": "2021-09-14T03:31:41.916840Z",
     "shell.execute_reply": "2021-09-14T03:31:41.915755Z",
     "shell.execute_reply.started": "2021-09-14T03:31:41.864651Z"
    }
   },
   "outputs": [
    {
     "data": {
      "text/plain": [
       "5.244896612406511"
      ]
     },
     "execution_count": 97,
     "metadata": {},
     "output_type": "execute_result"
    }
   ],
   "source": [
    "vote_count= md[md['vote_count'].notnull()]['vote_count'].astype('int')\n",
    "vote_averages = md[md['vote_average'].notnull()]['vote_average'].astype('int')\n",
    "C = vote_averages.mean()\n",
    "C"
   ]
  },
  {
   "cell_type": "markdown",
   "metadata": {},
   "source": [
    "In the above we are taking the notnull values alone and changeing the data type as 'int'"
   ]
  },
  {
   "cell_type": "code",
   "execution_count": 98,
   "metadata": {
    "execution": {
     "iopub.execute_input": "2021-09-14T03:31:41.919687Z",
     "iopub.status.busy": "2021-09-14T03:31:41.919304Z",
     "iopub.status.idle": "2021-09-14T03:31:41.930269Z",
     "shell.execute_reply": "2021-09-14T03:31:41.929414Z",
     "shell.execute_reply.started": "2021-09-14T03:31:41.919648Z"
    }
   },
   "outputs": [
    {
     "data": {
      "text/plain": [
       "434.0"
      ]
     },
     "execution_count": 98,
     "metadata": {},
     "output_type": "execute_result"
    }
   ],
   "source": [
    "m = vote_count.quantile(0.95)\n",
    "m"
   ]
  },
  {
   "cell_type": "markdown",
   "metadata": {},
   "source": [
    "Above shows that for 95th Percentile the votecount of the movies must be above 434 and those movies are taken for consideration"
   ]
  },
  {
   "cell_type": "code",
   "execution_count": 99,
   "metadata": {
    "execution": {
     "iopub.execute_input": "2021-09-14T03:31:41.932991Z",
     "iopub.status.busy": "2021-09-14T03:31:41.932413Z",
     "iopub.status.idle": "2021-09-14T03:31:41.942104Z",
     "shell.execute_reply": "2021-09-14T03:31:41.941347Z",
     "shell.execute_reply.started": "2021-09-14T03:31:41.932949Z"
    }
   },
   "outputs": [
    {
     "data": {
      "text/plain": [
       "0        1995-10-30\n",
       "1        1995-12-15\n",
       "2        1995-12-22\n",
       "3        1995-12-22\n",
       "4        1995-02-10\n",
       "            ...    \n",
       "45461           NaN\n",
       "45462    2011-11-17\n",
       "45463    2003-08-01\n",
       "45464    1917-10-21\n",
       "45465    2017-06-09\n",
       "Name: release_date, Length: 45466, dtype: object"
      ]
     },
     "execution_count": 99,
     "metadata": {},
     "output_type": "execute_result"
    }
   ],
   "source": [
    "md['release_date']"
   ]
  },
  {
   "cell_type": "code",
   "execution_count": 100,
   "metadata": {
    "execution": {
     "iopub.execute_input": "2021-09-14T03:31:41.943399Z",
     "iopub.status.busy": "2021-09-14T03:31:41.943154Z",
     "iopub.status.idle": "2021-09-14T03:31:41.970471Z",
     "shell.execute_reply": "2021-09-14T03:31:41.969444Z",
     "shell.execute_reply.started": "2021-09-14T03:31:41.943376Z"
    }
   },
   "outputs": [
    {
     "data": {
      "text/plain": [
       "0       1995-10-30\n",
       "1       1995-12-15\n",
       "2       1995-12-22\n",
       "3       1995-12-22\n",
       "4       1995-02-10\n",
       "           ...    \n",
       "45461          NaT\n",
       "45462   2011-11-17\n",
       "45463   2003-08-01\n",
       "45464   1917-10-21\n",
       "45465   2017-06-09\n",
       "Name: release_date, Length: 45466, dtype: datetime64[ns]"
      ]
     },
     "execution_count": 100,
     "metadata": {},
     "output_type": "execute_result"
    }
   ],
   "source": [
    "pd.to_datetime(md['release_date'], errors='coerce')"
   ]
  },
  {
   "cell_type": "code",
   "execution_count": 101,
   "metadata": {
    "execution": {
     "iopub.execute_input": "2021-09-14T03:31:41.972058Z",
     "iopub.status.busy": "2021-09-14T03:31:41.971718Z",
     "iopub.status.idle": "2021-09-14T03:31:42.248524Z",
     "shell.execute_reply": "2021-09-14T03:31:42.247662Z",
     "shell.execute_reply.started": "2021-09-14T03:31:41.972029Z"
    }
   },
   "outputs": [],
   "source": [
    "md['year'] = pd.to_datetime(md['release_date'], errors='coerce').apply(lambda x: str(x).split('-')[0] if x != np.nan else np.nan)"
   ]
  },
  {
   "cell_type": "markdown",
   "metadata": {},
   "source": [
    "The above will get the year from the release_date, to_datetime will convert the pandas datetime to datafram "
   ]
  },
  {
   "cell_type": "code",
   "execution_count": 102,
   "metadata": {
    "execution": {
     "iopub.execute_input": "2021-09-14T03:31:42.250029Z",
     "iopub.status.busy": "2021-09-14T03:31:42.249745Z",
     "iopub.status.idle": "2021-09-14T03:31:42.316503Z",
     "shell.execute_reply": "2021-09-14T03:31:42.315565Z",
     "shell.execute_reply.started": "2021-09-14T03:31:42.250000Z"
    }
   },
   "outputs": [
    {
     "data": {
      "text/plain": [
       "(2274, 6)"
      ]
     },
     "execution_count": 102,
     "metadata": {},
     "output_type": "execute_result"
    }
   ],
   "source": [
    "qualified = md[(md['vote_count'] >= m) & (md['vote_count'].notnull()) & (md['vote_average'].notnull())][['title', 'year', 'vote_count', 'vote_average', 'popularity', 'genres']]\n",
    "qualified['vote_count'] = qualified['vote_count'].astype('int')\n",
    "qualified['vote_average'] = qualified['vote_average'].astype('int')\n",
    "qualified.shape"
   ]
  },
  {
   "cell_type": "markdown",
   "metadata": {},
   "source": [
    "creating the new dataset containing the votecount graeter then the 95% percentile votecount ignoring the null values both from  vote_count and vote_average. and changing the type as int\n",
    "\n",
    "\n",
    "we can see the vote count of the movie must be above 434, and the avarage rating will be 5.244896612406511"
   ]
  },
  {
   "cell_type": "code",
   "execution_count": 103,
   "metadata": {
    "execution": {
     "iopub.execute_input": "2021-09-14T03:31:42.317774Z",
     "iopub.status.busy": "2021-09-14T03:31:42.317518Z",
     "iopub.status.idle": "2021-09-14T03:31:42.322184Z",
     "shell.execute_reply": "2021-09-14T03:31:42.321290Z",
     "shell.execute_reply.started": "2021-09-14T03:31:42.317748Z"
    }
   },
   "outputs": [],
   "source": [
    "def weig_rat(x):\n",
    "    v = x['vote_count']\n",
    "    R = x['vote_average']\n",
    "    return (v/(v+m)*R) + (m/(m+v)*C)"
   ]
  },
  {
   "cell_type": "code",
   "execution_count": 104,
   "metadata": {
    "execution": {
     "iopub.execute_input": "2021-09-14T03:31:42.323773Z",
     "iopub.status.busy": "2021-09-14T03:31:42.323484Z",
     "iopub.status.idle": "2021-09-14T03:31:42.368737Z",
     "shell.execute_reply": "2021-09-14T03:31:42.367797Z",
     "shell.execute_reply.started": "2021-09-14T03:31:42.323747Z"
    }
   },
   "outputs": [],
   "source": [
    "qualified['wr'] = qualified.apply(weig_rat,axis = 1)"
   ]
  },
  {
   "cell_type": "code",
   "execution_count": 105,
   "metadata": {
    "execution": {
     "iopub.execute_input": "2021-09-14T03:31:42.370192Z",
     "iopub.status.busy": "2021-09-14T03:31:42.369915Z",
     "iopub.status.idle": "2021-09-14T03:31:42.383832Z",
     "shell.execute_reply": "2021-09-14T03:31:42.383128Z",
     "shell.execute_reply.started": "2021-09-14T03:31:42.370164Z"
    }
   },
   "outputs": [
    {
     "data": {
      "text/html": [
       "<div>\n",
       "<style scoped>\n",
       "    .dataframe tbody tr th:only-of-type {\n",
       "        vertical-align: middle;\n",
       "    }\n",
       "\n",
       "    .dataframe tbody tr th {\n",
       "        vertical-align: top;\n",
       "    }\n",
       "\n",
       "    .dataframe thead th {\n",
       "        text-align: right;\n",
       "    }\n",
       "</style>\n",
       "<table border=\"1\" class=\"dataframe\">\n",
       "  <thead>\n",
       "    <tr style=\"text-align: right;\">\n",
       "      <th></th>\n",
       "      <th>title</th>\n",
       "      <th>year</th>\n",
       "      <th>vote_count</th>\n",
       "      <th>vote_average</th>\n",
       "      <th>popularity</th>\n",
       "      <th>genres</th>\n",
       "      <th>wr</th>\n",
       "    </tr>\n",
       "  </thead>\n",
       "  <tbody>\n",
       "    <tr>\n",
       "      <th>0</th>\n",
       "      <td>Toy Story</td>\n",
       "      <td>1995</td>\n",
       "      <td>5415</td>\n",
       "      <td>7</td>\n",
       "      <td>21.946943</td>\n",
       "      <td>[Animation, Comedy, Family]</td>\n",
       "      <td>6.869770</td>\n",
       "    </tr>\n",
       "    <tr>\n",
       "      <th>1</th>\n",
       "      <td>Jumanji</td>\n",
       "      <td>1995</td>\n",
       "      <td>2413</td>\n",
       "      <td>6</td>\n",
       "      <td>17.015539</td>\n",
       "      <td>[Adventure, Fantasy, Family]</td>\n",
       "      <td>5.884891</td>\n",
       "    </tr>\n",
       "    <tr>\n",
       "      <th>5</th>\n",
       "      <td>Heat</td>\n",
       "      <td>1995</td>\n",
       "      <td>1886</td>\n",
       "      <td>7</td>\n",
       "      <td>17.924927</td>\n",
       "      <td>[Action, Crime, Drama, Thriller]</td>\n",
       "      <td>6.671675</td>\n",
       "    </tr>\n",
       "    <tr>\n",
       "      <th>9</th>\n",
       "      <td>GoldenEye</td>\n",
       "      <td>1995</td>\n",
       "      <td>1194</td>\n",
       "      <td>6</td>\n",
       "      <td>14.686036</td>\n",
       "      <td>[Adventure, Action, Thriller]</td>\n",
       "      <td>5.798701</td>\n",
       "    </tr>\n",
       "    <tr>\n",
       "      <th>15</th>\n",
       "      <td>Casino</td>\n",
       "      <td>1995</td>\n",
       "      <td>1343</td>\n",
       "      <td>7</td>\n",
       "      <td>10.137389</td>\n",
       "      <td>[Drama, Crime]</td>\n",
       "      <td>6.571348</td>\n",
       "    </tr>\n",
       "  </tbody>\n",
       "</table>\n",
       "</div>"
      ],
      "text/plain": [
       "        title  year  vote_count  vote_average popularity  \\\n",
       "0   Toy Story  1995        5415             7  21.946943   \n",
       "1     Jumanji  1995        2413             6  17.015539   \n",
       "5        Heat  1995        1886             7  17.924927   \n",
       "9   GoldenEye  1995        1194             6  14.686036   \n",
       "15     Casino  1995        1343             7  10.137389   \n",
       "\n",
       "                              genres        wr  \n",
       "0        [Animation, Comedy, Family]  6.869770  \n",
       "1       [Adventure, Fantasy, Family]  5.884891  \n",
       "5   [Action, Crime, Drama, Thriller]  6.671675  \n",
       "9      [Adventure, Action, Thriller]  5.798701  \n",
       "15                    [Drama, Crime]  6.571348  "
      ]
     },
     "execution_count": 105,
     "metadata": {},
     "output_type": "execute_result"
    }
   ],
   "source": [
    "qualified.head()"
   ]
  },
  {
   "cell_type": "markdown",
   "metadata": {},
   "source": [
    "let's sort the values in decending order"
   ]
  },
  {
   "cell_type": "code",
   "execution_count": 106,
   "metadata": {
    "execution": {
     "iopub.execute_input": "2021-09-14T03:31:42.385232Z",
     "iopub.status.busy": "2021-09-14T03:31:42.384832Z",
     "iopub.status.idle": "2021-09-14T03:31:42.394497Z",
     "shell.execute_reply": "2021-09-14T03:31:42.393802Z",
     "shell.execute_reply.started": "2021-09-14T03:31:42.385194Z"
    }
   },
   "outputs": [],
   "source": [
    "qualified = qualified.sort_values('wr',ascending=False).head(250)"
   ]
  },
  {
   "cell_type": "markdown",
   "metadata": {},
   "source": []
  },
  {
   "cell_type": "code",
   "execution_count": 107,
   "metadata": {
    "execution": {
     "iopub.execute_input": "2021-09-14T03:31:42.395859Z",
     "iopub.status.busy": "2021-09-14T03:31:42.395561Z",
     "iopub.status.idle": "2021-09-14T03:31:42.417437Z",
     "shell.execute_reply": "2021-09-14T03:31:42.416526Z",
     "shell.execute_reply.started": "2021-09-14T03:31:42.395826Z"
    }
   },
   "outputs": [
    {
     "data": {
      "text/html": [
       "<div>\n",
       "<style scoped>\n",
       "    .dataframe tbody tr th:only-of-type {\n",
       "        vertical-align: middle;\n",
       "    }\n",
       "\n",
       "    .dataframe tbody tr th {\n",
       "        vertical-align: top;\n",
       "    }\n",
       "\n",
       "    .dataframe thead th {\n",
       "        text-align: right;\n",
       "    }\n",
       "</style>\n",
       "<table border=\"1\" class=\"dataframe\">\n",
       "  <thead>\n",
       "    <tr style=\"text-align: right;\">\n",
       "      <th></th>\n",
       "      <th>title</th>\n",
       "      <th>year</th>\n",
       "      <th>vote_count</th>\n",
       "      <th>vote_average</th>\n",
       "      <th>popularity</th>\n",
       "      <th>genres</th>\n",
       "      <th>wr</th>\n",
       "    </tr>\n",
       "  </thead>\n",
       "  <tbody>\n",
       "    <tr>\n",
       "      <th>15480</th>\n",
       "      <td>Inception</td>\n",
       "      <td>2010</td>\n",
       "      <td>14075</td>\n",
       "      <td>8</td>\n",
       "      <td>29.108149</td>\n",
       "      <td>[Action, Thriller, Science Fiction, Mystery, Adventure]</td>\n",
       "      <td>7.917588</td>\n",
       "    </tr>\n",
       "    <tr>\n",
       "      <th>12481</th>\n",
       "      <td>The Dark Knight</td>\n",
       "      <td>2008</td>\n",
       "      <td>12269</td>\n",
       "      <td>8</td>\n",
       "      <td>123.167259</td>\n",
       "      <td>[Drama, Action, Crime, Thriller]</td>\n",
       "      <td>7.905871</td>\n",
       "    </tr>\n",
       "    <tr>\n",
       "      <th>22879</th>\n",
       "      <td>Interstellar</td>\n",
       "      <td>2014</td>\n",
       "      <td>11187</td>\n",
       "      <td>8</td>\n",
       "      <td>32.213481</td>\n",
       "      <td>[Adventure, Drama, Science Fiction]</td>\n",
       "      <td>7.897107</td>\n",
       "    </tr>\n",
       "    <tr>\n",
       "      <th>2843</th>\n",
       "      <td>Fight Club</td>\n",
       "      <td>1999</td>\n",
       "      <td>9678</td>\n",
       "      <td>8</td>\n",
       "      <td>63.869599</td>\n",
       "      <td>[Drama]</td>\n",
       "      <td>7.881753</td>\n",
       "    </tr>\n",
       "    <tr>\n",
       "      <th>4863</th>\n",
       "      <td>The Lord of the Rings: The Fellowship of the Ring</td>\n",
       "      <td>2001</td>\n",
       "      <td>8892</td>\n",
       "      <td>8</td>\n",
       "      <td>32.070725</td>\n",
       "      <td>[Adventure, Fantasy, Action]</td>\n",
       "      <td>7.871787</td>\n",
       "    </tr>\n",
       "    <tr>\n",
       "      <th>292</th>\n",
       "      <td>Pulp Fiction</td>\n",
       "      <td>1994</td>\n",
       "      <td>8670</td>\n",
       "      <td>8</td>\n",
       "      <td>140.950236</td>\n",
       "      <td>[Thriller, Crime]</td>\n",
       "      <td>7.868660</td>\n",
       "    </tr>\n",
       "    <tr>\n",
       "      <th>314</th>\n",
       "      <td>The Shawshank Redemption</td>\n",
       "      <td>1994</td>\n",
       "      <td>8358</td>\n",
       "      <td>8</td>\n",
       "      <td>51.645403</td>\n",
       "      <td>[Drama, Crime]</td>\n",
       "      <td>7.864000</td>\n",
       "    </tr>\n",
       "    <tr>\n",
       "      <th>7000</th>\n",
       "      <td>The Lord of the Rings: The Return of the King</td>\n",
       "      <td>2003</td>\n",
       "      <td>8226</td>\n",
       "      <td>8</td>\n",
       "      <td>29.324358</td>\n",
       "      <td>[Adventure, Fantasy, Action]</td>\n",
       "      <td>7.861927</td>\n",
       "    </tr>\n",
       "    <tr>\n",
       "      <th>351</th>\n",
       "      <td>Forrest Gump</td>\n",
       "      <td>1994</td>\n",
       "      <td>8147</td>\n",
       "      <td>8</td>\n",
       "      <td>48.307194</td>\n",
       "      <td>[Comedy, Drama, Romance]</td>\n",
       "      <td>7.860656</td>\n",
       "    </tr>\n",
       "    <tr>\n",
       "      <th>5814</th>\n",
       "      <td>The Lord of the Rings: The Two Towers</td>\n",
       "      <td>2002</td>\n",
       "      <td>7641</td>\n",
       "      <td>8</td>\n",
       "      <td>29.423537</td>\n",
       "      <td>[Adventure, Fantasy, Action]</td>\n",
       "      <td>7.851924</td>\n",
       "    </tr>\n",
       "    <tr>\n",
       "      <th>256</th>\n",
       "      <td>Star Wars</td>\n",
       "      <td>1977</td>\n",
       "      <td>6778</td>\n",
       "      <td>8</td>\n",
       "      <td>42.149697</td>\n",
       "      <td>[Adventure, Action, Science Fiction]</td>\n",
       "      <td>7.834205</td>\n",
       "    </tr>\n",
       "    <tr>\n",
       "      <th>1225</th>\n",
       "      <td>Back to the Future</td>\n",
       "      <td>1985</td>\n",
       "      <td>6239</td>\n",
       "      <td>8</td>\n",
       "      <td>25.778509</td>\n",
       "      <td>[Adventure, Comedy, Science Fiction, Family]</td>\n",
       "      <td>7.820813</td>\n",
       "    </tr>\n",
       "    <tr>\n",
       "      <th>834</th>\n",
       "      <td>The Godfather</td>\n",
       "      <td>1972</td>\n",
       "      <td>6024</td>\n",
       "      <td>8</td>\n",
       "      <td>41.109264</td>\n",
       "      <td>[Drama, Crime]</td>\n",
       "      <td>7.814847</td>\n",
       "    </tr>\n",
       "    <tr>\n",
       "      <th>1154</th>\n",
       "      <td>The Empire Strikes Back</td>\n",
       "      <td>1980</td>\n",
       "      <td>5998</td>\n",
       "      <td>8</td>\n",
       "      <td>19.470959</td>\n",
       "      <td>[Adventure, Action, Science Fiction]</td>\n",
       "      <td>7.814099</td>\n",
       "    </tr>\n",
       "    <tr>\n",
       "      <th>46</th>\n",
       "      <td>Se7en</td>\n",
       "      <td>1995</td>\n",
       "      <td>5915</td>\n",
       "      <td>8</td>\n",
       "      <td>18.45743</td>\n",
       "      <td>[Crime, Mystery, Thriller]</td>\n",
       "      <td>7.811669</td>\n",
       "    </tr>\n",
       "  </tbody>\n",
       "</table>\n",
       "</div>"
      ],
      "text/plain": [
       "                                                   title  year  vote_count  \\\n",
       "15480                                          Inception  2010       14075   \n",
       "12481                                    The Dark Knight  2008       12269   \n",
       "22879                                       Interstellar  2014       11187   \n",
       "2843                                          Fight Club  1999        9678   \n",
       "4863   The Lord of the Rings: The Fellowship of the Ring  2001        8892   \n",
       "292                                         Pulp Fiction  1994        8670   \n",
       "314                             The Shawshank Redemption  1994        8358   \n",
       "7000       The Lord of the Rings: The Return of the King  2003        8226   \n",
       "351                                         Forrest Gump  1994        8147   \n",
       "5814               The Lord of the Rings: The Two Towers  2002        7641   \n",
       "256                                            Star Wars  1977        6778   \n",
       "1225                                  Back to the Future  1985        6239   \n",
       "834                                        The Godfather  1972        6024   \n",
       "1154                             The Empire Strikes Back  1980        5998   \n",
       "46                                                 Se7en  1995        5915   \n",
       "\n",
       "       vote_average  popularity  \\\n",
       "15480             8   29.108149   \n",
       "12481             8  123.167259   \n",
       "22879             8   32.213481   \n",
       "2843              8   63.869599   \n",
       "4863              8   32.070725   \n",
       "292               8  140.950236   \n",
       "314               8   51.645403   \n",
       "7000              8   29.324358   \n",
       "351               8   48.307194   \n",
       "5814              8   29.423537   \n",
       "256               8   42.149697   \n",
       "1225              8   25.778509   \n",
       "834               8   41.109264   \n",
       "1154              8   19.470959   \n",
       "46                8    18.45743   \n",
       "\n",
       "                                                        genres        wr  \n",
       "15480  [Action, Thriller, Science Fiction, Mystery, Adventure]  7.917588  \n",
       "12481                         [Drama, Action, Crime, Thriller]  7.905871  \n",
       "22879                      [Adventure, Drama, Science Fiction]  7.897107  \n",
       "2843                                                   [Drama]  7.881753  \n",
       "4863                              [Adventure, Fantasy, Action]  7.871787  \n",
       "292                                          [Thriller, Crime]  7.868660  \n",
       "314                                             [Drama, Crime]  7.864000  \n",
       "7000                              [Adventure, Fantasy, Action]  7.861927  \n",
       "351                                   [Comedy, Drama, Romance]  7.860656  \n",
       "5814                              [Adventure, Fantasy, Action]  7.851924  \n",
       "256                       [Adventure, Action, Science Fiction]  7.834205  \n",
       "1225              [Adventure, Comedy, Science Fiction, Family]  7.820813  \n",
       "834                                             [Drama, Crime]  7.814847  \n",
       "1154                      [Adventure, Action, Science Fiction]  7.814099  \n",
       "46                                  [Crime, Mystery, Thriller]  7.811669  "
      ]
     },
     "execution_count": 107,
     "metadata": {},
     "output_type": "execute_result"
    }
   ],
   "source": [
    "qualified.head(15)"
   ]
  },
  {
   "cell_type": "markdown",
   "metadata": {
    "execution": {
     "iopub.execute_input": "2021-08-13T05:38:59.939672Z",
     "iopub.status.busy": "2021-08-13T05:38:59.939128Z",
     "iopub.status.idle": "2021-08-13T05:38:59.944923Z",
     "shell.execute_reply": "2021-08-13T05:38:59.943698Z",
     "shell.execute_reply.started": "2021-08-13T05:38:59.939635Z"
    }
   },
   "source": [
    "We can see that inception dark knight are having higher weighted rating which are christopher nolan film"
   ]
  },
  {
   "cell_type": "code",
   "execution_count": 108,
   "metadata": {
    "execution": {
     "iopub.execute_input": "2021-09-14T03:31:42.419244Z",
     "iopub.status.busy": "2021-09-14T03:31:42.418754Z",
     "iopub.status.idle": "2021-09-14T03:31:59.698195Z",
     "shell.execute_reply": "2021-09-14T03:31:59.697240Z",
     "shell.execute_reply.started": "2021-09-14T03:31:42.419204Z"
    }
   },
   "outputs": [
    {
     "name": "stderr",
     "output_type": "stream",
     "text": [
      "<ipython-input-108-0620b81dcd12>:1: DeprecationWarning: The default dtype for empty Series will be 'object' instead of 'float64' in a future version. Specify a dtype explicitly to silence this warning.\n",
      "  s = md.apply(lambda x: pd.Series(x['genres']),axis=1).stack().reset_index(level=1, drop=True)\n"
     ]
    }
   ],
   "source": [
    "s = md.apply(lambda x: pd.Series(x['genres']),axis=1).stack().reset_index(level=1, drop=True)"
   ]
  },
  {
   "cell_type": "markdown",
   "metadata": {},
   "source": [
    "here we are taking the genres column and making it as a series the stack() Function will make the list of geners for movie as a stack and having the same index for the geners of the specific movie"
   ]
  },
  {
   "cell_type": "code",
   "execution_count": 109,
   "metadata": {
    "execution": {
     "iopub.execute_input": "2021-09-14T03:31:59.699573Z",
     "iopub.status.busy": "2021-09-14T03:31:59.699311Z",
     "iopub.status.idle": "2021-09-14T03:31:59.844991Z",
     "shell.execute_reply": "2021-09-14T03:31:59.844019Z",
     "shell.execute_reply.started": "2021-09-14T03:31:59.699547Z"
    }
   },
   "outputs": [],
   "source": [
    "s.name = 'genre'\n",
    "gen_md = md.drop('genres', axis=1).join(s)"
   ]
  },
  {
   "cell_type": "code",
   "execution_count": 110,
   "metadata": {
    "execution": {
     "iopub.execute_input": "2021-09-14T03:31:59.849762Z",
     "iopub.status.busy": "2021-09-14T03:31:59.849449Z",
     "iopub.status.idle": "2021-09-14T03:31:59.892904Z",
     "shell.execute_reply": "2021-09-14T03:31:59.891881Z",
     "shell.execute_reply.started": "2021-09-14T03:31:59.849731Z"
    }
   },
   "outputs": [
    {
     "data": {
      "text/html": [
       "<div>\n",
       "<style scoped>\n",
       "    .dataframe tbody tr th:only-of-type {\n",
       "        vertical-align: middle;\n",
       "    }\n",
       "\n",
       "    .dataframe tbody tr th {\n",
       "        vertical-align: top;\n",
       "    }\n",
       "\n",
       "    .dataframe thead th {\n",
       "        text-align: right;\n",
       "    }\n",
       "</style>\n",
       "<table border=\"1\" class=\"dataframe\">\n",
       "  <thead>\n",
       "    <tr style=\"text-align: right;\">\n",
       "      <th></th>\n",
       "      <th>adult</th>\n",
       "      <th>belongs_to_collection</th>\n",
       "      <th>budget</th>\n",
       "      <th>homepage</th>\n",
       "      <th>id</th>\n",
       "      <th>imdb_id</th>\n",
       "      <th>original_language</th>\n",
       "      <th>original_title</th>\n",
       "      <th>overview</th>\n",
       "      <th>popularity</th>\n",
       "      <th>poster_path</th>\n",
       "      <th>production_companies</th>\n",
       "      <th>production_countries</th>\n",
       "      <th>release_date</th>\n",
       "      <th>revenue</th>\n",
       "      <th>runtime</th>\n",
       "      <th>spoken_languages</th>\n",
       "      <th>status</th>\n",
       "      <th>tagline</th>\n",
       "      <th>title</th>\n",
       "      <th>video</th>\n",
       "      <th>vote_average</th>\n",
       "      <th>vote_count</th>\n",
       "      <th>year</th>\n",
       "      <th>genre</th>\n",
       "    </tr>\n",
       "  </thead>\n",
       "  <tbody>\n",
       "    <tr>\n",
       "      <th>0</th>\n",
       "      <td>False</td>\n",
       "      <td>{'id': 10194, 'name': 'Toy Story Collection', 'poster_pa...</td>\n",
       "      <td>30000000</td>\n",
       "      <td>http://toystory.disney.com/toy-story</td>\n",
       "      <td>862</td>\n",
       "      <td>tt0114709</td>\n",
       "      <td>en</td>\n",
       "      <td>Toy Story</td>\n",
       "      <td>Led by Woody, Andy's toys live happily in his room until...</td>\n",
       "      <td>21.946943</td>\n",
       "      <td>/rhIRbceoE9lR4veEXuwCC2wARtG.jpg</td>\n",
       "      <td>[{'name': 'Pixar Animation Studios', 'id': 3}]</td>\n",
       "      <td>[{'iso_3166_1': 'US', 'name': 'United States of America'}]</td>\n",
       "      <td>1995-10-30</td>\n",
       "      <td>373554033.0</td>\n",
       "      <td>81.0</td>\n",
       "      <td>[{'iso_639_1': 'en', 'name': 'English'}]</td>\n",
       "      <td>Released</td>\n",
       "      <td>NaN</td>\n",
       "      <td>Toy Story</td>\n",
       "      <td>False</td>\n",
       "      <td>7.7</td>\n",
       "      <td>5415.0</td>\n",
       "      <td>1995</td>\n",
       "      <td>Animation</td>\n",
       "    </tr>\n",
       "    <tr>\n",
       "      <th>0</th>\n",
       "      <td>False</td>\n",
       "      <td>{'id': 10194, 'name': 'Toy Story Collection', 'poster_pa...</td>\n",
       "      <td>30000000</td>\n",
       "      <td>http://toystory.disney.com/toy-story</td>\n",
       "      <td>862</td>\n",
       "      <td>tt0114709</td>\n",
       "      <td>en</td>\n",
       "      <td>Toy Story</td>\n",
       "      <td>Led by Woody, Andy's toys live happily in his room until...</td>\n",
       "      <td>21.946943</td>\n",
       "      <td>/rhIRbceoE9lR4veEXuwCC2wARtG.jpg</td>\n",
       "      <td>[{'name': 'Pixar Animation Studios', 'id': 3}]</td>\n",
       "      <td>[{'iso_3166_1': 'US', 'name': 'United States of America'}]</td>\n",
       "      <td>1995-10-30</td>\n",
       "      <td>373554033.0</td>\n",
       "      <td>81.0</td>\n",
       "      <td>[{'iso_639_1': 'en', 'name': 'English'}]</td>\n",
       "      <td>Released</td>\n",
       "      <td>NaN</td>\n",
       "      <td>Toy Story</td>\n",
       "      <td>False</td>\n",
       "      <td>7.7</td>\n",
       "      <td>5415.0</td>\n",
       "      <td>1995</td>\n",
       "      <td>Comedy</td>\n",
       "    </tr>\n",
       "    <tr>\n",
       "      <th>0</th>\n",
       "      <td>False</td>\n",
       "      <td>{'id': 10194, 'name': 'Toy Story Collection', 'poster_pa...</td>\n",
       "      <td>30000000</td>\n",
       "      <td>http://toystory.disney.com/toy-story</td>\n",
       "      <td>862</td>\n",
       "      <td>tt0114709</td>\n",
       "      <td>en</td>\n",
       "      <td>Toy Story</td>\n",
       "      <td>Led by Woody, Andy's toys live happily in his room until...</td>\n",
       "      <td>21.946943</td>\n",
       "      <td>/rhIRbceoE9lR4veEXuwCC2wARtG.jpg</td>\n",
       "      <td>[{'name': 'Pixar Animation Studios', 'id': 3}]</td>\n",
       "      <td>[{'iso_3166_1': 'US', 'name': 'United States of America'}]</td>\n",
       "      <td>1995-10-30</td>\n",
       "      <td>373554033.0</td>\n",
       "      <td>81.0</td>\n",
       "      <td>[{'iso_639_1': 'en', 'name': 'English'}]</td>\n",
       "      <td>Released</td>\n",
       "      <td>NaN</td>\n",
       "      <td>Toy Story</td>\n",
       "      <td>False</td>\n",
       "      <td>7.7</td>\n",
       "      <td>5415.0</td>\n",
       "      <td>1995</td>\n",
       "      <td>Family</td>\n",
       "    </tr>\n",
       "    <tr>\n",
       "      <th>1</th>\n",
       "      <td>False</td>\n",
       "      <td>NaN</td>\n",
       "      <td>65000000</td>\n",
       "      <td>NaN</td>\n",
       "      <td>8844</td>\n",
       "      <td>tt0113497</td>\n",
       "      <td>en</td>\n",
       "      <td>Jumanji</td>\n",
       "      <td>When siblings Judy and Peter discover an enchanted board...</td>\n",
       "      <td>17.015539</td>\n",
       "      <td>/vzmL6fP7aPKNKPRTFnZmiUfciyV.jpg</td>\n",
       "      <td>[{'name': 'TriStar Pictures', 'id': 559}, {'name': 'Teit...</td>\n",
       "      <td>[{'iso_3166_1': 'US', 'name': 'United States of America'}]</td>\n",
       "      <td>1995-12-15</td>\n",
       "      <td>262797249.0</td>\n",
       "      <td>104.0</td>\n",
       "      <td>[{'iso_639_1': 'en', 'name': 'English'}, {'iso_639_1': '...</td>\n",
       "      <td>Released</td>\n",
       "      <td>Roll the dice and unleash the excitement!</td>\n",
       "      <td>Jumanji</td>\n",
       "      <td>False</td>\n",
       "      <td>6.9</td>\n",
       "      <td>2413.0</td>\n",
       "      <td>1995</td>\n",
       "      <td>Adventure</td>\n",
       "    </tr>\n",
       "    <tr>\n",
       "      <th>1</th>\n",
       "      <td>False</td>\n",
       "      <td>NaN</td>\n",
       "      <td>65000000</td>\n",
       "      <td>NaN</td>\n",
       "      <td>8844</td>\n",
       "      <td>tt0113497</td>\n",
       "      <td>en</td>\n",
       "      <td>Jumanji</td>\n",
       "      <td>When siblings Judy and Peter discover an enchanted board...</td>\n",
       "      <td>17.015539</td>\n",
       "      <td>/vzmL6fP7aPKNKPRTFnZmiUfciyV.jpg</td>\n",
       "      <td>[{'name': 'TriStar Pictures', 'id': 559}, {'name': 'Teit...</td>\n",
       "      <td>[{'iso_3166_1': 'US', 'name': 'United States of America'}]</td>\n",
       "      <td>1995-12-15</td>\n",
       "      <td>262797249.0</td>\n",
       "      <td>104.0</td>\n",
       "      <td>[{'iso_639_1': 'en', 'name': 'English'}, {'iso_639_1': '...</td>\n",
       "      <td>Released</td>\n",
       "      <td>Roll the dice and unleash the excitement!</td>\n",
       "      <td>Jumanji</td>\n",
       "      <td>False</td>\n",
       "      <td>6.9</td>\n",
       "      <td>2413.0</td>\n",
       "      <td>1995</td>\n",
       "      <td>Fantasy</td>\n",
       "    </tr>\n",
       "    <tr>\n",
       "      <th>...</th>\n",
       "      <td>...</td>\n",
       "      <td>...</td>\n",
       "      <td>...</td>\n",
       "      <td>...</td>\n",
       "      <td>...</td>\n",
       "      <td>...</td>\n",
       "      <td>...</td>\n",
       "      <td>...</td>\n",
       "      <td>...</td>\n",
       "      <td>...</td>\n",
       "      <td>...</td>\n",
       "      <td>...</td>\n",
       "      <td>...</td>\n",
       "      <td>...</td>\n",
       "      <td>...</td>\n",
       "      <td>...</td>\n",
       "      <td>...</td>\n",
       "      <td>...</td>\n",
       "      <td>...</td>\n",
       "      <td>...</td>\n",
       "      <td>...</td>\n",
       "      <td>...</td>\n",
       "      <td>...</td>\n",
       "      <td>...</td>\n",
       "      <td>...</td>\n",
       "    </tr>\n",
       "    <tr>\n",
       "      <th>45463</th>\n",
       "      <td>False</td>\n",
       "      <td>NaN</td>\n",
       "      <td>0</td>\n",
       "      <td>NaN</td>\n",
       "      <td>67758</td>\n",
       "      <td>tt0303758</td>\n",
       "      <td>en</td>\n",
       "      <td>Betrayal</td>\n",
       "      <td>When one of her hits goes wrong, a professional assassin...</td>\n",
       "      <td>0.903007</td>\n",
       "      <td>/d5bX92nDsISNhu3ZT69uHwmfCGw.jpg</td>\n",
       "      <td>[{'name': 'American World Pictures', 'id': 6165}]</td>\n",
       "      <td>[{'iso_3166_1': 'US', 'name': 'United States of America'}]</td>\n",
       "      <td>2003-08-01</td>\n",
       "      <td>0.0</td>\n",
       "      <td>90.0</td>\n",
       "      <td>[{'iso_639_1': 'en', 'name': 'English'}]</td>\n",
       "      <td>Released</td>\n",
       "      <td>A deadly game of wits.</td>\n",
       "      <td>Betrayal</td>\n",
       "      <td>False</td>\n",
       "      <td>3.8</td>\n",
       "      <td>6.0</td>\n",
       "      <td>2003</td>\n",
       "      <td>Action</td>\n",
       "    </tr>\n",
       "    <tr>\n",
       "      <th>45463</th>\n",
       "      <td>False</td>\n",
       "      <td>NaN</td>\n",
       "      <td>0</td>\n",
       "      <td>NaN</td>\n",
       "      <td>67758</td>\n",
       "      <td>tt0303758</td>\n",
       "      <td>en</td>\n",
       "      <td>Betrayal</td>\n",
       "      <td>When one of her hits goes wrong, a professional assassin...</td>\n",
       "      <td>0.903007</td>\n",
       "      <td>/d5bX92nDsISNhu3ZT69uHwmfCGw.jpg</td>\n",
       "      <td>[{'name': 'American World Pictures', 'id': 6165}]</td>\n",
       "      <td>[{'iso_3166_1': 'US', 'name': 'United States of America'}]</td>\n",
       "      <td>2003-08-01</td>\n",
       "      <td>0.0</td>\n",
       "      <td>90.0</td>\n",
       "      <td>[{'iso_639_1': 'en', 'name': 'English'}]</td>\n",
       "      <td>Released</td>\n",
       "      <td>A deadly game of wits.</td>\n",
       "      <td>Betrayal</td>\n",
       "      <td>False</td>\n",
       "      <td>3.8</td>\n",
       "      <td>6.0</td>\n",
       "      <td>2003</td>\n",
       "      <td>Drama</td>\n",
       "    </tr>\n",
       "    <tr>\n",
       "      <th>45463</th>\n",
       "      <td>False</td>\n",
       "      <td>NaN</td>\n",
       "      <td>0</td>\n",
       "      <td>NaN</td>\n",
       "      <td>67758</td>\n",
       "      <td>tt0303758</td>\n",
       "      <td>en</td>\n",
       "      <td>Betrayal</td>\n",
       "      <td>When one of her hits goes wrong, a professional assassin...</td>\n",
       "      <td>0.903007</td>\n",
       "      <td>/d5bX92nDsISNhu3ZT69uHwmfCGw.jpg</td>\n",
       "      <td>[{'name': 'American World Pictures', 'id': 6165}]</td>\n",
       "      <td>[{'iso_3166_1': 'US', 'name': 'United States of America'}]</td>\n",
       "      <td>2003-08-01</td>\n",
       "      <td>0.0</td>\n",
       "      <td>90.0</td>\n",
       "      <td>[{'iso_639_1': 'en', 'name': 'English'}]</td>\n",
       "      <td>Released</td>\n",
       "      <td>A deadly game of wits.</td>\n",
       "      <td>Betrayal</td>\n",
       "      <td>False</td>\n",
       "      <td>3.8</td>\n",
       "      <td>6.0</td>\n",
       "      <td>2003</td>\n",
       "      <td>Thriller</td>\n",
       "    </tr>\n",
       "    <tr>\n",
       "      <th>45464</th>\n",
       "      <td>False</td>\n",
       "      <td>NaN</td>\n",
       "      <td>0</td>\n",
       "      <td>NaN</td>\n",
       "      <td>227506</td>\n",
       "      <td>tt0008536</td>\n",
       "      <td>en</td>\n",
       "      <td>Satana likuyushchiy</td>\n",
       "      <td>In a small town live two brothers, one a minister and th...</td>\n",
       "      <td>0.003503</td>\n",
       "      <td>/aorBPO7ak8e8iJKT5OcqYxU3jlK.jpg</td>\n",
       "      <td>[{'name': 'Yermoliev', 'id': 88753}]</td>\n",
       "      <td>[{'iso_3166_1': 'RU', 'name': 'Russia'}]</td>\n",
       "      <td>1917-10-21</td>\n",
       "      <td>0.0</td>\n",
       "      <td>87.0</td>\n",
       "      <td>[]</td>\n",
       "      <td>Released</td>\n",
       "      <td>NaN</td>\n",
       "      <td>Satan Triumphant</td>\n",
       "      <td>False</td>\n",
       "      <td>0.0</td>\n",
       "      <td>0.0</td>\n",
       "      <td>1917</td>\n",
       "      <td>NaN</td>\n",
       "    </tr>\n",
       "    <tr>\n",
       "      <th>45465</th>\n",
       "      <td>False</td>\n",
       "      <td>NaN</td>\n",
       "      <td>0</td>\n",
       "      <td>NaN</td>\n",
       "      <td>461257</td>\n",
       "      <td>tt6980792</td>\n",
       "      <td>en</td>\n",
       "      <td>Queerama</td>\n",
       "      <td>50 years after decriminalisation of homosexuality in the...</td>\n",
       "      <td>0.163015</td>\n",
       "      <td>/s5UkZt6NTsrS7ZF0Rh8nzupRlIU.jpg</td>\n",
       "      <td>[]</td>\n",
       "      <td>[{'iso_3166_1': 'GB', 'name': 'United Kingdom'}]</td>\n",
       "      <td>2017-06-09</td>\n",
       "      <td>0.0</td>\n",
       "      <td>75.0</td>\n",
       "      <td>[{'iso_639_1': 'en', 'name': 'English'}]</td>\n",
       "      <td>Released</td>\n",
       "      <td>NaN</td>\n",
       "      <td>Queerama</td>\n",
       "      <td>False</td>\n",
       "      <td>0.0</td>\n",
       "      <td>0.0</td>\n",
       "      <td>2017</td>\n",
       "      <td>NaN</td>\n",
       "    </tr>\n",
       "  </tbody>\n",
       "</table>\n",
       "<p>93548 rows × 25 columns</p>\n",
       "</div>"
      ],
      "text/plain": [
       "       adult                                        belongs_to_collection  \\\n",
       "0      False  {'id': 10194, 'name': 'Toy Story Collection', 'poster_pa...   \n",
       "0      False  {'id': 10194, 'name': 'Toy Story Collection', 'poster_pa...   \n",
       "0      False  {'id': 10194, 'name': 'Toy Story Collection', 'poster_pa...   \n",
       "1      False                                                          NaN   \n",
       "1      False                                                          NaN   \n",
       "...      ...                                                          ...   \n",
       "45463  False                                                          NaN   \n",
       "45463  False                                                          NaN   \n",
       "45463  False                                                          NaN   \n",
       "45464  False                                                          NaN   \n",
       "45465  False                                                          NaN   \n",
       "\n",
       "         budget                              homepage      id    imdb_id  \\\n",
       "0      30000000  http://toystory.disney.com/toy-story     862  tt0114709   \n",
       "0      30000000  http://toystory.disney.com/toy-story     862  tt0114709   \n",
       "0      30000000  http://toystory.disney.com/toy-story     862  tt0114709   \n",
       "1      65000000                                   NaN    8844  tt0113497   \n",
       "1      65000000                                   NaN    8844  tt0113497   \n",
       "...         ...                                   ...     ...        ...   \n",
       "45463         0                                   NaN   67758  tt0303758   \n",
       "45463         0                                   NaN   67758  tt0303758   \n",
       "45463         0                                   NaN   67758  tt0303758   \n",
       "45464         0                                   NaN  227506  tt0008536   \n",
       "45465         0                                   NaN  461257  tt6980792   \n",
       "\n",
       "      original_language       original_title  \\\n",
       "0                    en            Toy Story   \n",
       "0                    en            Toy Story   \n",
       "0                    en            Toy Story   \n",
       "1                    en              Jumanji   \n",
       "1                    en              Jumanji   \n",
       "...                 ...                  ...   \n",
       "45463                en             Betrayal   \n",
       "45463                en             Betrayal   \n",
       "45463                en             Betrayal   \n",
       "45464                en  Satana likuyushchiy   \n",
       "45465                en             Queerama   \n",
       "\n",
       "                                                          overview popularity  \\\n",
       "0      Led by Woody, Andy's toys live happily in his room until...  21.946943   \n",
       "0      Led by Woody, Andy's toys live happily in his room until...  21.946943   \n",
       "0      Led by Woody, Andy's toys live happily in his room until...  21.946943   \n",
       "1      When siblings Judy and Peter discover an enchanted board...  17.015539   \n",
       "1      When siblings Judy and Peter discover an enchanted board...  17.015539   \n",
       "...                                                            ...        ...   \n",
       "45463  When one of her hits goes wrong, a professional assassin...   0.903007   \n",
       "45463  When one of her hits goes wrong, a professional assassin...   0.903007   \n",
       "45463  When one of her hits goes wrong, a professional assassin...   0.903007   \n",
       "45464  In a small town live two brothers, one a minister and th...   0.003503   \n",
       "45465  50 years after decriminalisation of homosexuality in the...   0.163015   \n",
       "\n",
       "                            poster_path  \\\n",
       "0      /rhIRbceoE9lR4veEXuwCC2wARtG.jpg   \n",
       "0      /rhIRbceoE9lR4veEXuwCC2wARtG.jpg   \n",
       "0      /rhIRbceoE9lR4veEXuwCC2wARtG.jpg   \n",
       "1      /vzmL6fP7aPKNKPRTFnZmiUfciyV.jpg   \n",
       "1      /vzmL6fP7aPKNKPRTFnZmiUfciyV.jpg   \n",
       "...                                 ...   \n",
       "45463  /d5bX92nDsISNhu3ZT69uHwmfCGw.jpg   \n",
       "45463  /d5bX92nDsISNhu3ZT69uHwmfCGw.jpg   \n",
       "45463  /d5bX92nDsISNhu3ZT69uHwmfCGw.jpg   \n",
       "45464  /aorBPO7ak8e8iJKT5OcqYxU3jlK.jpg   \n",
       "45465  /s5UkZt6NTsrS7ZF0Rh8nzupRlIU.jpg   \n",
       "\n",
       "                                              production_companies  \\\n",
       "0                   [{'name': 'Pixar Animation Studios', 'id': 3}]   \n",
       "0                   [{'name': 'Pixar Animation Studios', 'id': 3}]   \n",
       "0                   [{'name': 'Pixar Animation Studios', 'id': 3}]   \n",
       "1      [{'name': 'TriStar Pictures', 'id': 559}, {'name': 'Teit...   \n",
       "1      [{'name': 'TriStar Pictures', 'id': 559}, {'name': 'Teit...   \n",
       "...                                                            ...   \n",
       "45463            [{'name': 'American World Pictures', 'id': 6165}]   \n",
       "45463            [{'name': 'American World Pictures', 'id': 6165}]   \n",
       "45463            [{'name': 'American World Pictures', 'id': 6165}]   \n",
       "45464                         [{'name': 'Yermoliev', 'id': 88753}]   \n",
       "45465                                                           []   \n",
       "\n",
       "                                             production_countries  \\\n",
       "0      [{'iso_3166_1': 'US', 'name': 'United States of America'}]   \n",
       "0      [{'iso_3166_1': 'US', 'name': 'United States of America'}]   \n",
       "0      [{'iso_3166_1': 'US', 'name': 'United States of America'}]   \n",
       "1      [{'iso_3166_1': 'US', 'name': 'United States of America'}]   \n",
       "1      [{'iso_3166_1': 'US', 'name': 'United States of America'}]   \n",
       "...                                                           ...   \n",
       "45463  [{'iso_3166_1': 'US', 'name': 'United States of America'}]   \n",
       "45463  [{'iso_3166_1': 'US', 'name': 'United States of America'}]   \n",
       "45463  [{'iso_3166_1': 'US', 'name': 'United States of America'}]   \n",
       "45464                    [{'iso_3166_1': 'RU', 'name': 'Russia'}]   \n",
       "45465            [{'iso_3166_1': 'GB', 'name': 'United Kingdom'}]   \n",
       "\n",
       "      release_date      revenue  runtime  \\\n",
       "0       1995-10-30  373554033.0     81.0   \n",
       "0       1995-10-30  373554033.0     81.0   \n",
       "0       1995-10-30  373554033.0     81.0   \n",
       "1       1995-12-15  262797249.0    104.0   \n",
       "1       1995-12-15  262797249.0    104.0   \n",
       "...            ...          ...      ...   \n",
       "45463   2003-08-01          0.0     90.0   \n",
       "45463   2003-08-01          0.0     90.0   \n",
       "45463   2003-08-01          0.0     90.0   \n",
       "45464   1917-10-21          0.0     87.0   \n",
       "45465   2017-06-09          0.0     75.0   \n",
       "\n",
       "                                                  spoken_languages    status  \\\n",
       "0                         [{'iso_639_1': 'en', 'name': 'English'}]  Released   \n",
       "0                         [{'iso_639_1': 'en', 'name': 'English'}]  Released   \n",
       "0                         [{'iso_639_1': 'en', 'name': 'English'}]  Released   \n",
       "1      [{'iso_639_1': 'en', 'name': 'English'}, {'iso_639_1': '...  Released   \n",
       "1      [{'iso_639_1': 'en', 'name': 'English'}, {'iso_639_1': '...  Released   \n",
       "...                                                            ...       ...   \n",
       "45463                     [{'iso_639_1': 'en', 'name': 'English'}]  Released   \n",
       "45463                     [{'iso_639_1': 'en', 'name': 'English'}]  Released   \n",
       "45463                     [{'iso_639_1': 'en', 'name': 'English'}]  Released   \n",
       "45464                                                           []  Released   \n",
       "45465                     [{'iso_639_1': 'en', 'name': 'English'}]  Released   \n",
       "\n",
       "                                         tagline             title  video  \\\n",
       "0                                            NaN         Toy Story  False   \n",
       "0                                            NaN         Toy Story  False   \n",
       "0                                            NaN         Toy Story  False   \n",
       "1      Roll the dice and unleash the excitement!           Jumanji  False   \n",
       "1      Roll the dice and unleash the excitement!           Jumanji  False   \n",
       "...                                          ...               ...    ...   \n",
       "45463                     A deadly game of wits.          Betrayal  False   \n",
       "45463                     A deadly game of wits.          Betrayal  False   \n",
       "45463                     A deadly game of wits.          Betrayal  False   \n",
       "45464                                        NaN  Satan Triumphant  False   \n",
       "45465                                        NaN          Queerama  False   \n",
       "\n",
       "       vote_average  vote_count  year      genre  \n",
       "0               7.7      5415.0  1995  Animation  \n",
       "0               7.7      5415.0  1995     Comedy  \n",
       "0               7.7      5415.0  1995     Family  \n",
       "1               6.9      2413.0  1995  Adventure  \n",
       "1               6.9      2413.0  1995    Fantasy  \n",
       "...             ...         ...   ...        ...  \n",
       "45463           3.8         6.0  2003     Action  \n",
       "45463           3.8         6.0  2003      Drama  \n",
       "45463           3.8         6.0  2003   Thriller  \n",
       "45464           0.0         0.0  1917        NaN  \n",
       "45465           0.0         0.0  2017        NaN  \n",
       "\n",
       "[93548 rows x 25 columns]"
      ]
     },
     "execution_count": 110,
     "metadata": {},
     "output_type": "execute_result"
    }
   ],
   "source": [
    "gen_md"
   ]
  },
  {
   "cell_type": "markdown",
   "metadata": {},
   "source": [
    "from the above we can see that we are droping the geners and concatinating the stacked seperated geners and get assingned to the sepecific movies"
   ]
  },
  {
   "cell_type": "markdown",
   "metadata": {},
   "source": [
    "We have already calculated the weighted rating for the entire genres  columns for the movie having the vote count above 95% precentile. from that we found the most good rated movies. similarly  since we seperated the movies in tearm of genres we are going to create a function which finds the top rated movie based on specific genres. and we are going to take 85% as the criticle value of vote count. so the movies above 85% of vote count of total vote count wiill be selected."
   ]
  },
  {
   "cell_type": "code",
   "execution_count": 111,
   "metadata": {
    "execution": {
     "iopub.execute_input": "2021-09-14T03:31:59.896092Z",
     "iopub.status.busy": "2021-09-14T03:31:59.895550Z",
     "iopub.status.idle": "2021-09-14T03:31:59.904645Z",
     "shell.execute_reply": "2021-09-14T03:31:59.903769Z",
     "shell.execute_reply.started": "2021-09-14T03:31:59.896047Z"
    }
   },
   "outputs": [],
   "source": [
    "def top_movie(genre,n_precentile =.85):\n",
    "    df = gen_md[gen_md['genre'] == genre]\n",
    "    vote_count = df[df['vote_count'].notnull()]['vote_count'].astype('int')\n",
    "    vote_avg = df[df['vote_average'].notnull()]['vote_average'].astype('int')\n",
    "    C = vote_avg.mean()\n",
    "    m = vote_count.quantile(n_precentile)\n",
    "    qualified = df[(df['vote_count']>= m) & (df['vote_count'].notnull()) & (df['vote_average'].notnull())][['title', 'year', 'vote_count', 'vote_average', 'popularity']]\n",
    "    qualified['vote_count'] = qualified['vote_count'].astype('int')\n",
    "    qualified['vote_average'] = qualified['vote_average'].astype('int')\n",
    "    qualified['wr'] = qualified.apply(lambda x: (x['vote_count']/(x['vote_count']+m)*x['vote_average'])+(m/(m+x['vote_count'])*C),axis = 1)\n",
    "    qualified = qualified.sort_values('wr',ascending =False).head(250)\n",
    "    return qualified\n",
    "    "
   ]
  },
  {
   "cell_type": "code",
   "execution_count": 112,
   "metadata": {
    "execution": {
     "iopub.execute_input": "2021-09-14T03:31:59.906054Z",
     "iopub.status.busy": "2021-09-14T03:31:59.905670Z",
     "iopub.status.idle": "2021-09-14T03:32:00.058420Z",
     "shell.execute_reply": "2021-09-14T03:32:00.057500Z",
     "shell.execute_reply.started": "2021-09-14T03:31:59.906017Z"
    }
   },
   "outputs": [
    {
     "data": {
      "text/html": [
       "<div>\n",
       "<style scoped>\n",
       "    .dataframe tbody tr th:only-of-type {\n",
       "        vertical-align: middle;\n",
       "    }\n",
       "\n",
       "    .dataframe tbody tr th {\n",
       "        vertical-align: top;\n",
       "    }\n",
       "\n",
       "    .dataframe thead th {\n",
       "        text-align: right;\n",
       "    }\n",
       "</style>\n",
       "<table border=\"1\" class=\"dataframe\">\n",
       "  <thead>\n",
       "    <tr style=\"text-align: right;\">\n",
       "      <th></th>\n",
       "      <th>title</th>\n",
       "      <th>year</th>\n",
       "      <th>vote_count</th>\n",
       "      <th>vote_average</th>\n",
       "      <th>popularity</th>\n",
       "      <th>wr</th>\n",
       "    </tr>\n",
       "  </thead>\n",
       "  <tbody>\n",
       "    <tr>\n",
       "      <th>15480</th>\n",
       "      <td>Inception</td>\n",
       "      <td>2010</td>\n",
       "      <td>14075</td>\n",
       "      <td>8</td>\n",
       "      <td>29.108149</td>\n",
       "      <td>7.955099</td>\n",
       "    </tr>\n",
       "    <tr>\n",
       "      <th>12481</th>\n",
       "      <td>The Dark Knight</td>\n",
       "      <td>2008</td>\n",
       "      <td>12269</td>\n",
       "      <td>8</td>\n",
       "      <td>123.167259</td>\n",
       "      <td>7.948610</td>\n",
       "    </tr>\n",
       "    <tr>\n",
       "      <th>4863</th>\n",
       "      <td>The Lord of the Rings: The Fellowship of the Ring</td>\n",
       "      <td>2001</td>\n",
       "      <td>8892</td>\n",
       "      <td>8</td>\n",
       "      <td>32.070725</td>\n",
       "      <td>7.929579</td>\n",
       "    </tr>\n",
       "    <tr>\n",
       "      <th>7000</th>\n",
       "      <td>The Lord of the Rings: The Return of the King</td>\n",
       "      <td>2003</td>\n",
       "      <td>8226</td>\n",
       "      <td>8</td>\n",
       "      <td>29.324358</td>\n",
       "      <td>7.924031</td>\n",
       "    </tr>\n",
       "    <tr>\n",
       "      <th>5814</th>\n",
       "      <td>The Lord of the Rings: The Two Towers</td>\n",
       "      <td>2002</td>\n",
       "      <td>7641</td>\n",
       "      <td>8</td>\n",
       "      <td>29.423537</td>\n",
       "      <td>7.918382</td>\n",
       "    </tr>\n",
       "    <tr>\n",
       "      <th>...</th>\n",
       "      <td>...</td>\n",
       "      <td>...</td>\n",
       "      <td>...</td>\n",
       "      <td>...</td>\n",
       "      <td>...</td>\n",
       "      <td>...</td>\n",
       "    </tr>\n",
       "    <tr>\n",
       "      <th>21296</th>\n",
       "      <td>The Wolverine</td>\n",
       "      <td>2013</td>\n",
       "      <td>4110</td>\n",
       "      <td>6</td>\n",
       "      <td>3.918287</td>\n",
       "      <td>5.956636</td>\n",
       "    </tr>\n",
       "    <tr>\n",
       "      <th>13635</th>\n",
       "      <td>X-Men Origins: Wolverine</td>\n",
       "      <td>2009</td>\n",
       "      <td>4086</td>\n",
       "      <td>6</td>\n",
       "      <td>1.456541</td>\n",
       "      <td>5.956395</td>\n",
       "    </tr>\n",
       "    <tr>\n",
       "      <th>5244</th>\n",
       "      <td>Star Wars: Episode II - Attack of the Clones</td>\n",
       "      <td>2002</td>\n",
       "      <td>4074</td>\n",
       "      <td>6</td>\n",
       "      <td>14.072511</td>\n",
       "      <td>5.956273</td>\n",
       "    </tr>\n",
       "    <tr>\n",
       "      <th>18289</th>\n",
       "      <td>Mission: Impossible - Ghost Protocol</td>\n",
       "      <td>2011</td>\n",
       "      <td>4026</td>\n",
       "      <td>6</td>\n",
       "      <td>14.25843</td>\n",
       "      <td>5.955779</td>\n",
       "    </tr>\n",
       "    <tr>\n",
       "      <th>7917</th>\n",
       "      <td>I, Robot</td>\n",
       "      <td>2004</td>\n",
       "      <td>3889</td>\n",
       "      <td>6</td>\n",
       "      <td>14.43075</td>\n",
       "      <td>5.954308</td>\n",
       "    </tr>\n",
       "  </tbody>\n",
       "</table>\n",
       "<p>250 rows × 6 columns</p>\n",
       "</div>"
      ],
      "text/plain": [
       "                                                   title  year  vote_count  \\\n",
       "15480                                          Inception  2010       14075   \n",
       "12481                                    The Dark Knight  2008       12269   \n",
       "4863   The Lord of the Rings: The Fellowship of the Ring  2001        8892   \n",
       "7000       The Lord of the Rings: The Return of the King  2003        8226   \n",
       "5814               The Lord of the Rings: The Two Towers  2002        7641   \n",
       "...                                                  ...   ...         ...   \n",
       "21296                                      The Wolverine  2013        4110   \n",
       "13635                           X-Men Origins: Wolverine  2009        4086   \n",
       "5244        Star Wars: Episode II - Attack of the Clones  2002        4074   \n",
       "18289               Mission: Impossible - Ghost Protocol  2011        4026   \n",
       "7917                                            I, Robot  2004        3889   \n",
       "\n",
       "       vote_average  popularity        wr  \n",
       "15480             8   29.108149  7.955099  \n",
       "12481             8  123.167259  7.948610  \n",
       "4863              8   32.070725  7.929579  \n",
       "7000              8   29.324358  7.924031  \n",
       "5814              8   29.423537  7.918382  \n",
       "...             ...         ...       ...  \n",
       "21296             6    3.918287  5.956636  \n",
       "13635             6    1.456541  5.956395  \n",
       "5244              6   14.072511  5.956273  \n",
       "18289             6    14.25843  5.955779  \n",
       "7917              6    14.43075  5.954308  \n",
       "\n",
       "[250 rows x 6 columns]"
      ]
     },
     "execution_count": 112,
     "metadata": {},
     "output_type": "execute_result"
    }
   ],
   "source": [
    "top_movie('Action')"
   ]
  },
  {
   "cell_type": "markdown",
   "metadata": {},
   "source": [
    "### Content Based Recommender\n",
    "\n",
    "As of above, we have created simple recommender system where we can get the movies recommended based on the ratings and based on the genre. But with this recommendation system we cannot able to recommend a movie based on personal choice.\n",
    "\n",
    "for example if you consider Inception the Darknight are the movie by cristopher nolan from this we can make a assumption that the person Like Cristopher nolan movies.But he can only see the action movies. where most of them were made by differnt directors and not by cristopher nolan\n",
    "\n",
    "To personalise this recommendation we need some more features to form a certain metric to recommend the movie\n",
    "\n",
    "we are going to build two content based system\n",
    "\n",
    "> Movie Overviews and Taglines\n",
    "\n",
    "> Movie Cast, Crew, Keywords and Genre"
   ]
  },
  {
   "cell_type": "code",
   "execution_count": 113,
   "metadata": {
    "execution": {
     "iopub.execute_input": "2021-09-14T03:32:00.060011Z",
     "iopub.status.busy": "2021-09-14T03:32:00.059725Z",
     "iopub.status.idle": "2021-09-14T03:32:00.084031Z",
     "shell.execute_reply": "2021-09-14T03:32:00.083011Z",
     "shell.execute_reply.started": "2021-09-14T03:32:00.059984Z"
    }
   },
   "outputs": [
    {
     "data": {
      "text/html": [
       "<div>\n",
       "<style scoped>\n",
       "    .dataframe tbody tr th:only-of-type {\n",
       "        vertical-align: middle;\n",
       "    }\n",
       "\n",
       "    .dataframe tbody tr th {\n",
       "        vertical-align: top;\n",
       "    }\n",
       "\n",
       "    .dataframe thead th {\n",
       "        text-align: right;\n",
       "    }\n",
       "</style>\n",
       "<table border=\"1\" class=\"dataframe\">\n",
       "  <thead>\n",
       "    <tr style=\"text-align: right;\">\n",
       "      <th></th>\n",
       "      <th>movieId</th>\n",
       "      <th>imdbId</th>\n",
       "      <th>tmdbId</th>\n",
       "    </tr>\n",
       "  </thead>\n",
       "  <tbody>\n",
       "    <tr>\n",
       "      <th>0</th>\n",
       "      <td>1</td>\n",
       "      <td>114709</td>\n",
       "      <td>862.0</td>\n",
       "    </tr>\n",
       "    <tr>\n",
       "      <th>1</th>\n",
       "      <td>2</td>\n",
       "      <td>113497</td>\n",
       "      <td>8844.0</td>\n",
       "    </tr>\n",
       "    <tr>\n",
       "      <th>2</th>\n",
       "      <td>3</td>\n",
       "      <td>113228</td>\n",
       "      <td>15602.0</td>\n",
       "    </tr>\n",
       "    <tr>\n",
       "      <th>3</th>\n",
       "      <td>4</td>\n",
       "      <td>114885</td>\n",
       "      <td>31357.0</td>\n",
       "    </tr>\n",
       "    <tr>\n",
       "      <th>4</th>\n",
       "      <td>5</td>\n",
       "      <td>113041</td>\n",
       "      <td>11862.0</td>\n",
       "    </tr>\n",
       "  </tbody>\n",
       "</table>\n",
       "</div>"
      ],
      "text/plain": [
       "   movieId  imdbId   tmdbId\n",
       "0        1  114709    862.0\n",
       "1        2  113497   8844.0\n",
       "2        3  113228  15602.0\n",
       "3        4  114885  31357.0\n",
       "4        5  113041  11862.0"
      ]
     },
     "execution_count": 113,
     "metadata": {},
     "output_type": "execute_result"
    }
   ],
   "source": [
    "link_small = pd.read_csv('links_small.csv')\n",
    "link_small.head()"
   ]
  },
  {
   "cell_type": "code",
   "execution_count": 114,
   "metadata": {
    "execution": {
     "iopub.execute_input": "2021-09-14T03:32:00.085543Z",
     "iopub.status.busy": "2021-09-14T03:32:00.085249Z",
     "iopub.status.idle": "2021-09-14T03:32:00.105509Z",
     "shell.execute_reply": "2021-09-14T03:32:00.104456Z",
     "shell.execute_reply.started": "2021-09-14T03:32:00.085514Z"
    }
   },
   "outputs": [
    {
     "name": "stdout",
     "output_type": "stream",
     "text": [
      "13\n",
      "<class 'pandas.core.frame.DataFrame'>\n",
      "RangeIndex: 9125 entries, 0 to 9124\n",
      "Data columns (total 3 columns):\n",
      " #   Column   Non-Null Count  Dtype  \n",
      "---  ------   --------------  -----  \n",
      " 0   movieId  9125 non-null   int64  \n",
      " 1   imdbId   9125 non-null   int64  \n",
      " 2   tmdbId   9112 non-null   float64\n",
      "dtypes: float64(1), int64(2)\n",
      "memory usage: 214.0 KB\n",
      "None\n"
     ]
    }
   ],
   "source": [
    "print(link_small['tmdbId'].isnull().sum())\n",
    "print(link_small.info())"
   ]
  },
  {
   "cell_type": "markdown",
   "metadata": {},
   "source": [
    "we have 13 null values removing those and changing tmdbId to int64"
   ]
  },
  {
   "cell_type": "code",
   "execution_count": 115,
   "metadata": {
    "execution": {
     "iopub.execute_input": "2021-09-14T03:32:00.107086Z",
     "iopub.status.busy": "2021-09-14T03:32:00.106810Z",
     "iopub.status.idle": "2021-09-14T03:32:00.115808Z",
     "shell.execute_reply": "2021-09-14T03:32:00.114933Z",
     "shell.execute_reply.started": "2021-09-14T03:32:00.107059Z"
    }
   },
   "outputs": [
    {
     "data": {
      "text/plain": [
       "0          862\n",
       "1         8844\n",
       "2        15602\n",
       "3        31357\n",
       "4        11862\n",
       "         ...  \n",
       "9120    402672\n",
       "9121    315011\n",
       "9122    391698\n",
       "9123    137608\n",
       "9124    410803\n",
       "Name: tmdbId, Length: 9112, dtype: int32"
      ]
     },
     "execution_count": 115,
     "metadata": {},
     "output_type": "execute_result"
    }
   ],
   "source": []
  },
  {
   "cell_type": "code",
   "execution_count": 29,
   "metadata": {
    "execution": {
     "iopub.execute_input": "2021-09-14T03:32:00.117159Z",
     "iopub.status.busy": "2021-09-14T03:32:00.116855Z",
     "iopub.status.idle": "2021-09-14T03:32:00.175097Z",
     "shell.execute_reply": "2021-09-14T03:32:00.174125Z",
     "shell.execute_reply.started": "2021-09-14T03:32:00.117081Z"
    }
   },
   "outputs": [
    {
     "data": {
      "text/plain": [
       "adult                        0\n",
       "belongs_to_collection    40972\n",
       "budget                       0\n",
       "genres                       0\n",
       "homepage                 37684\n",
       "id                           0\n",
       "imdb_id                     17\n",
       "original_language           11\n",
       "original_title               0\n",
       "overview                   954\n",
       "popularity                   5\n",
       "poster_path                386\n",
       "production_companies         3\n",
       "production_countries         3\n",
       "release_date                87\n",
       "revenue                      6\n",
       "runtime                    263\n",
       "spoken_languages             6\n",
       "status                      87\n",
       "tagline                  25054\n",
       "title                        6\n",
       "video                        6\n",
       "vote_average                 6\n",
       "vote_count                   6\n",
       "year                         0\n",
       "dtype: int64"
      ]
     },
     "execution_count": 29,
     "metadata": {},
     "output_type": "execute_result"
    }
   ],
   "source": [
    "md.isnull().sum()"
   ]
  },
  {
   "cell_type": "code",
   "execution_count": 30,
   "metadata": {
    "execution": {
     "iopub.execute_input": "2021-09-14T03:32:00.176575Z",
     "iopub.status.busy": "2021-09-14T03:32:00.176132Z",
     "iopub.status.idle": "2021-09-14T03:32:00.183455Z",
     "shell.execute_reply": "2021-09-14T03:32:00.182556Z",
     "shell.execute_reply.started": "2021-09-14T03:32:00.176548Z"
    }
   },
   "outputs": [
    {
     "data": {
      "text/plain": [
       "0           862\n",
       "1          8844\n",
       "2         15602\n",
       "3         31357\n",
       "4         11862\n",
       "          ...  \n",
       "45461    439050\n",
       "45462    111109\n",
       "45463     67758\n",
       "45464    227506\n",
       "45465    461257\n",
       "Name: id, Length: 45466, dtype: object"
      ]
     },
     "execution_count": 30,
     "metadata": {},
     "output_type": "execute_result"
    }
   ],
   "source": [
    "md['id']"
   ]
  },
  {
   "cell_type": "code",
   "execution_count": 31,
   "metadata": {
    "execution": {
     "iopub.execute_input": "2021-09-14T03:32:00.184997Z",
     "iopub.status.busy": "2021-09-14T03:32:00.184615Z",
     "iopub.status.idle": "2021-09-14T03:32:00.209859Z",
     "shell.execute_reply": "2021-09-14T03:32:00.209092Z",
     "shell.execute_reply.started": "2021-09-14T03:32:00.184971Z"
    }
   },
   "outputs": [],
   "source": [
    "md = md.drop([19730, 29503, 35587])"
   ]
  },
  {
   "cell_type": "markdown",
   "metadata": {},
   "source": [
    "Droping worngly indexed row found by feature analysis"
   ]
  },
  {
   "cell_type": "code",
   "execution_count": 32,
   "metadata": {
    "execution": {
     "iopub.execute_input": "2021-09-14T03:32:00.211172Z",
     "iopub.status.busy": "2021-09-14T03:32:00.210779Z",
     "iopub.status.idle": "2021-09-14T03:32:00.240169Z",
     "shell.execute_reply": "2021-09-14T03:32:00.239433Z",
     "shell.execute_reply.started": "2021-09-14T03:32:00.211141Z"
    }
   },
   "outputs": [],
   "source": [
    "md['id'] = md['id'].astype('int')"
   ]
  },
  {
   "cell_type": "code",
   "execution_count": 33,
   "metadata": {
    "execution": {
     "iopub.execute_input": "2021-09-14T03:32:00.241406Z",
     "iopub.status.busy": "2021-09-14T03:32:00.241058Z",
     "iopub.status.idle": "2021-09-14T03:32:00.253020Z",
     "shell.execute_reply": "2021-09-14T03:32:00.251969Z",
     "shell.execute_reply.started": "2021-09-14T03:32:00.241380Z"
    }
   },
   "outputs": [
    {
     "data": {
      "text/plain": [
       "(9099, 25)"
      ]
     },
     "execution_count": 33,
     "metadata": {},
     "output_type": "execute_result"
    }
   ],
   "source": [
    "smd = md[md['id'].isin(link_small)]\n",
    "smd.shape"
   ]
  },
  {
   "cell_type": "markdown",
   "metadata": {},
   "source": [
    "We have 9099 movies got by modeling the dataset or joining the table which is 5 times smaller than original dataset"
   ]
  },
  {
   "cell_type": "markdown",
   "metadata": {},
   "source": [
    "#### Movie Discription Based Recommender\n",
    "\n",
    "\n",
    "\n"
   ]
  },
  {
   "cell_type": "code",
   "execution_count": 34,
   "metadata": {
    "execution": {
     "iopub.execute_input": "2021-09-14T03:32:00.255205Z",
     "iopub.status.busy": "2021-09-14T03:32:00.254356Z",
     "iopub.status.idle": "2021-09-14T03:32:00.262892Z",
     "shell.execute_reply": "2021-09-14T03:32:00.261974Z",
     "shell.execute_reply.started": "2021-09-14T03:32:00.255162Z"
    }
   },
   "outputs": [
    {
     "name": "stderr",
     "output_type": "stream",
     "text": [
      "<ipython-input-34-5268a1d163a5>:1: SettingWithCopyWarning: \n",
      "A value is trying to be set on a copy of a slice from a DataFrame.\n",
      "Try using .loc[row_indexer,col_indexer] = value instead\n",
      "\n",
      "See the caveats in the documentation: https://pandas.pydata.org/pandas-docs/stable/user_guide/indexing.html#returning-a-view-versus-a-copy\n",
      "  smd['tagline'] = smd['tagline'].fillna('')\n"
     ]
    }
   ],
   "source": [
    "smd['tagline'] = smd['tagline'].fillna('')"
   ]
  },
  {
   "cell_type": "markdown",
   "metadata": {},
   "source": [
    "we can see using tag line we can work out some combinations"
   ]
  },
  {
   "cell_type": "code",
   "execution_count": 35,
   "metadata": {
    "execution": {
     "iopub.execute_input": "2021-09-14T03:32:00.264619Z",
     "iopub.status.busy": "2021-09-14T03:32:00.264082Z",
     "iopub.status.idle": "2021-09-14T03:32:00.278949Z",
     "shell.execute_reply": "2021-09-14T03:32:00.277992Z",
     "shell.execute_reply.started": "2021-09-14T03:32:00.264581Z"
    }
   },
   "outputs": [
    {
     "name": "stderr",
     "output_type": "stream",
     "text": [
      "<ipython-input-35-362f3d9a1c27>:1: SettingWithCopyWarning: \n",
      "A value is trying to be set on a copy of a slice from a DataFrame.\n",
      "Try using .loc[row_indexer,col_indexer] = value instead\n",
      "\n",
      "See the caveats in the documentation: https://pandas.pydata.org/pandas-docs/stable/user_guide/indexing.html#returning-a-view-versus-a-copy\n",
      "  smd['description'] = smd['overview'] + smd['tagline']\n"
     ]
    }
   ],
   "source": [
    "smd['description'] = smd['overview'] + smd['tagline']\n"
   ]
  },
  {
   "cell_type": "markdown",
   "metadata": {},
   "source": [
    "we combined overview and tagline to encode and find some similarity "
   ]
  },
  {
   "cell_type": "code",
   "execution_count": 36,
   "metadata": {
    "execution": {
     "iopub.execute_input": "2021-09-14T03:32:00.281437Z",
     "iopub.status.busy": "2021-09-14T03:32:00.280425Z",
     "iopub.status.idle": "2021-09-14T03:32:00.289798Z",
     "shell.execute_reply": "2021-09-14T03:32:00.288812Z",
     "shell.execute_reply.started": "2021-09-14T03:32:00.281360Z"
    }
   },
   "outputs": [
    {
     "name": "stderr",
     "output_type": "stream",
     "text": [
      "<ipython-input-36-794954ed571a>:1: SettingWithCopyWarning: \n",
      "A value is trying to be set on a copy of a slice from a DataFrame.\n",
      "Try using .loc[row_indexer,col_indexer] = value instead\n",
      "\n",
      "See the caveats in the documentation: https://pandas.pydata.org/pandas-docs/stable/user_guide/indexing.html#returning-a-view-versus-a-copy\n",
      "  smd['description'] = smd['description'].fillna('')\n"
     ]
    }
   ],
   "source": [
    "smd['description'] = smd['description'].fillna('')"
   ]
  },
  {
   "cell_type": "markdown",
   "metadata": {
    "execution": {
     "iopub.execute_input": "2021-08-21T12:58:04.157017Z",
     "iopub.status.busy": "2021-08-21T12:58:04.15661Z",
     "iopub.status.idle": "2021-08-21T12:58:04.163953Z",
     "shell.execute_reply": "2021-08-21T12:58:04.161904Z",
     "shell.execute_reply.started": "2021-08-21T12:58:04.156986Z"
    }
   },
   "source": [
    "using TFid vectoriser to encode the description"
   ]
  },
  {
   "cell_type": "code",
   "execution_count": 37,
   "metadata": {
    "execution": {
     "iopub.execute_input": "2021-09-14T03:32:00.291522Z",
     "iopub.status.busy": "2021-09-14T03:32:00.291189Z",
     "iopub.status.idle": "2021-09-14T03:32:02.035624Z",
     "shell.execute_reply": "2021-09-14T03:32:02.034618Z",
     "shell.execute_reply.started": "2021-09-14T03:32:00.291492Z"
    }
   },
   "outputs": [],
   "source": [
    "from sklearn.feature_extraction.text import TfidfVectorizer\n",
    "\n",
    "tf = TfidfVectorizer(analyzer='word',ngram_range=(1,2),min_df=0,stop_words='english')\n",
    "tfid_mat = tf.fit_transform(smd['description'])"
   ]
  },
  {
   "cell_type": "markdown",
   "metadata": {},
   "source": [
    "here analyzer indicates what to be analysed in the document like word, number,characters\n",
    "\n",
    "ngram_range is to specify the grouping in the tfid vectoriser (1,2) indicates group the letters in unigram and bigram. where if you consider a document 'i am studying NLP' for bigram this will group as 'i am' 'am studying' 'studying NLP'"
   ]
  },
  {
   "cell_type": "markdown",
   "metadata": {},
   "source": [
    "thus encoding the descrption in TFid matrix"
   ]
  },
  {
   "cell_type": "markdown",
   "metadata": {
    "execution": {
     "iopub.execute_input": "2021-08-21T14:32:53.889913Z",
     "iopub.status.busy": "2021-08-21T14:32:53.889377Z",
     "iopub.status.idle": "2021-08-21T14:32:55.190596Z",
     "shell.execute_reply": "2021-08-21T14:32:55.189893Z",
     "shell.execute_reply.started": "2021-08-21T14:32:53.889879Z"
    }
   },
   "source": [
    "we will use Cosine similarity to find the similarity between the movies. such that cosine similarity is understood by ploting the data in the x y plot,where x and y are the each document tfid values. since the dot product of the cosine similarity is alredy found we will use\n",
    "linear_kernal to find the similarity"
   ]
  },
  {
   "cell_type": "code",
   "execution_count": 38,
   "metadata": {
    "execution": {
     "iopub.execute_input": "2021-09-14T03:32:02.037313Z",
     "iopub.status.busy": "2021-09-14T03:32:02.037020Z",
     "iopub.status.idle": "2021-09-14T03:32:03.717200Z",
     "shell.execute_reply": "2021-09-14T03:32:03.716224Z",
     "shell.execute_reply.started": "2021-09-14T03:32:02.037282Z"
    }
   },
   "outputs": [],
   "source": [
    "cos_sim = linear_kernel(tfid_mat,tfid_mat)"
   ]
  },
  {
   "cell_type": "code",
   "execution_count": 39,
   "metadata": {
    "execution": {
     "iopub.execute_input": "2021-09-14T03:32:03.718637Z",
     "iopub.status.busy": "2021-09-14T03:32:03.718365Z",
     "iopub.status.idle": "2021-09-14T03:32:03.723819Z",
     "shell.execute_reply": "2021-09-14T03:32:03.722760Z",
     "shell.execute_reply.started": "2021-09-14T03:32:03.718610Z"
    }
   },
   "outputs": [
    {
     "data": {
      "text/plain": [
       "9099"
      ]
     },
     "execution_count": 39,
     "metadata": {},
     "output_type": "execute_result"
    }
   ],
   "source": [
    "len(cos_sim[0])"
   ]
  },
  {
   "cell_type": "markdown",
   "metadata": {},
   "source": [
    "from the above we can see that each record created alist of values containing their similarity"
   ]
  },
  {
   "cell_type": "code",
   "execution_count": 40,
   "metadata": {
    "execution": {
     "iopub.execute_input": "2021-09-14T03:32:03.725498Z",
     "iopub.status.busy": "2021-09-14T03:32:03.725211Z",
     "iopub.status.idle": "2021-09-14T03:32:03.741382Z",
     "shell.execute_reply": "2021-09-14T03:32:03.740198Z",
     "shell.execute_reply.started": "2021-09-14T03:32:03.725472Z"
    }
   },
   "outputs": [],
   "source": [
    "smd = smd.reset_index()"
   ]
  },
  {
   "cell_type": "code",
   "execution_count": 41,
   "metadata": {
    "execution": {
     "iopub.execute_input": "2021-09-14T03:32:03.743296Z",
     "iopub.status.busy": "2021-09-14T03:32:03.742896Z",
     "iopub.status.idle": "2021-09-14T03:32:03.748082Z",
     "shell.execute_reply": "2021-09-14T03:32:03.746925Z",
     "shell.execute_reply.started": "2021-09-14T03:32:03.743253Z"
    }
   },
   "outputs": [],
   "source": [
    "titles = smd['title']"
   ]
  },
  {
   "cell_type": "code",
   "execution_count": 42,
   "metadata": {
    "execution": {
     "iopub.execute_input": "2021-09-14T03:32:03.749622Z",
     "iopub.status.busy": "2021-09-14T03:32:03.749340Z",
     "iopub.status.idle": "2021-09-14T03:32:03.766991Z",
     "shell.execute_reply": "2021-09-14T03:32:03.766104Z",
     "shell.execute_reply.started": "2021-09-14T03:32:03.749593Z"
    }
   },
   "outputs": [
    {
     "data": {
      "text/plain": [
       "title\n",
       "Toy Story                                                0\n",
       "Jumanji                                                  1\n",
       "Grumpier Old Men                                         2\n",
       "Waiting to Exhale                                        3\n",
       "Father of the Bride Part II                              4\n",
       "                                                      ... \n",
       "Shin Godzilla                                         9094\n",
       "The Beatles: Eight Days a Week - The Touring Years    9095\n",
       "Pokémon: Spell of the Unknown                         9096\n",
       "Pokémon 4Ever: Celebi - Voice of the Forest           9097\n",
       "Force Majeure                                         9098\n",
       "Length: 9099, dtype: int64"
      ]
     },
     "execution_count": 42,
     "metadata": {},
     "output_type": "execute_result"
    }
   ],
   "source": [
    "indices = pd.Series(smd.index,index=smd['title'])\n",
    "indices"
   ]
  },
  {
   "cell_type": "markdown",
   "metadata": {},
   "source": [
    "we made the title as index and index as values so that we can match the index of cosine similarity with the title."
   ]
  },
  {
   "cell_type": "code",
   "execution_count": 43,
   "metadata": {
    "execution": {
     "iopub.execute_input": "2021-09-14T03:32:03.768448Z",
     "iopub.status.busy": "2021-09-14T03:32:03.768145Z",
     "iopub.status.idle": "2021-09-14T03:32:03.773858Z",
     "shell.execute_reply": "2021-09-14T03:32:03.772939Z",
     "shell.execute_reply.started": "2021-09-14T03:32:03.768419Z"
    }
   },
   "outputs": [],
   "source": [
    "idx = indices['The Dark Knight']"
   ]
  },
  {
   "cell_type": "markdown",
   "metadata": {},
   "source": [
    "getting the index of the movie we need"
   ]
  },
  {
   "cell_type": "code",
   "execution_count": 44,
   "metadata": {
    "execution": {
     "iopub.execute_input": "2021-09-14T03:32:03.775552Z",
     "iopub.status.busy": "2021-09-14T03:32:03.775188Z",
     "iopub.status.idle": "2021-09-14T03:32:03.788468Z",
     "shell.execute_reply": "2021-09-14T03:32:03.787493Z",
     "shell.execute_reply.started": "2021-09-14T03:32:03.775513Z"
    }
   },
   "outputs": [
    {
     "data": {
      "text/plain": [
       "[(0, 0.0), (1, 0.007774131635450035), (2, 0.0), (3, 0.0), (4, 0.0)]"
      ]
     },
     "execution_count": 44,
     "metadata": {},
     "output_type": "execute_result"
    }
   ],
   "source": [
    "sim_scores = list(enumerate(cos_sim[idx]))\n",
    "sim_scores[:5]"
   ]
  },
  {
   "cell_type": "markdown",
   "metadata": {},
   "source": []
  },
  {
   "cell_type": "markdown",
   "metadata": {
    "execution": {
     "iopub.execute_input": "2021-08-23T14:04:43.544981Z",
     "iopub.status.busy": "2021-08-23T14:04:43.5443Z",
     "iopub.status.idle": "2021-08-23T14:04:43.55194Z",
     "shell.execute_reply": "2021-08-23T14:04:43.550407Z",
     "shell.execute_reply.started": "2021-08-23T14:04:43.544923Z"
    }
   },
   "source": [
    "enumarating the cosine similarity of all the movies based on the dark night raises to match the index"
   ]
  },
  {
   "cell_type": "code",
   "execution_count": 45,
   "metadata": {
    "execution": {
     "iopub.execute_input": "2021-09-14T03:32:03.789610Z",
     "iopub.status.busy": "2021-09-14T03:32:03.789370Z",
     "iopub.status.idle": "2021-09-14T03:32:03.806803Z",
     "shell.execute_reply": "2021-09-14T03:32:03.805924Z",
     "shell.execute_reply.started": "2021-09-14T03:32:03.789586Z"
    }
   },
   "outputs": [
    {
     "name": "stdout",
     "output_type": "stream",
     "text": [
      "7931                      The Dark Knight Rises\n",
      "132                              Batman Forever\n",
      "1113                             Batman Returns\n",
      "8227    Batman: The Dark Knight Returns, Part 2\n",
      "7565                 Batman: Under the Red Hood\n",
      "524                                      Batman\n",
      "7901                           Batman: Year One\n",
      "2579               Batman: Mask of the Phantasm\n",
      "2696                                        JFK\n",
      "8165    Batman: The Dark Knight Returns, Part 1\n",
      "6144                              Batman Begins\n",
      "7933         Sherlock Holmes: A Game of Shadows\n",
      "5511                            To End All Wars\n",
      "4489                                      Q & A\n",
      "7344                        Law Abiding Citizen\n",
      "7242                  The File on Thelma Jordon\n",
      "3537                               Criminal Law\n",
      "2893                              Flying Tigers\n",
      "1135                   Night Falls on Manhattan\n",
      "8680                          The Young Savages\n",
      "8917         Batman v Superman: Dawn of Justice\n",
      "1240                             Batman & Robin\n",
      "6740                                Rush Hour 3\n",
      "1652                            The Shaggy D.A.\n",
      "6667                                   Fracture\n",
      "4028                                 The Rookie\n",
      "8371       Justice League: Crisis on Two Earths\n",
      "8719                                 By the Gun\n",
      "3730                    Dr. Mabuse, the Gambler\n",
      "4160                     The Master of Disguise\n",
      "Name: title, dtype: object\n"
     ]
    }
   ],
   "source": [
    "sim_scores = sorted(sim_scores, key=lambda x: x[1], reverse=True) #sorting the movies based on the max similarity score\n",
    "sim_scores = sim_scores[1:31]\n",
    "movie_indices = [i[0] for i in sim_scores]#getting the similarity score of the movies based on movie 'the dark night raises'\n",
    "print(titles.iloc[movie_indices])"
   ]
  },
  {
   "cell_type": "markdown",
   "metadata": {},
   "source": [
    "by printing we would get the movies similar to dark night raises based on the tagline and discription"
   ]
  },
  {
   "cell_type": "markdown",
   "metadata": {},
   "source": [
    "### now creating a function"
   ]
  },
  {
   "cell_type": "code",
   "execution_count": 46,
   "metadata": {
    "execution": {
     "iopub.execute_input": "2021-09-14T03:32:03.808435Z",
     "iopub.status.busy": "2021-09-14T03:32:03.808138Z",
     "iopub.status.idle": "2021-09-14T03:32:03.817720Z",
     "shell.execute_reply": "2021-09-14T03:32:03.817078Z",
     "shell.execute_reply.started": "2021-09-14T03:32:03.808406Z"
    }
   },
   "outputs": [],
   "source": [
    "def get_recommendations(title):\n",
    "    idx = indices[title]#Gettting the index of the movie\n",
    "    sim_scores = list(enumerate(cos_sim[idx])) #finding the cos similarity of the movie using it index and enumarating the similarity\n",
    "    sim_scores = sorted(sim_scores, key=lambda x: x[1], reverse=True) #sorting the movie based on the similarity score \n",
    "    sim_scores = sim_scores[1:31] # taking first 30 movies\n",
    "    movie_indices = [i[0] for i in sim_scores] # taking the sorted movies \n",
    "    return titles.iloc[movie_indices]"
   ]
  },
  {
   "cell_type": "code",
   "execution_count": 47,
   "metadata": {
    "execution": {
     "iopub.execute_input": "2021-09-14T03:32:03.818903Z",
     "iopub.status.busy": "2021-09-14T03:32:03.818551Z",
     "iopub.status.idle": "2021-09-14T03:32:03.840527Z",
     "shell.execute_reply": "2021-09-14T03:32:03.839816Z",
     "shell.execute_reply.started": "2021-09-14T03:32:03.818877Z"
    }
   },
   "outputs": [
    {
     "data": {
      "text/plain": [
       "973      The Godfather: Part II\n",
       "8387                 The Family\n",
       "3509                       Made\n",
       "4196         Johnny Dangerously\n",
       "29               Shanghai Triad\n",
       "5667                       Fury\n",
       "2412             American Movie\n",
       "1582    The Godfather: Part III\n",
       "4221                    8 Women\n",
       "2159              Summer of Sam\n",
       "Name: title, dtype: object"
      ]
     },
     "execution_count": 47,
     "metadata": {},
     "output_type": "execute_result"
    }
   ],
   "source": [
    "get_recommendations('The Godfather').head(10)"
   ]
  },
  {
   "cell_type": "code",
   "execution_count": 48,
   "metadata": {
    "execution": {
     "iopub.execute_input": "2021-09-14T03:32:03.841766Z",
     "iopub.status.busy": "2021-09-14T03:32:03.841412Z",
     "iopub.status.idle": "2021-09-14T03:32:03.855808Z",
     "shell.execute_reply": "2021-09-14T03:32:03.854859Z",
     "shell.execute_reply.started": "2021-09-14T03:32:03.841740Z"
    }
   },
   "outputs": [
    {
     "data": {
      "text/plain": [
       "7931                      The Dark Knight Rises\n",
       "132                              Batman Forever\n",
       "1113                             Batman Returns\n",
       "8227    Batman: The Dark Knight Returns, Part 2\n",
       "7565                 Batman: Under the Red Hood\n",
       "524                                      Batman\n",
       "7901                           Batman: Year One\n",
       "2579               Batman: Mask of the Phantasm\n",
       "2696                                        JFK\n",
       "8165    Batman: The Dark Knight Returns, Part 1\n",
       "Name: title, dtype: object"
      ]
     },
     "execution_count": 48,
     "metadata": {},
     "output_type": "execute_result"
    }
   ],
   "source": [
    "get_recommendations('The Dark Knight').head(10)"
   ]
  },
  {
   "cell_type": "markdown",
   "metadata": {},
   "source": [
    "From the above we can able to see that when we give the dark night it gives all the batman movies . where it found the similarity based on discription and taglines. This recomendation are good when we want a sequel of the movie. but suppose if the movie doesn't have any sequel then we have to recommend movies based on other criteria like cast,crew,and geners and keywords."
   ]
  },
  {
   "cell_type": "code",
   "execution_count": 49,
   "metadata": {
    "execution": {
     "iopub.execute_input": "2021-09-14T03:32:03.857182Z",
     "iopub.status.busy": "2021-09-14T03:32:03.856933Z",
     "iopub.status.idle": "2021-09-14T03:32:07.871875Z",
     "shell.execute_reply": "2021-09-14T03:32:07.870904Z",
     "shell.execute_reply.started": "2021-09-14T03:32:03.857158Z"
    }
   },
   "outputs": [],
   "source": [
    "credits = pd.read_csv('credits.csv')\n",
    "keyword = pd.read_csv('keywords.csv')"
   ]
  },
  {
   "cell_type": "code",
   "execution_count": 50,
   "metadata": {
    "execution": {
     "iopub.execute_input": "2021-09-14T03:32:07.873229Z",
     "iopub.status.busy": "2021-09-14T03:32:07.872981Z",
     "iopub.status.idle": "2021-09-14T03:32:07.881983Z",
     "shell.execute_reply": "2021-09-14T03:32:07.880662Z",
     "shell.execute_reply.started": "2021-09-14T03:32:07.873205Z"
    }
   },
   "outputs": [
    {
     "data": {
      "text/plain": [
       "\"[{'cast_id': 14, 'character': 'Woody (voice)', 'credit_id': '52fe4284c3a36847f8024f95', 'gender': 2, 'id': 31, 'name': 'Tom Hanks', 'order': 0, 'profile_path': '/pQFoyx7rp09CJTAb932F2g8Nlho.jpg'}, {'cast_id': 15, 'character': 'Buzz Lightyear (voice)', 'credit_id': '52fe4284c3a36847f8024f99', 'gender': 2, 'id': 12898, 'name': 'Tim Allen', 'order': 1, 'profile_path': '/uX2xVf6pMmPepxnvFWyBtjexzgY.jpg'}, {'cast_id': 16, 'character': 'Mr. Potato Head (voice)', 'credit_id': '52fe4284c3a36847f8024f9d', 'gender': 2, 'id': 7167, 'name': 'Don Rickles', 'order': 2, 'profile_path': '/h5BcaDMPRVLHLDzbQavec4xfSdt.jpg'}, {'cast_id': 17, 'character': 'Slinky Dog (voice)', 'credit_id': '52fe4284c3a36847f8024fa1', 'gender': 2, 'id': 12899, 'name': 'Jim Varney', 'order': 3, 'profile_path': '/eIo2jVVXYgjDtaHoF19Ll9vtW7h.jpg'}, {'cast_id': 18, 'character': 'Rex (voice)', 'credit_id': '52fe4284c3a36847f8024fa5', 'gender': 2, 'id': 12900, 'name': 'Wallace Shawn', 'order': 4, 'profile_path': '/oGE6JqPP2xH4tNORKNqxbNPYi7u.jpg'}, {'cast_id': 19, 'character': 'Hamm (voice)', 'credit_id': '52fe4284c3a36847f8024fa9', 'gender': 2, 'id': 7907, 'name': 'John Ratzenberger', 'order': 5, 'profile_path': '/yGechiKWL6TJDfVE2KPSJYqdMsY.jpg'}, {'cast_id': 20, 'character': 'Bo Peep (voice)', 'credit_id': '52fe4284c3a36847f8024fad', 'gender': 1, 'id': 8873, 'name': 'Annie Potts', 'order': 6, 'profile_path': '/eryXT84RL41jHSJcMy4kS3u9y6w.jpg'}, {'cast_id': 26, 'character': 'Andy (voice)', 'credit_id': '52fe4284c3a36847f8024fc1', 'gender': 0, 'id': 1116442, 'name': 'John Morris', 'order': 7, 'profile_path': '/vYGyvK4LzeaUCoNSHtsuqJUY15M.jpg'}, {'cast_id': 22, 'character': 'Sid (voice)', 'credit_id': '52fe4284c3a36847f8024fb1', 'gender': 2, 'id': 12901, 'name': 'Erik von Detten', 'order': 8, 'profile_path': '/twnF1ZaJ1FUNUuo6xLXwcxjayBE.jpg'}, {'cast_id': 23, 'character': 'Mrs. Davis (voice)', 'credit_id': '52fe4284c3a36847f8024fb5', 'gender': 1, 'id': 12133, 'name': 'Laurie Metcalf', 'order': 9, 'profile_path': '/unMMIT60eoBM2sN2nyR7EZ2BvvD.jpg'}, {'cast_id': 24, 'character': 'Sergeant (voice)', 'credit_id': '52fe4284c3a36847f8024fb9', 'gender': 2, 'id': 8655, 'name': 'R. Lee Ermey', 'order': 10, 'profile_path': '/r8GBqFBjypLUP9VVqDqfZ7wYbSs.jpg'}, {'cast_id': 25, 'character': 'Hannah (voice)', 'credit_id': '52fe4284c3a36847f8024fbd', 'gender': 1, 'id': 12903, 'name': 'Sarah Freeman', 'order': 11, 'profile_path': None}, {'cast_id': 27, 'character': 'TV Announcer (voice)', 'credit_id': '52fe4284c3a36847f8024fc5', 'gender': 2, 'id': 37221, 'name': 'Penn Jillette', 'order': 12, 'profile_path': '/zmAaXUdx12NRsssgHbk1T31j2x9.jpg'}]\""
      ]
     },
     "execution_count": 50,
     "metadata": {},
     "output_type": "execute_result"
    }
   ],
   "source": [
    "pd.set_option('max_colwidth',60)\n",
    "credits['cast'][0:1][0]"
   ]
  },
  {
   "cell_type": "code",
   "execution_count": 51,
   "metadata": {
    "execution": {
     "iopub.execute_input": "2021-09-14T03:32:07.883417Z",
     "iopub.status.busy": "2021-09-14T03:32:07.883167Z",
     "iopub.status.idle": "2021-09-14T03:32:07.892350Z",
     "shell.execute_reply": "2021-09-14T03:32:07.891433Z",
     "shell.execute_reply.started": "2021-09-14T03:32:07.883393Z"
    }
   },
   "outputs": [],
   "source": [
    "keyword['id'] = keyword['id'].astype('int')\n",
    "credits['id'] = credits['id'].astype('int')\n",
    "md['id'] = md['id'].astype('int')"
   ]
  },
  {
   "cell_type": "markdown",
   "metadata": {},
   "source": [
    "Changind the data type as Int"
   ]
  },
  {
   "cell_type": "code",
   "execution_count": 52,
   "metadata": {
    "execution": {
     "iopub.execute_input": "2021-09-14T03:32:07.893799Z",
     "iopub.status.busy": "2021-09-14T03:32:07.893533Z",
     "iopub.status.idle": "2021-09-14T03:32:08.006523Z",
     "shell.execute_reply": "2021-09-14T03:32:08.005640Z",
     "shell.execute_reply.started": "2021-09-14T03:32:07.893775Z"
    }
   },
   "outputs": [],
   "source": [
    "md = md.merge(keyword,on='id')\n"
   ]
  },
  {
   "cell_type": "markdown",
   "metadata": {},
   "source": [
    "merging the keword dataset to md dataset based on its ID"
   ]
  },
  {
   "cell_type": "code",
   "execution_count": 53,
   "metadata": {
    "execution": {
     "iopub.execute_input": "2021-09-14T03:32:08.007833Z",
     "iopub.status.busy": "2021-09-14T03:32:08.007571Z",
     "iopub.status.idle": "2021-09-14T03:32:08.056515Z",
     "shell.execute_reply": "2021-09-14T03:32:08.055436Z",
     "shell.execute_reply.started": "2021-09-14T03:32:08.007809Z"
    }
   },
   "outputs": [],
   "source": [
    "md = md.merge(credits,on='id')\n"
   ]
  },
  {
   "cell_type": "markdown",
   "metadata": {},
   "source": [
    "merging the credits dataset to md dataset based on its ID"
   ]
  },
  {
   "cell_type": "code",
   "execution_count": 54,
   "metadata": {
    "execution": {
     "iopub.execute_input": "2021-09-14T03:32:08.057933Z",
     "iopub.status.busy": "2021-09-14T03:32:08.057640Z",
     "iopub.status.idle": "2021-09-14T03:32:08.147299Z",
     "shell.execute_reply": "2021-09-14T03:32:08.146188Z",
     "shell.execute_reply.started": "2021-09-14T03:32:08.057905Z"
    }
   },
   "outputs": [
    {
     "data": {
      "text/html": [
       "<div>\n",
       "<style scoped>\n",
       "    .dataframe tbody tr th:only-of-type {\n",
       "        vertical-align: middle;\n",
       "    }\n",
       "\n",
       "    .dataframe tbody tr th {\n",
       "        vertical-align: top;\n",
       "    }\n",
       "\n",
       "    .dataframe thead th {\n",
       "        text-align: right;\n",
       "    }\n",
       "</style>\n",
       "<table border=\"1\" class=\"dataframe\">\n",
       "  <thead>\n",
       "    <tr style=\"text-align: right;\">\n",
       "      <th></th>\n",
       "      <th>adult</th>\n",
       "      <th>belongs_to_collection</th>\n",
       "      <th>budget</th>\n",
       "      <th>genres</th>\n",
       "      <th>homepage</th>\n",
       "      <th>id</th>\n",
       "      <th>imdb_id</th>\n",
       "      <th>original_language</th>\n",
       "      <th>original_title</th>\n",
       "      <th>overview</th>\n",
       "      <th>popularity</th>\n",
       "      <th>poster_path</th>\n",
       "      <th>production_companies</th>\n",
       "      <th>production_countries</th>\n",
       "      <th>release_date</th>\n",
       "      <th>revenue</th>\n",
       "      <th>runtime</th>\n",
       "      <th>spoken_languages</th>\n",
       "      <th>status</th>\n",
       "      <th>tagline</th>\n",
       "      <th>title</th>\n",
       "      <th>video</th>\n",
       "      <th>vote_average</th>\n",
       "      <th>vote_count</th>\n",
       "      <th>year</th>\n",
       "      <th>keywords</th>\n",
       "      <th>cast</th>\n",
       "      <th>crew</th>\n",
       "    </tr>\n",
       "  </thead>\n",
       "  <tbody>\n",
       "    <tr>\n",
       "      <th>0</th>\n",
       "      <td>False</td>\n",
       "      <td>{'id': 10194, 'name': 'Toy Story Collection', 'poster_pa...</td>\n",
       "      <td>30000000</td>\n",
       "      <td>[Animation, Comedy, Family]</td>\n",
       "      <td>http://toystory.disney.com/toy-story</td>\n",
       "      <td>862</td>\n",
       "      <td>tt0114709</td>\n",
       "      <td>en</td>\n",
       "      <td>Toy Story</td>\n",
       "      <td>Led by Woody, Andy's toys live happily in his room until...</td>\n",
       "      <td>21.946943</td>\n",
       "      <td>/rhIRbceoE9lR4veEXuwCC2wARtG.jpg</td>\n",
       "      <td>[{'name': 'Pixar Animation Studios', 'id': 3}]</td>\n",
       "      <td>[{'iso_3166_1': 'US', 'name': 'United States of America'}]</td>\n",
       "      <td>1995-10-30</td>\n",
       "      <td>373554033.0</td>\n",
       "      <td>81.0</td>\n",
       "      <td>[{'iso_639_1': 'en', 'name': 'English'}]</td>\n",
       "      <td>Released</td>\n",
       "      <td>NaN</td>\n",
       "      <td>Toy Story</td>\n",
       "      <td>False</td>\n",
       "      <td>7.7</td>\n",
       "      <td>5415.0</td>\n",
       "      <td>1995</td>\n",
       "      <td>[{'id': 931, 'name': 'jealousy'}, {'id': 4290, 'name': '...</td>\n",
       "      <td>[{'cast_id': 14, 'character': 'Woody (voice)', 'credit_i...</td>\n",
       "      <td>[{'credit_id': '52fe4284c3a36847f8024f49', 'department':...</td>\n",
       "    </tr>\n",
       "    <tr>\n",
       "      <th>1</th>\n",
       "      <td>False</td>\n",
       "      <td>NaN</td>\n",
       "      <td>65000000</td>\n",
       "      <td>[Adventure, Fantasy, Family]</td>\n",
       "      <td>NaN</td>\n",
       "      <td>8844</td>\n",
       "      <td>tt0113497</td>\n",
       "      <td>en</td>\n",
       "      <td>Jumanji</td>\n",
       "      <td>When siblings Judy and Peter discover an enchanted board...</td>\n",
       "      <td>17.015539</td>\n",
       "      <td>/vzmL6fP7aPKNKPRTFnZmiUfciyV.jpg</td>\n",
       "      <td>[{'name': 'TriStar Pictures', 'id': 559}, {'name': 'Teit...</td>\n",
       "      <td>[{'iso_3166_1': 'US', 'name': 'United States of America'}]</td>\n",
       "      <td>1995-12-15</td>\n",
       "      <td>262797249.0</td>\n",
       "      <td>104.0</td>\n",
       "      <td>[{'iso_639_1': 'en', 'name': 'English'}, {'iso_639_1': '...</td>\n",
       "      <td>Released</td>\n",
       "      <td>Roll the dice and unleash the excitement!</td>\n",
       "      <td>Jumanji</td>\n",
       "      <td>False</td>\n",
       "      <td>6.9</td>\n",
       "      <td>2413.0</td>\n",
       "      <td>1995</td>\n",
       "      <td>[{'id': 10090, 'name': 'board game'}, {'id': 10941, 'nam...</td>\n",
       "      <td>[{'cast_id': 1, 'character': 'Alan Parrish', 'credit_id'...</td>\n",
       "      <td>[{'credit_id': '52fe44bfc3a36847f80a7cd1', 'department':...</td>\n",
       "    </tr>\n",
       "    <tr>\n",
       "      <th>2</th>\n",
       "      <td>False</td>\n",
       "      <td>{'id': 119050, 'name': 'Grumpy Old Men Collection', 'pos...</td>\n",
       "      <td>0</td>\n",
       "      <td>[Romance, Comedy]</td>\n",
       "      <td>NaN</td>\n",
       "      <td>15602</td>\n",
       "      <td>tt0113228</td>\n",
       "      <td>en</td>\n",
       "      <td>Grumpier Old Men</td>\n",
       "      <td>A family wedding reignites the ancient feud between next...</td>\n",
       "      <td>11.7129</td>\n",
       "      <td>/6ksm1sjKMFLbO7UY2i6G1ju9SML.jpg</td>\n",
       "      <td>[{'name': 'Warner Bros.', 'id': 6194}, {'name': 'Lancast...</td>\n",
       "      <td>[{'iso_3166_1': 'US', 'name': 'United States of America'}]</td>\n",
       "      <td>1995-12-22</td>\n",
       "      <td>0.0</td>\n",
       "      <td>101.0</td>\n",
       "      <td>[{'iso_639_1': 'en', 'name': 'English'}]</td>\n",
       "      <td>Released</td>\n",
       "      <td>Still Yelling. Still Fighting. Still Ready for Love.</td>\n",
       "      <td>Grumpier Old Men</td>\n",
       "      <td>False</td>\n",
       "      <td>6.5</td>\n",
       "      <td>92.0</td>\n",
       "      <td>1995</td>\n",
       "      <td>[{'id': 1495, 'name': 'fishing'}, {'id': 12392, 'name': ...</td>\n",
       "      <td>[{'cast_id': 2, 'character': 'Max Goldman', 'credit_id':...</td>\n",
       "      <td>[{'credit_id': '52fe466a9251416c75077a89', 'department':...</td>\n",
       "    </tr>\n",
       "    <tr>\n",
       "      <th>3</th>\n",
       "      <td>False</td>\n",
       "      <td>NaN</td>\n",
       "      <td>16000000</td>\n",
       "      <td>[Comedy, Drama, Romance]</td>\n",
       "      <td>NaN</td>\n",
       "      <td>31357</td>\n",
       "      <td>tt0114885</td>\n",
       "      <td>en</td>\n",
       "      <td>Waiting to Exhale</td>\n",
       "      <td>Cheated on, mistreated and stepped on, the women are hol...</td>\n",
       "      <td>3.859495</td>\n",
       "      <td>/16XOMpEaLWkrcPqSQqhTmeJuqQl.jpg</td>\n",
       "      <td>[{'name': 'Twentieth Century Fox Film Corporation', 'id'...</td>\n",
       "      <td>[{'iso_3166_1': 'US', 'name': 'United States of America'}]</td>\n",
       "      <td>1995-12-22</td>\n",
       "      <td>81452156.0</td>\n",
       "      <td>127.0</td>\n",
       "      <td>[{'iso_639_1': 'en', 'name': 'English'}]</td>\n",
       "      <td>Released</td>\n",
       "      <td>Friends are the people who let you be yourself... and ne...</td>\n",
       "      <td>Waiting to Exhale</td>\n",
       "      <td>False</td>\n",
       "      <td>6.1</td>\n",
       "      <td>34.0</td>\n",
       "      <td>1995</td>\n",
       "      <td>[{'id': 818, 'name': 'based on novel'}, {'id': 10131, 'n...</td>\n",
       "      <td>[{'cast_id': 1, 'character': \"Savannah 'Vannah' Jackson\"...</td>\n",
       "      <td>[{'credit_id': '52fe44779251416c91011acb', 'department':...</td>\n",
       "    </tr>\n",
       "    <tr>\n",
       "      <th>4</th>\n",
       "      <td>False</td>\n",
       "      <td>{'id': 96871, 'name': 'Father of the Bride Collection', ...</td>\n",
       "      <td>0</td>\n",
       "      <td>[Comedy]</td>\n",
       "      <td>NaN</td>\n",
       "      <td>11862</td>\n",
       "      <td>tt0113041</td>\n",
       "      <td>en</td>\n",
       "      <td>Father of the Bride Part II</td>\n",
       "      <td>Just when George Banks has recovered from his daughter's...</td>\n",
       "      <td>8.387519</td>\n",
       "      <td>/e64sOI48hQXyru7naBFyssKFxVd.jpg</td>\n",
       "      <td>[{'name': 'Sandollar Productions', 'id': 5842}, {'name':...</td>\n",
       "      <td>[{'iso_3166_1': 'US', 'name': 'United States of America'}]</td>\n",
       "      <td>1995-02-10</td>\n",
       "      <td>76578911.0</td>\n",
       "      <td>106.0</td>\n",
       "      <td>[{'iso_639_1': 'en', 'name': 'English'}]</td>\n",
       "      <td>Released</td>\n",
       "      <td>Just When His World Is Back To Normal... He's In For The...</td>\n",
       "      <td>Father of the Bride Part II</td>\n",
       "      <td>False</td>\n",
       "      <td>5.7</td>\n",
       "      <td>173.0</td>\n",
       "      <td>1995</td>\n",
       "      <td>[{'id': 1009, 'name': 'baby'}, {'id': 1599, 'name': 'mid...</td>\n",
       "      <td>[{'cast_id': 1, 'character': 'George Banks', 'credit_id'...</td>\n",
       "      <td>[{'credit_id': '52fe44959251416c75039ed7', 'department':...</td>\n",
       "    </tr>\n",
       "    <tr>\n",
       "      <th>...</th>\n",
       "      <td>...</td>\n",
       "      <td>...</td>\n",
       "      <td>...</td>\n",
       "      <td>...</td>\n",
       "      <td>...</td>\n",
       "      <td>...</td>\n",
       "      <td>...</td>\n",
       "      <td>...</td>\n",
       "      <td>...</td>\n",
       "      <td>...</td>\n",
       "      <td>...</td>\n",
       "      <td>...</td>\n",
       "      <td>...</td>\n",
       "      <td>...</td>\n",
       "      <td>...</td>\n",
       "      <td>...</td>\n",
       "      <td>...</td>\n",
       "      <td>...</td>\n",
       "      <td>...</td>\n",
       "      <td>...</td>\n",
       "      <td>...</td>\n",
       "      <td>...</td>\n",
       "      <td>...</td>\n",
       "      <td>...</td>\n",
       "      <td>...</td>\n",
       "      <td>...</td>\n",
       "      <td>...</td>\n",
       "      <td>...</td>\n",
       "    </tr>\n",
       "    <tr>\n",
       "      <th>40952</th>\n",
       "      <td>False</td>\n",
       "      <td>NaN</td>\n",
       "      <td>8000000</td>\n",
       "      <td>[Drama]</td>\n",
       "      <td>NaN</td>\n",
       "      <td>159550</td>\n",
       "      <td>tt0255313</td>\n",
       "      <td>en</td>\n",
       "      <td>The Last Brickmaker in America</td>\n",
       "      <td>A man must cope with the loss of his wife and the obsole...</td>\n",
       "      <td>0.038998</td>\n",
       "      <td>/yWp7PgydSlxlhl7benKhTnCvRjN.jpg</td>\n",
       "      <td>[{'name': 'Nasser Entertainment', 'id': 35802}]</td>\n",
       "      <td>[{'iso_3166_1': 'US', 'name': 'United States of America'}]</td>\n",
       "      <td>2001-09-23</td>\n",
       "      <td>0.0</td>\n",
       "      <td>85.0</td>\n",
       "      <td>[]</td>\n",
       "      <td>Released</td>\n",
       "      <td>NaN</td>\n",
       "      <td>The Last Brickmaker in America</td>\n",
       "      <td>False</td>\n",
       "      <td>7.0</td>\n",
       "      <td>1.0</td>\n",
       "      <td>2001</td>\n",
       "      <td>[{'id': 6054, 'name': 'friendship'}, {'id': 207818, 'nam...</td>\n",
       "      <td>[{'cast_id': 1, 'character': 'Henry Cobb', 'credit_id': ...</td>\n",
       "      <td>[{'credit_id': '544475aac3a36819fb000578', 'department':...</td>\n",
       "    </tr>\n",
       "    <tr>\n",
       "      <th>41172</th>\n",
       "      <td>False</td>\n",
       "      <td>NaN</td>\n",
       "      <td>1000000</td>\n",
       "      <td>[Thriller, Romance]</td>\n",
       "      <td>NaN</td>\n",
       "      <td>392572</td>\n",
       "      <td>tt5165344</td>\n",
       "      <td>hi</td>\n",
       "      <td>रुस्तम</td>\n",
       "      <td>Rustom Pavri, an honourable officer of the Indian Navy s...</td>\n",
       "      <td>7.333139</td>\n",
       "      <td>/q1lrN6ZrIsOs077lQB86aPGKZRF.jpg</td>\n",
       "      <td>[{'name': 'KriArj Entertainment', 'id': 91689}]</td>\n",
       "      <td>[{'iso_3166_1': 'IN', 'name': 'India'}]</td>\n",
       "      <td>2016-08-12</td>\n",
       "      <td>0.0</td>\n",
       "      <td>150.0</td>\n",
       "      <td>[{'iso_639_1': 'hi', 'name': 'हिन्दी'}]</td>\n",
       "      <td>Released</td>\n",
       "      <td>Decorated Officer. Devoted Family Man. Defending His Hon...</td>\n",
       "      <td>Rustom</td>\n",
       "      <td>False</td>\n",
       "      <td>7.3</td>\n",
       "      <td>25.0</td>\n",
       "      <td>2016</td>\n",
       "      <td>[{'id': 10540, 'name': 'bollywood'}]</td>\n",
       "      <td>[{'cast_id': 0, 'character': 'Rustom Pavri', 'credit_id'...</td>\n",
       "      <td>[{'credit_id': '5951baf692514129c4016600', 'department':...</td>\n",
       "    </tr>\n",
       "    <tr>\n",
       "      <th>41225</th>\n",
       "      <td>False</td>\n",
       "      <td>NaN</td>\n",
       "      <td>15050000</td>\n",
       "      <td>[Adventure, Drama, History, Romance]</td>\n",
       "      <td>NaN</td>\n",
       "      <td>402672</td>\n",
       "      <td>tt3859980</td>\n",
       "      <td>hi</td>\n",
       "      <td>Mohenjo Daro</td>\n",
       "      <td>Village lad Sarman is drawn to big, bad Mohenjo Daro - a...</td>\n",
       "      <td>1.423358</td>\n",
       "      <td>/q2XVemXiWSa18mbaVpI3rbLXG2u.jpg</td>\n",
       "      <td>[{'name': 'UTV Motion Pictures', 'id': 2320}, {'name': '...</td>\n",
       "      <td>[{'iso_3166_1': 'IN', 'name': 'India'}]</td>\n",
       "      <td>2016-08-11</td>\n",
       "      <td>16180000.0</td>\n",
       "      <td>155.0</td>\n",
       "      <td>[{'iso_639_1': 'hi', 'name': 'हिन्दी'}]</td>\n",
       "      <td>Released</td>\n",
       "      <td>NaN</td>\n",
       "      <td>Mohenjo Daro</td>\n",
       "      <td>False</td>\n",
       "      <td>6.7</td>\n",
       "      <td>26.0</td>\n",
       "      <td>2016</td>\n",
       "      <td>[{'id': 10540, 'name': 'bollywood'}]</td>\n",
       "      <td>[{'cast_id': 0, 'character': 'Sarman', 'credit_id': '576...</td>\n",
       "      <td>[{'credit_id': '57cd5d3592514179d50018e8', 'department':...</td>\n",
       "    </tr>\n",
       "    <tr>\n",
       "      <th>41391</th>\n",
       "      <td>False</td>\n",
       "      <td>NaN</td>\n",
       "      <td>15000000</td>\n",
       "      <td>[Action, Adventure, Drama, Horror, Science Fiction]</td>\n",
       "      <td>NaN</td>\n",
       "      <td>315011</td>\n",
       "      <td>tt4262980</td>\n",
       "      <td>ja</td>\n",
       "      <td>シン・ゴジラ</td>\n",
       "      <td>From the mind behind Evangelion comes a hit larger than ...</td>\n",
       "      <td>9.285519</td>\n",
       "      <td>/8YWirGQidtZeSEmhqvQM5FrI6N1.jpg</td>\n",
       "      <td>[{'name': 'Cine Bazar', 'id': 5896}, {'name': 'Toho Pict...</td>\n",
       "      <td>[{'iso_3166_1': 'JP', 'name': 'Japan'}]</td>\n",
       "      <td>2016-07-29</td>\n",
       "      <td>77000000.0</td>\n",
       "      <td>120.0</td>\n",
       "      <td>[{'iso_639_1': 'it', 'name': 'Italiano'}, {'iso_639_1': ...</td>\n",
       "      <td>Released</td>\n",
       "      <td>A god incarnate. A city doomed.</td>\n",
       "      <td>Shin Godzilla</td>\n",
       "      <td>False</td>\n",
       "      <td>6.6</td>\n",
       "      <td>152.0</td>\n",
       "      <td>2016</td>\n",
       "      <td>[{'id': 1299, 'name': 'monster'}, {'id': 7671, 'name': '...</td>\n",
       "      <td>[{'cast_id': 4, 'character': 'Rando Yaguchi : Deputy Chi...</td>\n",
       "      <td>[{'credit_id': '560892fa92514177550018b2', 'department':...</td>\n",
       "    </tr>\n",
       "    <tr>\n",
       "      <th>41669</th>\n",
       "      <td>False</td>\n",
       "      <td>NaN</td>\n",
       "      <td>0</td>\n",
       "      <td>[Documentary, Music]</td>\n",
       "      <td>http://www.thebeatlesliveproject.com/</td>\n",
       "      <td>391698</td>\n",
       "      <td>tt2531318</td>\n",
       "      <td>en</td>\n",
       "      <td>The Beatles: Eight Days a Week - The Touring Years</td>\n",
       "      <td>The band stormed Europe in 1963, and, in 1964, they conq...</td>\n",
       "      <td>7.078301</td>\n",
       "      <td>/uv7syi4vRyjvWoB8qExbqnbuCu5.jpg</td>\n",
       "      <td>[{'name': 'Imagine Entertainment', 'id': 23}, {'name': '...</td>\n",
       "      <td>[{'iso_3166_1': 'GB', 'name': 'United Kingdom'}, {'iso_3...</td>\n",
       "      <td>2016-09-15</td>\n",
       "      <td>0.0</td>\n",
       "      <td>99.0</td>\n",
       "      <td>[{'iso_639_1': 'en', 'name': 'English'}]</td>\n",
       "      <td>Released</td>\n",
       "      <td>The band you know. The story you don't.</td>\n",
       "      <td>The Beatles: Eight Days a Week - The Touring Years</td>\n",
       "      <td>False</td>\n",
       "      <td>7.6</td>\n",
       "      <td>92.0</td>\n",
       "      <td>2016</td>\n",
       "      <td>[{'id': 6027, 'name': 'music'}, {'id': 10073, 'name': 'd...</td>\n",
       "      <td>[{'cast_id': 0, 'character': 'Himself', 'credit_id': '57...</td>\n",
       "      <td>[{'credit_id': '57057c6cc3a3680dca000285', 'department':...</td>\n",
       "    </tr>\n",
       "  </tbody>\n",
       "</table>\n",
       "<p>9219 rows × 28 columns</p>\n",
       "</div>"
      ],
      "text/plain": [
       "       adult                                        belongs_to_collection  \\\n",
       "0      False  {'id': 10194, 'name': 'Toy Story Collection', 'poster_pa...   \n",
       "1      False                                                          NaN   \n",
       "2      False  {'id': 119050, 'name': 'Grumpy Old Men Collection', 'pos...   \n",
       "3      False                                                          NaN   \n",
       "4      False  {'id': 96871, 'name': 'Father of the Bride Collection', ...   \n",
       "...      ...                                                          ...   \n",
       "40952  False                                                          NaN   \n",
       "41172  False                                                          NaN   \n",
       "41225  False                                                          NaN   \n",
       "41391  False                                                          NaN   \n",
       "41669  False                                                          NaN   \n",
       "\n",
       "         budget                                               genres  \\\n",
       "0      30000000                          [Animation, Comedy, Family]   \n",
       "1      65000000                         [Adventure, Fantasy, Family]   \n",
       "2             0                                    [Romance, Comedy]   \n",
       "3      16000000                             [Comedy, Drama, Romance]   \n",
       "4             0                                             [Comedy]   \n",
       "...         ...                                                  ...   \n",
       "40952   8000000                                              [Drama]   \n",
       "41172   1000000                                  [Thriller, Romance]   \n",
       "41225  15050000                 [Adventure, Drama, History, Romance]   \n",
       "41391  15000000  [Action, Adventure, Drama, Horror, Science Fiction]   \n",
       "41669         0                                 [Documentary, Music]   \n",
       "\n",
       "                                    homepage      id    imdb_id  \\\n",
       "0       http://toystory.disney.com/toy-story     862  tt0114709   \n",
       "1                                        NaN    8844  tt0113497   \n",
       "2                                        NaN   15602  tt0113228   \n",
       "3                                        NaN   31357  tt0114885   \n",
       "4                                        NaN   11862  tt0113041   \n",
       "...                                      ...     ...        ...   \n",
       "40952                                    NaN  159550  tt0255313   \n",
       "41172                                    NaN  392572  tt5165344   \n",
       "41225                                    NaN  402672  tt3859980   \n",
       "41391                                    NaN  315011  tt4262980   \n",
       "41669  http://www.thebeatlesliveproject.com/  391698  tt2531318   \n",
       "\n",
       "      original_language                                      original_title  \\\n",
       "0                    en                                           Toy Story   \n",
       "1                    en                                             Jumanji   \n",
       "2                    en                                    Grumpier Old Men   \n",
       "3                    en                                   Waiting to Exhale   \n",
       "4                    en                         Father of the Bride Part II   \n",
       "...                 ...                                                 ...   \n",
       "40952                en                      The Last Brickmaker in America   \n",
       "41172                hi                                              रुस्तम   \n",
       "41225                hi                                        Mohenjo Daro   \n",
       "41391                ja                                              シン・ゴジラ   \n",
       "41669                en  The Beatles: Eight Days a Week - The Touring Years   \n",
       "\n",
       "                                                          overview popularity  \\\n",
       "0      Led by Woody, Andy's toys live happily in his room until...  21.946943   \n",
       "1      When siblings Judy and Peter discover an enchanted board...  17.015539   \n",
       "2      A family wedding reignites the ancient feud between next...    11.7129   \n",
       "3      Cheated on, mistreated and stepped on, the women are hol...   3.859495   \n",
       "4      Just when George Banks has recovered from his daughter's...   8.387519   \n",
       "...                                                            ...        ...   \n",
       "40952  A man must cope with the loss of his wife and the obsole...   0.038998   \n",
       "41172  Rustom Pavri, an honourable officer of the Indian Navy s...   7.333139   \n",
       "41225  Village lad Sarman is drawn to big, bad Mohenjo Daro - a...   1.423358   \n",
       "41391  From the mind behind Evangelion comes a hit larger than ...   9.285519   \n",
       "41669  The band stormed Europe in 1963, and, in 1964, they conq...   7.078301   \n",
       "\n",
       "                            poster_path  \\\n",
       "0      /rhIRbceoE9lR4veEXuwCC2wARtG.jpg   \n",
       "1      /vzmL6fP7aPKNKPRTFnZmiUfciyV.jpg   \n",
       "2      /6ksm1sjKMFLbO7UY2i6G1ju9SML.jpg   \n",
       "3      /16XOMpEaLWkrcPqSQqhTmeJuqQl.jpg   \n",
       "4      /e64sOI48hQXyru7naBFyssKFxVd.jpg   \n",
       "...                                 ...   \n",
       "40952  /yWp7PgydSlxlhl7benKhTnCvRjN.jpg   \n",
       "41172  /q1lrN6ZrIsOs077lQB86aPGKZRF.jpg   \n",
       "41225  /q2XVemXiWSa18mbaVpI3rbLXG2u.jpg   \n",
       "41391  /8YWirGQidtZeSEmhqvQM5FrI6N1.jpg   \n",
       "41669  /uv7syi4vRyjvWoB8qExbqnbuCu5.jpg   \n",
       "\n",
       "                                              production_companies  \\\n",
       "0                   [{'name': 'Pixar Animation Studios', 'id': 3}]   \n",
       "1      [{'name': 'TriStar Pictures', 'id': 559}, {'name': 'Teit...   \n",
       "2      [{'name': 'Warner Bros.', 'id': 6194}, {'name': 'Lancast...   \n",
       "3      [{'name': 'Twentieth Century Fox Film Corporation', 'id'...   \n",
       "4      [{'name': 'Sandollar Productions', 'id': 5842}, {'name':...   \n",
       "...                                                            ...   \n",
       "40952              [{'name': 'Nasser Entertainment', 'id': 35802}]   \n",
       "41172              [{'name': 'KriArj Entertainment', 'id': 91689}]   \n",
       "41225  [{'name': 'UTV Motion Pictures', 'id': 2320}, {'name': '...   \n",
       "41391  [{'name': 'Cine Bazar', 'id': 5896}, {'name': 'Toho Pict...   \n",
       "41669  [{'name': 'Imagine Entertainment', 'id': 23}, {'name': '...   \n",
       "\n",
       "                                              production_countries  \\\n",
       "0       [{'iso_3166_1': 'US', 'name': 'United States of America'}]   \n",
       "1       [{'iso_3166_1': 'US', 'name': 'United States of America'}]   \n",
       "2       [{'iso_3166_1': 'US', 'name': 'United States of America'}]   \n",
       "3       [{'iso_3166_1': 'US', 'name': 'United States of America'}]   \n",
       "4       [{'iso_3166_1': 'US', 'name': 'United States of America'}]   \n",
       "...                                                            ...   \n",
       "40952   [{'iso_3166_1': 'US', 'name': 'United States of America'}]   \n",
       "41172                      [{'iso_3166_1': 'IN', 'name': 'India'}]   \n",
       "41225                      [{'iso_3166_1': 'IN', 'name': 'India'}]   \n",
       "41391                      [{'iso_3166_1': 'JP', 'name': 'Japan'}]   \n",
       "41669  [{'iso_3166_1': 'GB', 'name': 'United Kingdom'}, {'iso_3...   \n",
       "\n",
       "      release_date      revenue  runtime  \\\n",
       "0       1995-10-30  373554033.0     81.0   \n",
       "1       1995-12-15  262797249.0    104.0   \n",
       "2       1995-12-22          0.0    101.0   \n",
       "3       1995-12-22   81452156.0    127.0   \n",
       "4       1995-02-10   76578911.0    106.0   \n",
       "...            ...          ...      ...   \n",
       "40952   2001-09-23          0.0     85.0   \n",
       "41172   2016-08-12          0.0    150.0   \n",
       "41225   2016-08-11   16180000.0    155.0   \n",
       "41391   2016-07-29   77000000.0    120.0   \n",
       "41669   2016-09-15          0.0     99.0   \n",
       "\n",
       "                                                  spoken_languages    status  \\\n",
       "0                         [{'iso_639_1': 'en', 'name': 'English'}]  Released   \n",
       "1      [{'iso_639_1': 'en', 'name': 'English'}, {'iso_639_1': '...  Released   \n",
       "2                         [{'iso_639_1': 'en', 'name': 'English'}]  Released   \n",
       "3                         [{'iso_639_1': 'en', 'name': 'English'}]  Released   \n",
       "4                         [{'iso_639_1': 'en', 'name': 'English'}]  Released   \n",
       "...                                                            ...       ...   \n",
       "40952                                                           []  Released   \n",
       "41172                      [{'iso_639_1': 'hi', 'name': 'हिन्दी'}]  Released   \n",
       "41225                      [{'iso_639_1': 'hi', 'name': 'हिन्दी'}]  Released   \n",
       "41391  [{'iso_639_1': 'it', 'name': 'Italiano'}, {'iso_639_1': ...  Released   \n",
       "41669                     [{'iso_639_1': 'en', 'name': 'English'}]  Released   \n",
       "\n",
       "                                                           tagline  \\\n",
       "0                                                              NaN   \n",
       "1                        Roll the dice and unleash the excitement!   \n",
       "2             Still Yelling. Still Fighting. Still Ready for Love.   \n",
       "3      Friends are the people who let you be yourself... and ne...   \n",
       "4      Just When His World Is Back To Normal... He's In For The...   \n",
       "...                                                            ...   \n",
       "40952                                                          NaN   \n",
       "41172  Decorated Officer. Devoted Family Man. Defending His Hon...   \n",
       "41225                                                          NaN   \n",
       "41391                              A god incarnate. A city doomed.   \n",
       "41669                      The band you know. The story you don't.   \n",
       "\n",
       "                                                    title  video  \\\n",
       "0                                               Toy Story  False   \n",
       "1                                                 Jumanji  False   \n",
       "2                                        Grumpier Old Men  False   \n",
       "3                                       Waiting to Exhale  False   \n",
       "4                             Father of the Bride Part II  False   \n",
       "...                                                   ...    ...   \n",
       "40952                      The Last Brickmaker in America  False   \n",
       "41172                                              Rustom  False   \n",
       "41225                                        Mohenjo Daro  False   \n",
       "41391                                       Shin Godzilla  False   \n",
       "41669  The Beatles: Eight Days a Week - The Touring Years  False   \n",
       "\n",
       "       vote_average  vote_count  year  \\\n",
       "0               7.7      5415.0  1995   \n",
       "1               6.9      2413.0  1995   \n",
       "2               6.5        92.0  1995   \n",
       "3               6.1        34.0  1995   \n",
       "4               5.7       173.0  1995   \n",
       "...             ...         ...   ...   \n",
       "40952           7.0         1.0  2001   \n",
       "41172           7.3        25.0  2016   \n",
       "41225           6.7        26.0  2016   \n",
       "41391           6.6       152.0  2016   \n",
       "41669           7.6        92.0  2016   \n",
       "\n",
       "                                                          keywords  \\\n",
       "0      [{'id': 931, 'name': 'jealousy'}, {'id': 4290, 'name': '...   \n",
       "1      [{'id': 10090, 'name': 'board game'}, {'id': 10941, 'nam...   \n",
       "2      [{'id': 1495, 'name': 'fishing'}, {'id': 12392, 'name': ...   \n",
       "3      [{'id': 818, 'name': 'based on novel'}, {'id': 10131, 'n...   \n",
       "4      [{'id': 1009, 'name': 'baby'}, {'id': 1599, 'name': 'mid...   \n",
       "...                                                            ...   \n",
       "40952  [{'id': 6054, 'name': 'friendship'}, {'id': 207818, 'nam...   \n",
       "41172                         [{'id': 10540, 'name': 'bollywood'}]   \n",
       "41225                         [{'id': 10540, 'name': 'bollywood'}]   \n",
       "41391  [{'id': 1299, 'name': 'monster'}, {'id': 7671, 'name': '...   \n",
       "41669  [{'id': 6027, 'name': 'music'}, {'id': 10073, 'name': 'd...   \n",
       "\n",
       "                                                              cast  \\\n",
       "0      [{'cast_id': 14, 'character': 'Woody (voice)', 'credit_i...   \n",
       "1      [{'cast_id': 1, 'character': 'Alan Parrish', 'credit_id'...   \n",
       "2      [{'cast_id': 2, 'character': 'Max Goldman', 'credit_id':...   \n",
       "3      [{'cast_id': 1, 'character': \"Savannah 'Vannah' Jackson\"...   \n",
       "4      [{'cast_id': 1, 'character': 'George Banks', 'credit_id'...   \n",
       "...                                                            ...   \n",
       "40952  [{'cast_id': 1, 'character': 'Henry Cobb', 'credit_id': ...   \n",
       "41172  [{'cast_id': 0, 'character': 'Rustom Pavri', 'credit_id'...   \n",
       "41225  [{'cast_id': 0, 'character': 'Sarman', 'credit_id': '576...   \n",
       "41391  [{'cast_id': 4, 'character': 'Rando Yaguchi : Deputy Chi...   \n",
       "41669  [{'cast_id': 0, 'character': 'Himself', 'credit_id': '57...   \n",
       "\n",
       "                                                              crew  \n",
       "0      [{'credit_id': '52fe4284c3a36847f8024f49', 'department':...  \n",
       "1      [{'credit_id': '52fe44bfc3a36847f80a7cd1', 'department':...  \n",
       "2      [{'credit_id': '52fe466a9251416c75077a89', 'department':...  \n",
       "3      [{'credit_id': '52fe44779251416c91011acb', 'department':...  \n",
       "4      [{'credit_id': '52fe44959251416c75039ed7', 'department':...  \n",
       "...                                                            ...  \n",
       "40952  [{'credit_id': '544475aac3a36819fb000578', 'department':...  \n",
       "41172  [{'credit_id': '5951baf692514129c4016600', 'department':...  \n",
       "41225  [{'credit_id': '57cd5d3592514179d50018e8', 'department':...  \n",
       "41391  [{'credit_id': '560892fa92514177550018b2', 'department':...  \n",
       "41669  [{'credit_id': '57057c6cc3a3680dca000285', 'department':...  \n",
       "\n",
       "[9219 rows x 28 columns]"
      ]
     },
     "execution_count": 54,
     "metadata": {},
     "output_type": "execute_result"
    }
   ],
   "source": [
    "smd = md[md['id'].isin(link_small)]\n",
    "smd"
   ]
  },
  {
   "cell_type": "code",
   "execution_count": 55,
   "metadata": {
    "execution": {
     "iopub.execute_input": "2021-09-14T03:32:08.149098Z",
     "iopub.status.busy": "2021-09-14T03:32:08.148724Z",
     "iopub.status.idle": "2021-09-14T03:32:20.356573Z",
     "shell.execute_reply": "2021-09-14T03:32:20.355540Z",
     "shell.execute_reply.started": "2021-09-14T03:32:08.149058Z"
    }
   },
   "outputs": [
    {
     "name": "stderr",
     "output_type": "stream",
     "text": [
      "<ipython-input-55-0380b14b24f8>:1: SettingWithCopyWarning: \n",
      "A value is trying to be set on a copy of a slice from a DataFrame.\n",
      "Try using .loc[row_indexer,col_indexer] = value instead\n",
      "\n",
      "See the caveats in the documentation: https://pandas.pydata.org/pandas-docs/stable/user_guide/indexing.html#returning-a-view-versus-a-copy\n",
      "  smd['cast'] = smd['cast'].apply(literal_eval)\n",
      "<ipython-input-55-0380b14b24f8>:2: SettingWithCopyWarning: \n",
      "A value is trying to be set on a copy of a slice from a DataFrame.\n",
      "Try using .loc[row_indexer,col_indexer] = value instead\n",
      "\n",
      "See the caveats in the documentation: https://pandas.pydata.org/pandas-docs/stable/user_guide/indexing.html#returning-a-view-versus-a-copy\n",
      "  smd['crew'] = smd['crew'].apply(literal_eval)\n",
      "<ipython-input-55-0380b14b24f8>:3: SettingWithCopyWarning: \n",
      "A value is trying to be set on a copy of a slice from a DataFrame.\n",
      "Try using .loc[row_indexer,col_indexer] = value instead\n",
      "\n",
      "See the caveats in the documentation: https://pandas.pydata.org/pandas-docs/stable/user_guide/indexing.html#returning-a-view-versus-a-copy\n",
      "  smd['keywords'] = smd['keywords'].apply(literal_eval)\n",
      "<ipython-input-55-0380b14b24f8>:4: SettingWithCopyWarning: \n",
      "A value is trying to be set on a copy of a slice from a DataFrame.\n",
      "Try using .loc[row_indexer,col_indexer] = value instead\n",
      "\n",
      "See the caveats in the documentation: https://pandas.pydata.org/pandas-docs/stable/user_guide/indexing.html#returning-a-view-versus-a-copy\n",
      "  smd['cast_size'] = smd['cast'].apply(lambda x: len(x))\n",
      "<ipython-input-55-0380b14b24f8>:5: SettingWithCopyWarning: \n",
      "A value is trying to be set on a copy of a slice from a DataFrame.\n",
      "Try using .loc[row_indexer,col_indexer] = value instead\n",
      "\n",
      "See the caveats in the documentation: https://pandas.pydata.org/pandas-docs/stable/user_guide/indexing.html#returning-a-view-versus-a-copy\n",
      "  smd['crew_size'] = smd['crew'].apply(lambda x: len(x))\n"
     ]
    }
   ],
   "source": [
    "smd['cast'] = smd['cast'].apply(literal_eval)\n",
    "smd['crew'] = smd['crew'].apply(literal_eval)\n",
    "smd['keywords'] = smd['keywords'].apply(literal_eval)\n",
    "smd['cast_size'] = smd['cast'].apply(lambda x: len(x))\n",
    "smd['crew_size'] = smd['crew'].apply(lambda x: len(x))\n"
   ]
  },
  {
   "cell_type": "markdown",
   "metadata": {},
   "source": [
    "we use literal_eval to find the dictionary,list or tuple kind  of datas. which will evaluate the list data as single data. because of this we can able to find the length of dic inside  the list.     "
   ]
  },
  {
   "cell_type": "code",
   "execution_count": 56,
   "metadata": {
    "execution": {
     "iopub.execute_input": "2021-09-14T03:32:20.366485Z",
     "iopub.status.busy": "2021-09-14T03:32:20.366213Z",
     "iopub.status.idle": "2021-09-14T03:32:20.376244Z",
     "shell.execute_reply": "2021-09-14T03:32:20.375510Z",
     "shell.execute_reply.started": "2021-09-14T03:32:20.366460Z"
    }
   },
   "outputs": [
    {
     "name": "stdout",
     "output_type": "stream",
     "text": [
      "[{'cast_id': 14, 'character': 'Woody (voice)', 'credit_id': '52fe4284c3a36847f8024f95', 'gender': 2, 'id': 31, 'name': 'Tom Hanks', 'order': 0, 'profile_path': '/pQFoyx7rp09CJTAb932F2g8Nlho.jpg'}, {'cast_id': 15, 'character': 'Buzz Lightyear (voice)', 'credit_id': '52fe4284c3a36847f8024f99', 'gender': 2, 'id': 12898, 'name': 'Tim Allen', 'order': 1, 'profile_path': '/uX2xVf6pMmPepxnvFWyBtjexzgY.jpg'}, {'cast_id': 16, 'character': 'Mr. Potato Head (voice)', 'credit_id': '52fe4284c3a36847f8024f9d', 'gender': 2, 'id': 7167, 'name': 'Don Rickles', 'order': 2, 'profile_path': '/h5BcaDMPRVLHLDzbQavec4xfSdt.jpg'}, {'cast_id': 17, 'character': 'Slinky Dog (voice)', 'credit_id': '52fe4284c3a36847f8024fa1', 'gender': 2, 'id': 12899, 'name': 'Jim Varney', 'order': 3, 'profile_path': '/eIo2jVVXYgjDtaHoF19Ll9vtW7h.jpg'}, {'cast_id': 18, 'character': 'Rex (voice)', 'credit_id': '52fe4284c3a36847f8024fa5', 'gender': 2, 'id': 12900, 'name': 'Wallace Shawn', 'order': 4, 'profile_path': '/oGE6JqPP2xH4tNORKNqxbNPYi7u.jpg'}, {'cast_id': 19, 'character': 'Hamm (voice)', 'credit_id': '52fe4284c3a36847f8024fa9', 'gender': 2, 'id': 7907, 'name': 'John Ratzenberger', 'order': 5, 'profile_path': '/yGechiKWL6TJDfVE2KPSJYqdMsY.jpg'}, {'cast_id': 20, 'character': 'Bo Peep (voice)', 'credit_id': '52fe4284c3a36847f8024fad', 'gender': 1, 'id': 8873, 'name': 'Annie Potts', 'order': 6, 'profile_path': '/eryXT84RL41jHSJcMy4kS3u9y6w.jpg'}, {'cast_id': 26, 'character': 'Andy (voice)', 'credit_id': '52fe4284c3a36847f8024fc1', 'gender': 0, 'id': 1116442, 'name': 'John Morris', 'order': 7, 'profile_path': '/vYGyvK4LzeaUCoNSHtsuqJUY15M.jpg'}, {'cast_id': 22, 'character': 'Sid (voice)', 'credit_id': '52fe4284c3a36847f8024fb1', 'gender': 2, 'id': 12901, 'name': 'Erik von Detten', 'order': 8, 'profile_path': '/twnF1ZaJ1FUNUuo6xLXwcxjayBE.jpg'}, {'cast_id': 23, 'character': 'Mrs. Davis (voice)', 'credit_id': '52fe4284c3a36847f8024fb5', 'gender': 1, 'id': 12133, 'name': 'Laurie Metcalf', 'order': 9, 'profile_path': '/unMMIT60eoBM2sN2nyR7EZ2BvvD.jpg'}, {'cast_id': 24, 'character': 'Sergeant (voice)', 'credit_id': '52fe4284c3a36847f8024fb9', 'gender': 2, 'id': 8655, 'name': 'R. Lee Ermey', 'order': 10, 'profile_path': '/r8GBqFBjypLUP9VVqDqfZ7wYbSs.jpg'}, {'cast_id': 25, 'character': 'Hannah (voice)', 'credit_id': '52fe4284c3a36847f8024fbd', 'gender': 1, 'id': 12903, 'name': 'Sarah Freeman', 'order': 11, 'profile_path': None}, {'cast_id': 27, 'character': 'TV Announcer (voice)', 'credit_id': '52fe4284c3a36847f8024fc5', 'gender': 2, 'id': 37221, 'name': 'Penn Jillette', 'order': 12, 'profile_path': '/zmAaXUdx12NRsssgHbk1T31j2x9.jpg'}]\n",
      "13\n"
     ]
    }
   ],
   "source": [
    "print(smd['cast'][0:1][0])# first row cast details\n",
    "print(len(smd['cast'][0:1][0])) #length  of the first row cast\n",
    "\n"
   ]
  },
  {
   "cell_type": "markdown",
   "metadata": {},
   "source": [
    "from the above literal_eval library is used to evaluate non string data types in a list. therefore it consider the list of dictionary which helps us to count the length of the cast"
   ]
  },
  {
   "cell_type": "code",
   "execution_count": 57,
   "metadata": {
    "execution": {
     "iopub.execute_input": "2021-09-14T03:32:20.377651Z",
     "iopub.status.busy": "2021-09-14T03:32:20.377391Z",
     "iopub.status.idle": "2021-09-14T03:32:20.389249Z",
     "shell.execute_reply": "2021-09-14T03:32:20.388481Z",
     "shell.execute_reply.started": "2021-09-14T03:32:20.377623Z"
    }
   },
   "outputs": [],
   "source": [
    "def direct(na):\n",
    "    for i in na:\n",
    "        if i['job'] == 'Director':\n",
    "            return i['name']\n",
    "    return np.nan"
   ]
  },
  {
   "cell_type": "markdown",
   "metadata": {},
   "source": [
    "taking the director name from the data set "
   ]
  },
  {
   "cell_type": "code",
   "execution_count": 58,
   "metadata": {
    "execution": {
     "iopub.execute_input": "2021-09-14T03:32:20.394122Z",
     "iopub.status.busy": "2021-09-14T03:32:20.393725Z",
     "iopub.status.idle": "2021-09-14T03:32:20.424309Z",
     "shell.execute_reply": "2021-09-14T03:32:20.423478Z",
     "shell.execute_reply.started": "2021-09-14T03:32:20.394093Z"
    }
   },
   "outputs": [
    {
     "name": "stderr",
     "output_type": "stream",
     "text": [
      "<ipython-input-58-80a5d46d31b7>:1: SettingWithCopyWarning: \n",
      "A value is trying to be set on a copy of a slice from a DataFrame.\n",
      "Try using .loc[row_indexer,col_indexer] = value instead\n",
      "\n",
      "See the caveats in the documentation: https://pandas.pydata.org/pandas-docs/stable/user_guide/indexing.html#returning-a-view-versus-a-copy\n",
      "  smd['directors'] = smd['crew'].apply(direct)\n"
     ]
    }
   ],
   "source": [
    "smd['directors'] = smd['crew'].apply(direct)"
   ]
  },
  {
   "cell_type": "code",
   "execution_count": 59,
   "metadata": {
    "execution": {
     "iopub.execute_input": "2021-09-14T03:32:20.426248Z",
     "iopub.status.busy": "2021-09-14T03:32:20.425857Z",
     "iopub.status.idle": "2021-09-14T03:32:20.464856Z",
     "shell.execute_reply": "2021-09-14T03:32:20.464155Z",
     "shell.execute_reply.started": "2021-09-14T03:32:20.426218Z"
    }
   },
   "outputs": [
    {
     "data": {
      "text/plain": [
       "0        [{'cast_id': 14, 'character': 'Woody (voice)', 'credit_i...\n",
       "1        [{'cast_id': 1, 'character': 'Alan Parrish', 'credit_id'...\n",
       "2        [{'cast_id': 2, 'character': 'Max Goldman', 'credit_id':...\n",
       "3        [{'cast_id': 1, 'character': 'Savannah 'Vannah' Jackson'...\n",
       "4        [{'cast_id': 1, 'character': 'George Banks', 'credit_id'...\n",
       "                                    ...                             \n",
       "40952    [{'cast_id': 1, 'character': 'Henry Cobb', 'credit_id': ...\n",
       "41172    [{'cast_id': 0, 'character': 'Rustom Pavri', 'credit_id'...\n",
       "41225    [{'cast_id': 0, 'character': 'Sarman', 'credit_id': '576...\n",
       "41391    [{'cast_id': 4, 'character': 'Rando Yaguchi : Deputy Chi...\n",
       "41669    [{'cast_id': 0, 'character': 'Himself', 'credit_id': '57...\n",
       "Name: cast, Length: 9219, dtype: object"
      ]
     },
     "execution_count": 59,
     "metadata": {},
     "output_type": "execute_result"
    }
   ],
   "source": [
    "smd['cast']"
   ]
  },
  {
   "cell_type": "code",
   "execution_count": 60,
   "metadata": {
    "execution": {
     "iopub.execute_input": "2021-09-14T03:32:20.466303Z",
     "iopub.status.busy": "2021-09-14T03:32:20.465890Z",
     "iopub.status.idle": "2021-09-14T03:32:20.617156Z",
     "shell.execute_reply": "2021-09-14T03:32:20.615891Z",
     "shell.execute_reply.started": "2021-09-14T03:32:20.466272Z"
    }
   },
   "outputs": [
    {
     "name": "stderr",
     "output_type": "stream",
     "text": [
      "<ipython-input-60-e8ba85dfed9e>:1: SettingWithCopyWarning: \n",
      "A value is trying to be set on a copy of a slice from a DataFrame.\n",
      "Try using .loc[row_indexer,col_indexer] = value instead\n",
      "\n",
      "See the caveats in the documentation: https://pandas.pydata.org/pandas-docs/stable/user_guide/indexing.html#returning-a-view-versus-a-copy\n",
      "  smd['cast'] = smd['cast'].apply(lambda x: [i['name'] for i in x] if isinstance(x, list) else [])\n",
      "<ipython-input-60-e8ba85dfed9e>:2: SettingWithCopyWarning: \n",
      "A value is trying to be set on a copy of a slice from a DataFrame.\n",
      "Try using .loc[row_indexer,col_indexer] = value instead\n",
      "\n",
      "See the caveats in the documentation: https://pandas.pydata.org/pandas-docs/stable/user_guide/indexing.html#returning-a-view-versus-a-copy\n",
      "  smd['cast'] = smd['cast'].apply(lambda x: x[:3] if len(x) >=3 else x)\n"
     ]
    }
   ],
   "source": [
    "smd['cast'] = smd['cast'].apply(lambda x: [i['name'] for i in x] if isinstance(x, list) else [])\n",
    "smd['cast'] = smd['cast'].apply(lambda x: x[:3] if len(x) >=3 else x)"
   ]
  },
  {
   "cell_type": "markdown",
   "metadata": {},
   "source": [
    "taking th character names alone and making it as cast then taking first three cast members"
   ]
  },
  {
   "cell_type": "code",
   "execution_count": 61,
   "metadata": {
    "execution": {
     "iopub.execute_input": "2021-09-14T03:32:20.618911Z",
     "iopub.status.busy": "2021-09-14T03:32:20.618507Z",
     "iopub.status.idle": "2021-09-14T03:32:20.629107Z",
     "shell.execute_reply": "2021-09-14T03:32:20.627846Z",
     "shell.execute_reply.started": "2021-09-14T03:32:20.618870Z"
    }
   },
   "outputs": [
    {
     "data": {
      "text/plain": [
       "0                          [Tom Hanks, Tim Allen, Don Rickles]\n",
       "1               [Robin Williams, Jonathan Hyde, Kirsten Dunst]\n",
       "2                   [Walter Matthau, Jack Lemmon, Ann-Margret]\n",
       "3            [Whitney Houston, Angela Bassett, Loretta Devine]\n",
       "4                   [Steve Martin, Diane Keaton, Martin Short]\n",
       "                                 ...                          \n",
       "40952          [Sidney Poitier, Wendy Crewson, Jay O. Sanders]\n",
       "41172                [Akshay Kumar, Ileana D'Cruz, Esha Gupta]\n",
       "41225                [Hrithik Roshan, Pooja Hegde, Kabir Bedi]\n",
       "41391    [Hiroki Hasegawa, Yutaka Takenouchi, Satomi Ishihara]\n",
       "41669               [Paul McCartney, Ringo Starr, John Lennon]\n",
       "Name: cast, Length: 9219, dtype: object"
      ]
     },
     "execution_count": 61,
     "metadata": {},
     "output_type": "execute_result"
    }
   ],
   "source": [
    "smd['cast']"
   ]
  },
  {
   "cell_type": "code",
   "execution_count": 62,
   "metadata": {
    "execution": {
     "iopub.execute_input": "2021-09-14T03:32:20.631003Z",
     "iopub.status.busy": "2021-09-14T03:32:20.630638Z",
     "iopub.status.idle": "2021-09-14T03:32:20.672271Z",
     "shell.execute_reply": "2021-09-14T03:32:20.671016Z",
     "shell.execute_reply.started": "2021-09-14T03:32:20.630972Z"
    }
   },
   "outputs": [
    {
     "name": "stderr",
     "output_type": "stream",
     "text": [
      "<ipython-input-62-19bff800a09f>:1: SettingWithCopyWarning: \n",
      "A value is trying to be set on a copy of a slice from a DataFrame.\n",
      "Try using .loc[row_indexer,col_indexer] = value instead\n",
      "\n",
      "See the caveats in the documentation: https://pandas.pydata.org/pandas-docs/stable/user_guide/indexing.html#returning-a-view-versus-a-copy\n",
      "  smd['keywords'] = smd['keywords'].apply(lambda x: [ i['name'] for i in x] if isinstance(x,list) else [])\n"
     ]
    }
   ],
   "source": [
    "smd['keywords'] = smd['keywords'].apply(lambda x: [ i['name'] for i in x] if isinstance(x,list) else [])"
   ]
  },
  {
   "cell_type": "code",
   "execution_count": 63,
   "metadata": {
    "execution": {
     "iopub.execute_input": "2021-09-14T03:32:20.674427Z",
     "iopub.status.busy": "2021-09-14T03:32:20.673986Z",
     "iopub.status.idle": "2021-09-14T03:32:20.689269Z",
     "shell.execute_reply": "2021-09-14T03:32:20.687944Z",
     "shell.execute_reply.started": "2021-09-14T03:32:20.674378Z"
    }
   },
   "outputs": [
    {
     "data": {
      "text/plain": [
       "0        [jealousy, toy, boy, friendship, friends, rivalry, boy n...\n",
       "1        [board game, disappearance, based on children's book, ne...\n",
       "2              [fishing, best friend, duringcreditsstinger, old men]\n",
       "3        [based on novel, interracial relationship, single mother...\n",
       "4        [baby, midlife crisis, confidence, aging, daughter, moth...\n",
       "                                    ...                             \n",
       "40952                                     [friendship, brick making]\n",
       "41172                                                    [bollywood]\n",
       "41225                                                    [bollywood]\n",
       "41391    [monster, godzilla, giant monster, destruction, kaiju, t...\n",
       "41669                                           [music, documentary]\n",
       "Name: keywords, Length: 9219, dtype: object"
      ]
     },
     "execution_count": 63,
     "metadata": {},
     "output_type": "execute_result"
    }
   ],
   "source": [
    "smd['keywords']"
   ]
  },
  {
   "cell_type": "markdown",
   "metadata": {},
   "source": [
    "Similarly as we did recommendation based on description we will be using metadata features like crew, directors, cast and combaining all the data then doing count vectorisation. "
   ]
  },
  {
   "cell_type": "code",
   "execution_count": 64,
   "metadata": {
    "execution": {
     "iopub.execute_input": "2021-09-14T03:32:20.691823Z",
     "iopub.status.busy": "2021-09-14T03:32:20.691290Z",
     "iopub.status.idle": "2021-09-14T03:32:20.741383Z",
     "shell.execute_reply": "2021-09-14T03:32:20.740227Z",
     "shell.execute_reply.started": "2021-09-14T03:32:20.691775Z"
    }
   },
   "outputs": [
    {
     "name": "stderr",
     "output_type": "stream",
     "text": [
      "<ipython-input-64-566edfad31bc>:1: SettingWithCopyWarning: \n",
      "A value is trying to be set on a copy of a slice from a DataFrame.\n",
      "Try using .loc[row_indexer,col_indexer] = value instead\n",
      "\n",
      "See the caveats in the documentation: https://pandas.pydata.org/pandas-docs/stable/user_guide/indexing.html#returning-a-view-versus-a-copy\n",
      "  smd['cast'] = smd['cast'].apply(lambda x: [str.lower(i.replace(\" \",\"\")) for i in x])\n"
     ]
    }
   ],
   "source": [
    "smd['cast'] = smd['cast'].apply(lambda x: [str.lower(i.replace(\" \",\"\")) for i in x])"
   ]
  },
  {
   "cell_type": "code",
   "execution_count": 65,
   "metadata": {
    "execution": {
     "iopub.execute_input": "2021-09-14T03:32:20.744334Z",
     "iopub.status.busy": "2021-09-14T03:32:20.743899Z",
     "iopub.status.idle": "2021-09-14T03:32:20.754613Z",
     "shell.execute_reply": "2021-09-14T03:32:20.753474Z",
     "shell.execute_reply.started": "2021-09-14T03:32:20.744286Z"
    }
   },
   "outputs": [
    {
     "data": {
      "text/plain": [
       "0                          [tomhanks, timallen, donrickles]\n",
       "1               [robinwilliams, jonathanhyde, kirstendunst]\n",
       "2                  [waltermatthau, jacklemmon, ann-margret]\n",
       "3            [whitneyhouston, angelabassett, lorettadevine]\n",
       "4                   [stevemartin, dianekeaton, martinshort]\n",
       "                                ...                        \n",
       "40952           [sidneypoitier, wendycrewson, jayo.sanders]\n",
       "41172                [akshaykumar, ileanad'cruz, eshagupta]\n",
       "41225                [hrithikroshan, poojahegde, kabirbedi]\n",
       "41391    [hirokihasegawa, yutakatakenouchi, satomiishihara]\n",
       "41669               [paulmccartney, ringostarr, johnlennon]\n",
       "Name: cast, Length: 9219, dtype: object"
      ]
     },
     "execution_count": 65,
     "metadata": {},
     "output_type": "execute_result"
    }
   ],
   "source": [
    "smd['cast']"
   ]
  },
  {
   "cell_type": "code",
   "execution_count": 66,
   "metadata": {
    "execution": {
     "iopub.execute_input": "2021-09-14T03:32:20.757000Z",
     "iopub.status.busy": "2021-09-14T03:32:20.756487Z",
     "iopub.status.idle": "2021-09-14T03:32:20.794346Z",
     "shell.execute_reply": "2021-09-14T03:32:20.793244Z",
     "shell.execute_reply.started": "2021-09-14T03:32:20.756956Z"
    }
   },
   "outputs": [
    {
     "name": "stdout",
     "output_type": "stream",
     "text": [
      "<class 'pandas.core.frame.DataFrame'>\n",
      "Int64Index: 9219 entries, 0 to 41669\n",
      "Data columns (total 31 columns):\n",
      " #   Column                 Non-Null Count  Dtype  \n",
      "---  ------                 --------------  -----  \n",
      " 0   adult                  9219 non-null   object \n",
      " 1   belongs_to_collection  1688 non-null   object \n",
      " 2   budget                 9219 non-null   object \n",
      " 3   genres                 9219 non-null   object \n",
      " 4   homepage               2001 non-null   object \n",
      " 5   id                     9219 non-null   int32  \n",
      " 6   imdb_id                9219 non-null   object \n",
      " 7   original_language      9219 non-null   object \n",
      " 8   original_title         9219 non-null   object \n",
      " 9   overview               9207 non-null   object \n",
      " 10  popularity             9219 non-null   object \n",
      " 11  poster_path            9216 non-null   object \n",
      " 12  production_companies   9219 non-null   object \n",
      " 13  production_countries   9219 non-null   object \n",
      " 14  release_date           9219 non-null   object \n",
      " 15  revenue                9219 non-null   float64\n",
      " 16  runtime                9219 non-null   float64\n",
      " 17  spoken_languages       9219 non-null   object \n",
      " 18  status                 9217 non-null   object \n",
      " 19  tagline                7082 non-null   object \n",
      " 20  title                  9219 non-null   object \n",
      " 21  video                  9219 non-null   object \n",
      " 22  vote_average           9219 non-null   float64\n",
      " 23  vote_count             9219 non-null   float64\n",
      " 24  year                   9219 non-null   object \n",
      " 25  keywords               9219 non-null   object \n",
      " 26  cast                   9219 non-null   object \n",
      " 27  crew                   9219 non-null   object \n",
      " 28  cast_size              9219 non-null   int64  \n",
      " 29  crew_size              9219 non-null   int64  \n",
      " 30  directors              9195 non-null   object \n",
      "dtypes: float64(4), int32(1), int64(2), object(24)\n",
      "memory usage: 2.2+ MB\n"
     ]
    }
   ],
   "source": [
    "smd.info()"
   ]
  },
  {
   "cell_type": "code",
   "execution_count": 67,
   "metadata": {
    "execution": {
     "iopub.execute_input": "2021-09-14T03:32:20.795985Z",
     "iopub.status.busy": "2021-09-14T03:32:20.795721Z",
     "iopub.status.idle": "2021-09-14T03:32:20.812345Z",
     "shell.execute_reply": "2021-09-14T03:32:20.811321Z",
     "shell.execute_reply.started": "2021-09-14T03:32:20.795959Z"
    }
   },
   "outputs": [
    {
     "name": "stderr",
     "output_type": "stream",
     "text": [
      "<ipython-input-67-348eb8bef5e7>:1: SettingWithCopyWarning: \n",
      "A value is trying to be set on a copy of a slice from a DataFrame.\n",
      "Try using .loc[row_indexer,col_indexer] = value instead\n",
      "\n",
      "See the caveats in the documentation: https://pandas.pydata.org/pandas-docs/stable/user_guide/indexing.html#returning-a-view-versus-a-copy\n",
      "  smd['directors'] = smd['directors'].astype('str').apply(lambda x: str.lower(x.replace(\" \",\"\")))\n"
     ]
    }
   ],
   "source": [
    "smd['directors'] = smd['directors'].astype('str').apply(lambda x: str.lower(x.replace(\" \",\"\")))"
   ]
  },
  {
   "cell_type": "code",
   "execution_count": 68,
   "metadata": {
    "execution": {
     "iopub.execute_input": "2021-09-14T03:32:20.816003Z",
     "iopub.status.busy": "2021-09-14T03:32:20.815666Z",
     "iopub.status.idle": "2021-09-14T03:32:20.828102Z",
     "shell.execute_reply": "2021-09-14T03:32:20.826973Z",
     "shell.execute_reply.started": "2021-09-14T03:32:20.815974Z"
    }
   },
   "outputs": [
    {
     "name": "stderr",
     "output_type": "stream",
     "text": [
      "<ipython-input-68-fb40811c6939>:1: SettingWithCopyWarning: \n",
      "A value is trying to be set on a copy of a slice from a DataFrame.\n",
      "Try using .loc[row_indexer,col_indexer] = value instead\n",
      "\n",
      "See the caveats in the documentation: https://pandas.pydata.org/pandas-docs/stable/user_guide/indexing.html#returning-a-view-versus-a-copy\n",
      "  smd['directors'] =smd['directors'].apply(lambda x: [x,x, x])\n"
     ]
    }
   ],
   "source": [
    "smd['directors'] =smd['directors'].apply(lambda x: [x,x, x])"
   ]
  },
  {
   "cell_type": "code",
   "execution_count": 69,
   "metadata": {
    "execution": {
     "iopub.execute_input": "2021-09-14T03:32:20.829631Z",
     "iopub.status.busy": "2021-09-14T03:32:20.829338Z",
     "iopub.status.idle": "2021-09-14T03:32:20.841600Z",
     "shell.execute_reply": "2021-09-14T03:32:20.840579Z",
     "shell.execute_reply.started": "2021-09-14T03:32:20.829604Z"
    }
   },
   "outputs": [
    {
     "data": {
      "text/plain": [
       "['johnlasseter', 'johnlasseter', 'johnlasseter']"
      ]
     },
     "execution_count": 69,
     "metadata": {},
     "output_type": "execute_result"
    }
   ],
   "source": [
    "smd['directors'][0]"
   ]
  },
  {
   "cell_type": "markdown",
   "metadata": {},
   "source": [
    "from the above we can see that we are making directors into three stacked list inorder to match the crew members"
   ]
  },
  {
   "cell_type": "code",
   "execution_count": 70,
   "metadata": {
    "execution": {
     "iopub.execute_input": "2021-09-14T03:32:20.843614Z",
     "iopub.status.busy": "2021-09-14T03:32:20.843212Z",
     "iopub.status.idle": "2021-09-14T03:32:24.793969Z",
     "shell.execute_reply": "2021-09-14T03:32:24.793118Z",
     "shell.execute_reply.started": "2021-09-14T03:32:20.843560Z"
    }
   },
   "outputs": [
    {
     "name": "stderr",
     "output_type": "stream",
     "text": [
      "<ipython-input-70-e19616d03ac2>:1: DeprecationWarning: The default dtype for empty Series will be 'object' instead of 'float64' in a future version. Specify a dtype explicitly to silence this warning.\n",
      "  s = smd.apply(lambda x: pd.Series(x['keywords']),axis=1).stack().reset_index(level =1,drop = True)\n"
     ]
    }
   ],
   "source": [
    "s = smd.apply(lambda x: pd.Series(x['keywords']),axis=1).stack().reset_index(level =1,drop = True)\n",
    "s.name = 'keyword'"
   ]
  },
  {
   "cell_type": "code",
   "execution_count": 71,
   "metadata": {
    "execution": {
     "iopub.execute_input": "2021-09-14T03:32:24.795447Z",
     "iopub.status.busy": "2021-09-14T03:32:24.795187Z",
     "iopub.status.idle": "2021-09-14T03:32:24.823175Z",
     "shell.execute_reply": "2021-09-14T03:32:24.822301Z",
     "shell.execute_reply.started": "2021-09-14T03:32:24.795422Z"
    }
   },
   "outputs": [],
   "source": [
    "s = s.value_counts()\n",
    "s = s[s>1]"
   ]
  },
  {
   "cell_type": "markdown",
   "metadata": {
    "execution": {
     "iopub.execute_input": "2021-09-14T04:08:59.216340Z",
     "iopub.status.busy": "2021-09-14T04:08:59.215846Z",
     "iopub.status.idle": "2021-09-14T04:08:59.224939Z",
     "shell.execute_reply": "2021-09-14T04:08:59.223941Z",
     "shell.execute_reply.started": "2021-09-14T04:08:59.216308Z"
    }
   },
   "source": [
    "taking the most important keywords corpus sepeartely and removing records having less keywords"
   ]
  },
  {
   "cell_type": "code",
   "execution_count": 72,
   "metadata": {
    "execution": {
     "iopub.execute_input": "2021-09-14T03:32:24.824711Z",
     "iopub.status.busy": "2021-09-14T03:32:24.824402Z",
     "iopub.status.idle": "2021-09-14T03:32:24.830817Z",
     "shell.execute_reply": "2021-09-14T03:32:24.830164Z",
     "shell.execute_reply.started": "2021-09-14T03:32:24.824663Z"
    }
   },
   "outputs": [],
   "source": [
    "\n",
    "def keywords(x):\n",
    "    m = []\n",
    "    for i in x:\n",
    "        if i in s:\n",
    "            m.append(i)\n",
    "    return m"
   ]
  },
  {
   "cell_type": "markdown",
   "metadata": {},
   "source": [
    "function to get the most importtant keywords and removing rest"
   ]
  },
  {
   "cell_type": "code",
   "execution_count": 73,
   "metadata": {
    "execution": {
     "iopub.execute_input": "2021-09-14T03:32:24.832045Z",
     "iopub.status.busy": "2021-09-14T03:32:24.831661Z",
     "iopub.status.idle": "2021-09-14T03:32:24.843294Z",
     "shell.execute_reply": "2021-09-14T03:32:24.842387Z",
     "shell.execute_reply.started": "2021-09-14T03:32:24.832010Z"
    }
   },
   "outputs": [
    {
     "data": {
      "text/plain": [
       "'catch'"
      ]
     },
     "execution_count": 73,
     "metadata": {},
     "output_type": "execute_result"
    }
   ],
   "source": [
    "stemmer = SnowballStemmer('english')\n",
    "stemmer.stem('catching')"
   ]
  },
  {
   "cell_type": "markdown",
   "metadata": {},
   "source": [
    "above is the example of stemming"
   ]
  },
  {
   "cell_type": "code",
   "execution_count": 74,
   "metadata": {
    "execution": {
     "iopub.execute_input": "2021-09-14T03:32:24.844654Z",
     "iopub.status.busy": "2021-09-14T03:32:24.844403Z",
     "iopub.status.idle": "2021-09-14T03:32:25.732718Z",
     "shell.execute_reply": "2021-09-14T03:32:25.731751Z",
     "shell.execute_reply.started": "2021-09-14T03:32:24.844630Z"
    }
   },
   "outputs": [
    {
     "name": "stderr",
     "output_type": "stream",
     "text": [
      "<ipython-input-74-cb0a107a9064>:1: SettingWithCopyWarning: \n",
      "A value is trying to be set on a copy of a slice from a DataFrame.\n",
      "Try using .loc[row_indexer,col_indexer] = value instead\n",
      "\n",
      "See the caveats in the documentation: https://pandas.pydata.org/pandas-docs/stable/user_guide/indexing.html#returning-a-view-versus-a-copy\n",
      "  smd['keywords'] = smd['keywords'].apply(keywords)\n",
      "<ipython-input-74-cb0a107a9064>:2: SettingWithCopyWarning: \n",
      "A value is trying to be set on a copy of a slice from a DataFrame.\n",
      "Try using .loc[row_indexer,col_indexer] = value instead\n",
      "\n",
      "See the caveats in the documentation: https://pandas.pydata.org/pandas-docs/stable/user_guide/indexing.html#returning-a-view-versus-a-copy\n",
      "  smd['keywords'] = smd['keywords'].apply(lambda x: [stemmer.stem(i) for i in x])\n",
      "<ipython-input-74-cb0a107a9064>:3: SettingWithCopyWarning: \n",
      "A value is trying to be set on a copy of a slice from a DataFrame.\n",
      "Try using .loc[row_indexer,col_indexer] = value instead\n",
      "\n",
      "See the caveats in the documentation: https://pandas.pydata.org/pandas-docs/stable/user_guide/indexing.html#returning-a-view-versus-a-copy\n",
      "  smd['keywords'] = smd['keywords'].apply(lambda x: [str.lower(i.replace(\" \",\"\")) for i in x])\n"
     ]
    },
    {
     "data": {
      "text/plain": [
       "0        [jealousi, toy, boy, friendship, friend, rivalri, boynex...\n",
       "1        [boardgam, disappear, basedonchildren'sbook, newhom, rec...\n",
       "2                             [fish, bestfriend, duringcreditssting]\n",
       "3        [basedonnovel, interracialrelationship, singlemoth, divo...\n",
       "4        [babi, midlifecrisi, confid, age, daughter, motherdaught...\n",
       "                                    ...                             \n",
       "40952                                                   [friendship]\n",
       "41172                                                    [bollywood]\n",
       "41225                                                    [bollywood]\n",
       "41391               [monster, godzilla, giantmonst, destruct, kaiju]\n",
       "41669                                           [music, documentari]\n",
       "Name: keywords, Length: 9219, dtype: object"
      ]
     },
     "execution_count": 74,
     "metadata": {},
     "output_type": "execute_result"
    }
   ],
   "source": [
    "smd['keywords'] = smd['keywords'].apply(keywords)\n",
    "smd['keywords'] = smd['keywords'].apply(lambda x: [stemmer.stem(i) for i in x])\n",
    "smd['keywords'] = smd['keywords'].apply(lambda x: [str.lower(i.replace(\" \",\"\")) for i in x])\n",
    "smd['keywords']"
   ]
  },
  {
   "cell_type": "code",
   "execution_count": 75,
   "metadata": {
    "execution": {
     "iopub.execute_input": "2021-09-14T03:32:25.734097Z",
     "iopub.status.busy": "2021-09-14T03:32:25.733830Z",
     "iopub.status.idle": "2021-09-14T03:32:25.770099Z",
     "shell.execute_reply": "2021-09-14T03:32:25.769216Z",
     "shell.execute_reply.started": "2021-09-14T03:32:25.734046Z"
    }
   },
   "outputs": [
    {
     "name": "stderr",
     "output_type": "stream",
     "text": [
      "<ipython-input-75-bda9b963d4a2>:1: SettingWithCopyWarning: \n",
      "A value is trying to be set on a copy of a slice from a DataFrame.\n",
      "Try using .loc[row_indexer,col_indexer] = value instead\n",
      "\n",
      "See the caveats in the documentation: https://pandas.pydata.org/pandas-docs/stable/user_guide/indexing.html#returning-a-view-versus-a-copy\n",
      "  smd['soup'] = smd['keywords'] + smd['cast'] + smd['directors'] + smd['genres']\n"
     ]
    },
    {
     "data": {
      "text/plain": [
       "['jealousi',\n",
       " 'toy',\n",
       " 'boy',\n",
       " 'friendship',\n",
       " 'friend',\n",
       " 'rivalri',\n",
       " 'boynextdoor',\n",
       " 'newtoy',\n",
       " 'toycomestolif',\n",
       " 'tomhanks',\n",
       " 'timallen',\n",
       " 'donrickles',\n",
       " 'johnlasseter',\n",
       " 'johnlasseter',\n",
       " 'johnlasseter',\n",
       " 'Animation',\n",
       " 'Comedy',\n",
       " 'Family']"
      ]
     },
     "execution_count": 75,
     "metadata": {},
     "output_type": "execute_result"
    }
   ],
   "source": [
    "smd['soup'] = smd['keywords'] + smd['cast'] + smd['directors'] + smd['genres']\n",
    "smd['soup'][0]"
   ]
  },
  {
   "cell_type": "markdown",
   "metadata": {},
   "source": [
    "combining all the key words directors,geners,cast,crew etc to get a list of words"
   ]
  },
  {
   "cell_type": "code",
   "execution_count": 76,
   "metadata": {
    "execution": {
     "iopub.execute_input": "2021-09-14T03:32:25.771389Z",
     "iopub.status.busy": "2021-09-14T03:32:25.771147Z",
     "iopub.status.idle": "2021-09-14T03:32:25.787611Z",
     "shell.execute_reply": "2021-09-14T03:32:25.786770Z",
     "shell.execute_reply.started": "2021-09-14T03:32:25.771365Z"
    }
   },
   "outputs": [
    {
     "name": "stderr",
     "output_type": "stream",
     "text": [
      "<ipython-input-76-53e2a72485cd>:1: SettingWithCopyWarning: \n",
      "A value is trying to be set on a copy of a slice from a DataFrame.\n",
      "Try using .loc[row_indexer,col_indexer] = value instead\n",
      "\n",
      "See the caveats in the documentation: https://pandas.pydata.org/pandas-docs/stable/user_guide/indexing.html#returning-a-view-versus-a-copy\n",
      "  smd['soup'] = smd['soup'].apply(lambda x: \" \".join(x))\n"
     ]
    }
   ],
   "source": [
    "smd['soup'] = smd['soup'].apply(lambda x: \" \".join(x))"
   ]
  },
  {
   "cell_type": "code",
   "execution_count": 90,
   "metadata": {
    "execution": {
     "iopub.execute_input": "2021-09-14T03:32:25.789088Z",
     "iopub.status.busy": "2021-09-14T03:32:25.788708Z",
     "iopub.status.idle": "2021-09-14T03:32:25.801218Z",
     "shell.execute_reply": "2021-09-14T03:32:25.800270Z",
     "shell.execute_reply.started": "2021-09-14T03:32:25.789061Z"
    }
   },
   "outputs": [
    {
     "data": {
      "text/html": [
       "<div>\n",
       "<style scoped>\n",
       "    .dataframe tbody tr th:only-of-type {\n",
       "        vertical-align: middle;\n",
       "    }\n",
       "\n",
       "    .dataframe tbody tr th {\n",
       "        vertical-align: top;\n",
       "    }\n",
       "\n",
       "    .dataframe thead th {\n",
       "        text-align: right;\n",
       "    }\n",
       "</style>\n",
       "<table border=\"1\" class=\"dataframe\">\n",
       "  <thead>\n",
       "    <tr style=\"text-align: right;\">\n",
       "      <th></th>\n",
       "      <th>index</th>\n",
       "      <th>adult</th>\n",
       "      <th>belongs_to_collection</th>\n",
       "      <th>budget</th>\n",
       "      <th>genres</th>\n",
       "      <th>homepage</th>\n",
       "      <th>id</th>\n",
       "      <th>imdb_id</th>\n",
       "      <th>original_language</th>\n",
       "      <th>original_title</th>\n",
       "      <th>overview</th>\n",
       "      <th>popularity</th>\n",
       "      <th>poster_path</th>\n",
       "      <th>production_companies</th>\n",
       "      <th>production_countries</th>\n",
       "      <th>release_date</th>\n",
       "      <th>revenue</th>\n",
       "      <th>runtime</th>\n",
       "      <th>spoken_languages</th>\n",
       "      <th>status</th>\n",
       "      <th>tagline</th>\n",
       "      <th>title</th>\n",
       "      <th>video</th>\n",
       "      <th>vote_average</th>\n",
       "      <th>vote_count</th>\n",
       "      <th>year</th>\n",
       "      <th>keywords</th>\n",
       "      <th>cast</th>\n",
       "      <th>crew</th>\n",
       "      <th>cast_size</th>\n",
       "      <th>crew_size</th>\n",
       "      <th>directors</th>\n",
       "      <th>soup</th>\n",
       "    </tr>\n",
       "  </thead>\n",
       "  <tbody>\n",
       "    <tr>\n",
       "      <th>0</th>\n",
       "      <td>0</td>\n",
       "      <td>False</td>\n",
       "      <td>{'id': 10194, 'name': 'Toy Story Collection', 'poster_pa...</td>\n",
       "      <td>30000000</td>\n",
       "      <td>[Animation, Comedy, Family]</td>\n",
       "      <td>http://toystory.disney.com/toy-story</td>\n",
       "      <td>862</td>\n",
       "      <td>tt0114709</td>\n",
       "      <td>en</td>\n",
       "      <td>Toy Story</td>\n",
       "      <td>Led by Woody, Andy's toys live happily in his room until...</td>\n",
       "      <td>21.946943</td>\n",
       "      <td>/rhIRbceoE9lR4veEXuwCC2wARtG.jpg</td>\n",
       "      <td>[{'name': 'Pixar Animation Studios', 'id': 3}]</td>\n",
       "      <td>[{'iso_3166_1': 'US', 'name': 'United States of America'}]</td>\n",
       "      <td>1995-10-30</td>\n",
       "      <td>373554033.0</td>\n",
       "      <td>81.0</td>\n",
       "      <td>[{'iso_639_1': 'en', 'name': 'English'}]</td>\n",
       "      <td>Released</td>\n",
       "      <td>NaN</td>\n",
       "      <td>Toy Story</td>\n",
       "      <td>False</td>\n",
       "      <td>7.7</td>\n",
       "      <td>5415.0</td>\n",
       "      <td>1995</td>\n",
       "      <td>[jealousi, toy, boy, friendship, friend, rivalri, boynex...</td>\n",
       "      <td>[tomhanks, timallen, donrickles]</td>\n",
       "      <td>[{'credit_id': '52fe4284c3a36847f8024f49', 'department':...</td>\n",
       "      <td>13</td>\n",
       "      <td>106</td>\n",
       "      <td>[johnlasseter, johnlasseter, johnlasseter]</td>\n",
       "      <td>jealousi toy boy friendship friend rivalri boynextdoor n...</td>\n",
       "    </tr>\n",
       "    <tr>\n",
       "      <th>1</th>\n",
       "      <td>1</td>\n",
       "      <td>False</td>\n",
       "      <td>NaN</td>\n",
       "      <td>65000000</td>\n",
       "      <td>[Adventure, Fantasy, Family]</td>\n",
       "      <td>NaN</td>\n",
       "      <td>8844</td>\n",
       "      <td>tt0113497</td>\n",
       "      <td>en</td>\n",
       "      <td>Jumanji</td>\n",
       "      <td>When siblings Judy and Peter discover an enchanted board...</td>\n",
       "      <td>17.015539</td>\n",
       "      <td>/vzmL6fP7aPKNKPRTFnZmiUfciyV.jpg</td>\n",
       "      <td>[{'name': 'TriStar Pictures', 'id': 559}, {'name': 'Teit...</td>\n",
       "      <td>[{'iso_3166_1': 'US', 'name': 'United States of America'}]</td>\n",
       "      <td>1995-12-15</td>\n",
       "      <td>262797249.0</td>\n",
       "      <td>104.0</td>\n",
       "      <td>[{'iso_639_1': 'en', 'name': 'English'}, {'iso_639_1': '...</td>\n",
       "      <td>Released</td>\n",
       "      <td>Roll the dice and unleash the excitement!</td>\n",
       "      <td>Jumanji</td>\n",
       "      <td>False</td>\n",
       "      <td>6.9</td>\n",
       "      <td>2413.0</td>\n",
       "      <td>1995</td>\n",
       "      <td>[boardgam, disappear, basedonchildren'sbook, newhom, rec...</td>\n",
       "      <td>[robinwilliams, jonathanhyde, kirstendunst]</td>\n",
       "      <td>[{'credit_id': '52fe44bfc3a36847f80a7cd1', 'department':...</td>\n",
       "      <td>26</td>\n",
       "      <td>16</td>\n",
       "      <td>[joejohnston, joejohnston, joejohnston]</td>\n",
       "      <td>boardgam disappear basedonchildren'sbook newhom reclus g...</td>\n",
       "    </tr>\n",
       "    <tr>\n",
       "      <th>2</th>\n",
       "      <td>2</td>\n",
       "      <td>False</td>\n",
       "      <td>{'id': 119050, 'name': 'Grumpy Old Men Collection', 'pos...</td>\n",
       "      <td>0</td>\n",
       "      <td>[Romance, Comedy]</td>\n",
       "      <td>NaN</td>\n",
       "      <td>15602</td>\n",
       "      <td>tt0113228</td>\n",
       "      <td>en</td>\n",
       "      <td>Grumpier Old Men</td>\n",
       "      <td>A family wedding reignites the ancient feud between next...</td>\n",
       "      <td>11.7129</td>\n",
       "      <td>/6ksm1sjKMFLbO7UY2i6G1ju9SML.jpg</td>\n",
       "      <td>[{'name': 'Warner Bros.', 'id': 6194}, {'name': 'Lancast...</td>\n",
       "      <td>[{'iso_3166_1': 'US', 'name': 'United States of America'}]</td>\n",
       "      <td>1995-12-22</td>\n",
       "      <td>0.0</td>\n",
       "      <td>101.0</td>\n",
       "      <td>[{'iso_639_1': 'en', 'name': 'English'}]</td>\n",
       "      <td>Released</td>\n",
       "      <td>Still Yelling. Still Fighting. Still Ready for Love.</td>\n",
       "      <td>Grumpier Old Men</td>\n",
       "      <td>False</td>\n",
       "      <td>6.5</td>\n",
       "      <td>92.0</td>\n",
       "      <td>1995</td>\n",
       "      <td>[fish, bestfriend, duringcreditssting]</td>\n",
       "      <td>[waltermatthau, jacklemmon, ann-margret]</td>\n",
       "      <td>[{'credit_id': '52fe466a9251416c75077a89', 'department':...</td>\n",
       "      <td>7</td>\n",
       "      <td>4</td>\n",
       "      <td>[howarddeutch, howarddeutch, howarddeutch]</td>\n",
       "      <td>fish bestfriend duringcreditssting waltermatthau jacklem...</td>\n",
       "    </tr>\n",
       "    <tr>\n",
       "      <th>3</th>\n",
       "      <td>3</td>\n",
       "      <td>False</td>\n",
       "      <td>NaN</td>\n",
       "      <td>16000000</td>\n",
       "      <td>[Comedy, Drama, Romance]</td>\n",
       "      <td>NaN</td>\n",
       "      <td>31357</td>\n",
       "      <td>tt0114885</td>\n",
       "      <td>en</td>\n",
       "      <td>Waiting to Exhale</td>\n",
       "      <td>Cheated on, mistreated and stepped on, the women are hol...</td>\n",
       "      <td>3.859495</td>\n",
       "      <td>/16XOMpEaLWkrcPqSQqhTmeJuqQl.jpg</td>\n",
       "      <td>[{'name': 'Twentieth Century Fox Film Corporation', 'id'...</td>\n",
       "      <td>[{'iso_3166_1': 'US', 'name': 'United States of America'}]</td>\n",
       "      <td>1995-12-22</td>\n",
       "      <td>81452156.0</td>\n",
       "      <td>127.0</td>\n",
       "      <td>[{'iso_639_1': 'en', 'name': 'English'}]</td>\n",
       "      <td>Released</td>\n",
       "      <td>Friends are the people who let you be yourself... and ne...</td>\n",
       "      <td>Waiting to Exhale</td>\n",
       "      <td>False</td>\n",
       "      <td>6.1</td>\n",
       "      <td>34.0</td>\n",
       "      <td>1995</td>\n",
       "      <td>[basedonnovel, interracialrelationship, singlemoth, divo...</td>\n",
       "      <td>[whitneyhouston, angelabassett, lorettadevine]</td>\n",
       "      <td>[{'credit_id': '52fe44779251416c91011acb', 'department':...</td>\n",
       "      <td>10</td>\n",
       "      <td>10</td>\n",
       "      <td>[forestwhitaker, forestwhitaker, forestwhitaker]</td>\n",
       "      <td>basedonnovel interracialrelationship singlemoth divorc c...</td>\n",
       "    </tr>\n",
       "    <tr>\n",
       "      <th>4</th>\n",
       "      <td>4</td>\n",
       "      <td>False</td>\n",
       "      <td>{'id': 96871, 'name': 'Father of the Bride Collection', ...</td>\n",
       "      <td>0</td>\n",
       "      <td>[Comedy]</td>\n",
       "      <td>NaN</td>\n",
       "      <td>11862</td>\n",
       "      <td>tt0113041</td>\n",
       "      <td>en</td>\n",
       "      <td>Father of the Bride Part II</td>\n",
       "      <td>Just when George Banks has recovered from his daughter's...</td>\n",
       "      <td>8.387519</td>\n",
       "      <td>/e64sOI48hQXyru7naBFyssKFxVd.jpg</td>\n",
       "      <td>[{'name': 'Sandollar Productions', 'id': 5842}, {'name':...</td>\n",
       "      <td>[{'iso_3166_1': 'US', 'name': 'United States of America'}]</td>\n",
       "      <td>1995-02-10</td>\n",
       "      <td>76578911.0</td>\n",
       "      <td>106.0</td>\n",
       "      <td>[{'iso_639_1': 'en', 'name': 'English'}]</td>\n",
       "      <td>Released</td>\n",
       "      <td>Just When His World Is Back To Normal... He's In For The...</td>\n",
       "      <td>Father of the Bride Part II</td>\n",
       "      <td>False</td>\n",
       "      <td>5.7</td>\n",
       "      <td>173.0</td>\n",
       "      <td>1995</td>\n",
       "      <td>[babi, midlifecrisi, confid, age, daughter, motherdaught...</td>\n",
       "      <td>[stevemartin, dianekeaton, martinshort]</td>\n",
       "      <td>[{'credit_id': '52fe44959251416c75039ed7', 'department':...</td>\n",
       "      <td>12</td>\n",
       "      <td>7</td>\n",
       "      <td>[charlesshyer, charlesshyer, charlesshyer]</td>\n",
       "      <td>babi midlifecrisi confid age daughter motherdaughterrela...</td>\n",
       "    </tr>\n",
       "    <tr>\n",
       "      <th>...</th>\n",
       "      <td>...</td>\n",
       "      <td>...</td>\n",
       "      <td>...</td>\n",
       "      <td>...</td>\n",
       "      <td>...</td>\n",
       "      <td>...</td>\n",
       "      <td>...</td>\n",
       "      <td>...</td>\n",
       "      <td>...</td>\n",
       "      <td>...</td>\n",
       "      <td>...</td>\n",
       "      <td>...</td>\n",
       "      <td>...</td>\n",
       "      <td>...</td>\n",
       "      <td>...</td>\n",
       "      <td>...</td>\n",
       "      <td>...</td>\n",
       "      <td>...</td>\n",
       "      <td>...</td>\n",
       "      <td>...</td>\n",
       "      <td>...</td>\n",
       "      <td>...</td>\n",
       "      <td>...</td>\n",
       "      <td>...</td>\n",
       "      <td>...</td>\n",
       "      <td>...</td>\n",
       "      <td>...</td>\n",
       "      <td>...</td>\n",
       "      <td>...</td>\n",
       "      <td>...</td>\n",
       "      <td>...</td>\n",
       "      <td>...</td>\n",
       "      <td>...</td>\n",
       "    </tr>\n",
       "    <tr>\n",
       "      <th>9214</th>\n",
       "      <td>40952</td>\n",
       "      <td>False</td>\n",
       "      <td>NaN</td>\n",
       "      <td>8000000</td>\n",
       "      <td>[Drama]</td>\n",
       "      <td>NaN</td>\n",
       "      <td>159550</td>\n",
       "      <td>tt0255313</td>\n",
       "      <td>en</td>\n",
       "      <td>The Last Brickmaker in America</td>\n",
       "      <td>A man must cope with the loss of his wife and the obsole...</td>\n",
       "      <td>0.038998</td>\n",
       "      <td>/yWp7PgydSlxlhl7benKhTnCvRjN.jpg</td>\n",
       "      <td>[{'name': 'Nasser Entertainment', 'id': 35802}]</td>\n",
       "      <td>[{'iso_3166_1': 'US', 'name': 'United States of America'}]</td>\n",
       "      <td>2001-09-23</td>\n",
       "      <td>0.0</td>\n",
       "      <td>85.0</td>\n",
       "      <td>[]</td>\n",
       "      <td>Released</td>\n",
       "      <td>NaN</td>\n",
       "      <td>The Last Brickmaker in America</td>\n",
       "      <td>False</td>\n",
       "      <td>7.0</td>\n",
       "      <td>1.0</td>\n",
       "      <td>2001</td>\n",
       "      <td>[friendship]</td>\n",
       "      <td>[sidneypoitier, wendycrewson, jayo.sanders]</td>\n",
       "      <td>[{'credit_id': '544475aac3a36819fb000578', 'department':...</td>\n",
       "      <td>7</td>\n",
       "      <td>2</td>\n",
       "      <td>[greggchampion, greggchampion, greggchampion]</td>\n",
       "      <td>friendship sidneypoitier wendycrewson jayo.sanders gregg...</td>\n",
       "    </tr>\n",
       "    <tr>\n",
       "      <th>9215</th>\n",
       "      <td>41172</td>\n",
       "      <td>False</td>\n",
       "      <td>NaN</td>\n",
       "      <td>1000000</td>\n",
       "      <td>[Thriller, Romance]</td>\n",
       "      <td>NaN</td>\n",
       "      <td>392572</td>\n",
       "      <td>tt5165344</td>\n",
       "      <td>hi</td>\n",
       "      <td>रुस्तम</td>\n",
       "      <td>Rustom Pavri, an honourable officer of the Indian Navy s...</td>\n",
       "      <td>7.333139</td>\n",
       "      <td>/q1lrN6ZrIsOs077lQB86aPGKZRF.jpg</td>\n",
       "      <td>[{'name': 'KriArj Entertainment', 'id': 91689}]</td>\n",
       "      <td>[{'iso_3166_1': 'IN', 'name': 'India'}]</td>\n",
       "      <td>2016-08-12</td>\n",
       "      <td>0.0</td>\n",
       "      <td>150.0</td>\n",
       "      <td>[{'iso_639_1': 'hi', 'name': 'हिन्दी'}]</td>\n",
       "      <td>Released</td>\n",
       "      <td>Decorated Officer. Devoted Family Man. Defending His Hon...</td>\n",
       "      <td>Rustom</td>\n",
       "      <td>False</td>\n",
       "      <td>7.3</td>\n",
       "      <td>25.0</td>\n",
       "      <td>2016</td>\n",
       "      <td>[bollywood]</td>\n",
       "      <td>[akshaykumar, ileanad'cruz, eshagupta]</td>\n",
       "      <td>[{'credit_id': '5951baf692514129c4016600', 'department':...</td>\n",
       "      <td>14</td>\n",
       "      <td>16</td>\n",
       "      <td>[tinusureshdesai, tinusureshdesai, tinusureshdesai]</td>\n",
       "      <td>bollywood akshaykumar ileanad'cruz eshagupta tinusureshd...</td>\n",
       "    </tr>\n",
       "    <tr>\n",
       "      <th>9216</th>\n",
       "      <td>41225</td>\n",
       "      <td>False</td>\n",
       "      <td>NaN</td>\n",
       "      <td>15050000</td>\n",
       "      <td>[Adventure, Drama, History, Romance]</td>\n",
       "      <td>NaN</td>\n",
       "      <td>402672</td>\n",
       "      <td>tt3859980</td>\n",
       "      <td>hi</td>\n",
       "      <td>Mohenjo Daro</td>\n",
       "      <td>Village lad Sarman is drawn to big, bad Mohenjo Daro - a...</td>\n",
       "      <td>1.423358</td>\n",
       "      <td>/q2XVemXiWSa18mbaVpI3rbLXG2u.jpg</td>\n",
       "      <td>[{'name': 'UTV Motion Pictures', 'id': 2320}, {'name': '...</td>\n",
       "      <td>[{'iso_3166_1': 'IN', 'name': 'India'}]</td>\n",
       "      <td>2016-08-11</td>\n",
       "      <td>16180000.0</td>\n",
       "      <td>155.0</td>\n",
       "      <td>[{'iso_639_1': 'hi', 'name': 'हिन्दी'}]</td>\n",
       "      <td>Released</td>\n",
       "      <td>NaN</td>\n",
       "      <td>Mohenjo Daro</td>\n",
       "      <td>False</td>\n",
       "      <td>6.7</td>\n",
       "      <td>26.0</td>\n",
       "      <td>2016</td>\n",
       "      <td>[bollywood]</td>\n",
       "      <td>[hrithikroshan, poojahegde, kabirbedi]</td>\n",
       "      <td>[{'credit_id': '57cd5d3592514179d50018e8', 'department':...</td>\n",
       "      <td>12</td>\n",
       "      <td>16</td>\n",
       "      <td>[ashutoshgowariker, ashutoshgowariker, ashutoshgowariker]</td>\n",
       "      <td>bollywood hrithikroshan poojahegde kabirbedi ashutoshgow...</td>\n",
       "    </tr>\n",
       "    <tr>\n",
       "      <th>9217</th>\n",
       "      <td>41391</td>\n",
       "      <td>False</td>\n",
       "      <td>NaN</td>\n",
       "      <td>15000000</td>\n",
       "      <td>[Action, Adventure, Drama, Horror, Science Fiction]</td>\n",
       "      <td>NaN</td>\n",
       "      <td>315011</td>\n",
       "      <td>tt4262980</td>\n",
       "      <td>ja</td>\n",
       "      <td>シン・ゴジラ</td>\n",
       "      <td>From the mind behind Evangelion comes a hit larger than ...</td>\n",
       "      <td>9.285519</td>\n",
       "      <td>/8YWirGQidtZeSEmhqvQM5FrI6N1.jpg</td>\n",
       "      <td>[{'name': 'Cine Bazar', 'id': 5896}, {'name': 'Toho Pict...</td>\n",
       "      <td>[{'iso_3166_1': 'JP', 'name': 'Japan'}]</td>\n",
       "      <td>2016-07-29</td>\n",
       "      <td>77000000.0</td>\n",
       "      <td>120.0</td>\n",
       "      <td>[{'iso_639_1': 'it', 'name': 'Italiano'}, {'iso_639_1': ...</td>\n",
       "      <td>Released</td>\n",
       "      <td>A god incarnate. A city doomed.</td>\n",
       "      <td>Shin Godzilla</td>\n",
       "      <td>False</td>\n",
       "      <td>6.6</td>\n",
       "      <td>152.0</td>\n",
       "      <td>2016</td>\n",
       "      <td>[monster, godzilla, giantmonst, destruct, kaiju]</td>\n",
       "      <td>[hirokihasegawa, yutakatakenouchi, satomiishihara]</td>\n",
       "      <td>[{'credit_id': '560892fa92514177550018b2', 'department':...</td>\n",
       "      <td>49</td>\n",
       "      <td>27</td>\n",
       "      <td>[hideakianno, hideakianno, hideakianno]</td>\n",
       "      <td>monster godzilla giantmonst destruct kaiju hirokihasegaw...</td>\n",
       "    </tr>\n",
       "    <tr>\n",
       "      <th>9218</th>\n",
       "      <td>41669</td>\n",
       "      <td>False</td>\n",
       "      <td>NaN</td>\n",
       "      <td>0</td>\n",
       "      <td>[Documentary, Music]</td>\n",
       "      <td>http://www.thebeatlesliveproject.com/</td>\n",
       "      <td>391698</td>\n",
       "      <td>tt2531318</td>\n",
       "      <td>en</td>\n",
       "      <td>The Beatles: Eight Days a Week - The Touring Years</td>\n",
       "      <td>The band stormed Europe in 1963, and, in 1964, they conq...</td>\n",
       "      <td>7.078301</td>\n",
       "      <td>/uv7syi4vRyjvWoB8qExbqnbuCu5.jpg</td>\n",
       "      <td>[{'name': 'Imagine Entertainment', 'id': 23}, {'name': '...</td>\n",
       "      <td>[{'iso_3166_1': 'GB', 'name': 'United Kingdom'}, {'iso_3...</td>\n",
       "      <td>2016-09-15</td>\n",
       "      <td>0.0</td>\n",
       "      <td>99.0</td>\n",
       "      <td>[{'iso_639_1': 'en', 'name': 'English'}]</td>\n",
       "      <td>Released</td>\n",
       "      <td>The band you know. The story you don't.</td>\n",
       "      <td>The Beatles: Eight Days a Week - The Touring Years</td>\n",
       "      <td>False</td>\n",
       "      <td>7.6</td>\n",
       "      <td>92.0</td>\n",
       "      <td>2016</td>\n",
       "      <td>[music, documentari]</td>\n",
       "      <td>[paulmccartney, ringostarr, johnlennon]</td>\n",
       "      <td>[{'credit_id': '57057c6cc3a3680dca000285', 'department':...</td>\n",
       "      <td>28</td>\n",
       "      <td>7</td>\n",
       "      <td>[ronhoward, ronhoward, ronhoward]</td>\n",
       "      <td>music documentari paulmccartney ringostarr johnlennon ro...</td>\n",
       "    </tr>\n",
       "  </tbody>\n",
       "</table>\n",
       "<p>9219 rows × 33 columns</p>\n",
       "</div>"
      ],
      "text/plain": [
       "      index  adult  \\\n",
       "0         0  False   \n",
       "1         1  False   \n",
       "2         2  False   \n",
       "3         3  False   \n",
       "4         4  False   \n",
       "...     ...    ...   \n",
       "9214  40952  False   \n",
       "9215  41172  False   \n",
       "9216  41225  False   \n",
       "9217  41391  False   \n",
       "9218  41669  False   \n",
       "\n",
       "                                            belongs_to_collection    budget  \\\n",
       "0     {'id': 10194, 'name': 'Toy Story Collection', 'poster_pa...  30000000   \n",
       "1                                                             NaN  65000000   \n",
       "2     {'id': 119050, 'name': 'Grumpy Old Men Collection', 'pos...         0   \n",
       "3                                                             NaN  16000000   \n",
       "4     {'id': 96871, 'name': 'Father of the Bride Collection', ...         0   \n",
       "...                                                           ...       ...   \n",
       "9214                                                          NaN   8000000   \n",
       "9215                                                          NaN   1000000   \n",
       "9216                                                          NaN  15050000   \n",
       "9217                                                          NaN  15000000   \n",
       "9218                                                          NaN         0   \n",
       "\n",
       "                                                   genres  \\\n",
       "0                             [Animation, Comedy, Family]   \n",
       "1                            [Adventure, Fantasy, Family]   \n",
       "2                                       [Romance, Comedy]   \n",
       "3                                [Comedy, Drama, Romance]   \n",
       "4                                                [Comedy]   \n",
       "...                                                   ...   \n",
       "9214                                              [Drama]   \n",
       "9215                                  [Thriller, Romance]   \n",
       "9216                 [Adventure, Drama, History, Romance]   \n",
       "9217  [Action, Adventure, Drama, Horror, Science Fiction]   \n",
       "9218                                 [Documentary, Music]   \n",
       "\n",
       "                                   homepage      id    imdb_id  \\\n",
       "0      http://toystory.disney.com/toy-story     862  tt0114709   \n",
       "1                                       NaN    8844  tt0113497   \n",
       "2                                       NaN   15602  tt0113228   \n",
       "3                                       NaN   31357  tt0114885   \n",
       "4                                       NaN   11862  tt0113041   \n",
       "...                                     ...     ...        ...   \n",
       "9214                                    NaN  159550  tt0255313   \n",
       "9215                                    NaN  392572  tt5165344   \n",
       "9216                                    NaN  402672  tt3859980   \n",
       "9217                                    NaN  315011  tt4262980   \n",
       "9218  http://www.thebeatlesliveproject.com/  391698  tt2531318   \n",
       "\n",
       "     original_language                                      original_title  \\\n",
       "0                   en                                           Toy Story   \n",
       "1                   en                                             Jumanji   \n",
       "2                   en                                    Grumpier Old Men   \n",
       "3                   en                                   Waiting to Exhale   \n",
       "4                   en                         Father of the Bride Part II   \n",
       "...                ...                                                 ...   \n",
       "9214                en                      The Last Brickmaker in America   \n",
       "9215                hi                                              रुस्तम   \n",
       "9216                hi                                        Mohenjo Daro   \n",
       "9217                ja                                              シン・ゴジラ   \n",
       "9218                en  The Beatles: Eight Days a Week - The Touring Years   \n",
       "\n",
       "                                                         overview popularity  \\\n",
       "0     Led by Woody, Andy's toys live happily in his room until...  21.946943   \n",
       "1     When siblings Judy and Peter discover an enchanted board...  17.015539   \n",
       "2     A family wedding reignites the ancient feud between next...    11.7129   \n",
       "3     Cheated on, mistreated and stepped on, the women are hol...   3.859495   \n",
       "4     Just when George Banks has recovered from his daughter's...   8.387519   \n",
       "...                                                           ...        ...   \n",
       "9214  A man must cope with the loss of his wife and the obsole...   0.038998   \n",
       "9215  Rustom Pavri, an honourable officer of the Indian Navy s...   7.333139   \n",
       "9216  Village lad Sarman is drawn to big, bad Mohenjo Daro - a...   1.423358   \n",
       "9217  From the mind behind Evangelion comes a hit larger than ...   9.285519   \n",
       "9218  The band stormed Europe in 1963, and, in 1964, they conq...   7.078301   \n",
       "\n",
       "                           poster_path  \\\n",
       "0     /rhIRbceoE9lR4veEXuwCC2wARtG.jpg   \n",
       "1     /vzmL6fP7aPKNKPRTFnZmiUfciyV.jpg   \n",
       "2     /6ksm1sjKMFLbO7UY2i6G1ju9SML.jpg   \n",
       "3     /16XOMpEaLWkrcPqSQqhTmeJuqQl.jpg   \n",
       "4     /e64sOI48hQXyru7naBFyssKFxVd.jpg   \n",
       "...                                ...   \n",
       "9214  /yWp7PgydSlxlhl7benKhTnCvRjN.jpg   \n",
       "9215  /q1lrN6ZrIsOs077lQB86aPGKZRF.jpg   \n",
       "9216  /q2XVemXiWSa18mbaVpI3rbLXG2u.jpg   \n",
       "9217  /8YWirGQidtZeSEmhqvQM5FrI6N1.jpg   \n",
       "9218  /uv7syi4vRyjvWoB8qExbqnbuCu5.jpg   \n",
       "\n",
       "                                             production_companies  \\\n",
       "0                  [{'name': 'Pixar Animation Studios', 'id': 3}]   \n",
       "1     [{'name': 'TriStar Pictures', 'id': 559}, {'name': 'Teit...   \n",
       "2     [{'name': 'Warner Bros.', 'id': 6194}, {'name': 'Lancast...   \n",
       "3     [{'name': 'Twentieth Century Fox Film Corporation', 'id'...   \n",
       "4     [{'name': 'Sandollar Productions', 'id': 5842}, {'name':...   \n",
       "...                                                           ...   \n",
       "9214              [{'name': 'Nasser Entertainment', 'id': 35802}]   \n",
       "9215              [{'name': 'KriArj Entertainment', 'id': 91689}]   \n",
       "9216  [{'name': 'UTV Motion Pictures', 'id': 2320}, {'name': '...   \n",
       "9217  [{'name': 'Cine Bazar', 'id': 5896}, {'name': 'Toho Pict...   \n",
       "9218  [{'name': 'Imagine Entertainment', 'id': 23}, {'name': '...   \n",
       "\n",
       "                                             production_countries  \\\n",
       "0      [{'iso_3166_1': 'US', 'name': 'United States of America'}]   \n",
       "1      [{'iso_3166_1': 'US', 'name': 'United States of America'}]   \n",
       "2      [{'iso_3166_1': 'US', 'name': 'United States of America'}]   \n",
       "3      [{'iso_3166_1': 'US', 'name': 'United States of America'}]   \n",
       "4      [{'iso_3166_1': 'US', 'name': 'United States of America'}]   \n",
       "...                                                           ...   \n",
       "9214   [{'iso_3166_1': 'US', 'name': 'United States of America'}]   \n",
       "9215                      [{'iso_3166_1': 'IN', 'name': 'India'}]   \n",
       "9216                      [{'iso_3166_1': 'IN', 'name': 'India'}]   \n",
       "9217                      [{'iso_3166_1': 'JP', 'name': 'Japan'}]   \n",
       "9218  [{'iso_3166_1': 'GB', 'name': 'United Kingdom'}, {'iso_3...   \n",
       "\n",
       "     release_date      revenue  runtime  \\\n",
       "0      1995-10-30  373554033.0     81.0   \n",
       "1      1995-12-15  262797249.0    104.0   \n",
       "2      1995-12-22          0.0    101.0   \n",
       "3      1995-12-22   81452156.0    127.0   \n",
       "4      1995-02-10   76578911.0    106.0   \n",
       "...           ...          ...      ...   \n",
       "9214   2001-09-23          0.0     85.0   \n",
       "9215   2016-08-12          0.0    150.0   \n",
       "9216   2016-08-11   16180000.0    155.0   \n",
       "9217   2016-07-29   77000000.0    120.0   \n",
       "9218   2016-09-15          0.0     99.0   \n",
       "\n",
       "                                                 spoken_languages    status  \\\n",
       "0                        [{'iso_639_1': 'en', 'name': 'English'}]  Released   \n",
       "1     [{'iso_639_1': 'en', 'name': 'English'}, {'iso_639_1': '...  Released   \n",
       "2                        [{'iso_639_1': 'en', 'name': 'English'}]  Released   \n",
       "3                        [{'iso_639_1': 'en', 'name': 'English'}]  Released   \n",
       "4                        [{'iso_639_1': 'en', 'name': 'English'}]  Released   \n",
       "...                                                           ...       ...   \n",
       "9214                                                           []  Released   \n",
       "9215                      [{'iso_639_1': 'hi', 'name': 'हिन्दी'}]  Released   \n",
       "9216                      [{'iso_639_1': 'hi', 'name': 'हिन्दी'}]  Released   \n",
       "9217  [{'iso_639_1': 'it', 'name': 'Italiano'}, {'iso_639_1': ...  Released   \n",
       "9218                     [{'iso_639_1': 'en', 'name': 'English'}]  Released   \n",
       "\n",
       "                                                          tagline  \\\n",
       "0                                                             NaN   \n",
       "1                       Roll the dice and unleash the excitement!   \n",
       "2            Still Yelling. Still Fighting. Still Ready for Love.   \n",
       "3     Friends are the people who let you be yourself... and ne...   \n",
       "4     Just When His World Is Back To Normal... He's In For The...   \n",
       "...                                                           ...   \n",
       "9214                                                          NaN   \n",
       "9215  Decorated Officer. Devoted Family Man. Defending His Hon...   \n",
       "9216                                                          NaN   \n",
       "9217                              A god incarnate. A city doomed.   \n",
       "9218                      The band you know. The story you don't.   \n",
       "\n",
       "                                                   title  video  vote_average  \\\n",
       "0                                              Toy Story  False           7.7   \n",
       "1                                                Jumanji  False           6.9   \n",
       "2                                       Grumpier Old Men  False           6.5   \n",
       "3                                      Waiting to Exhale  False           6.1   \n",
       "4                            Father of the Bride Part II  False           5.7   \n",
       "...                                                  ...    ...           ...   \n",
       "9214                      The Last Brickmaker in America  False           7.0   \n",
       "9215                                              Rustom  False           7.3   \n",
       "9216                                        Mohenjo Daro  False           6.7   \n",
       "9217                                       Shin Godzilla  False           6.6   \n",
       "9218  The Beatles: Eight Days a Week - The Touring Years  False           7.6   \n",
       "\n",
       "      vote_count  year  \\\n",
       "0         5415.0  1995   \n",
       "1         2413.0  1995   \n",
       "2           92.0  1995   \n",
       "3           34.0  1995   \n",
       "4          173.0  1995   \n",
       "...          ...   ...   \n",
       "9214         1.0  2001   \n",
       "9215        25.0  2016   \n",
       "9216        26.0  2016   \n",
       "9217       152.0  2016   \n",
       "9218        92.0  2016   \n",
       "\n",
       "                                                         keywords  \\\n",
       "0     [jealousi, toy, boy, friendship, friend, rivalri, boynex...   \n",
       "1     [boardgam, disappear, basedonchildren'sbook, newhom, rec...   \n",
       "2                          [fish, bestfriend, duringcreditssting]   \n",
       "3     [basedonnovel, interracialrelationship, singlemoth, divo...   \n",
       "4     [babi, midlifecrisi, confid, age, daughter, motherdaught...   \n",
       "...                                                           ...   \n",
       "9214                                                 [friendship]   \n",
       "9215                                                  [bollywood]   \n",
       "9216                                                  [bollywood]   \n",
       "9217             [monster, godzilla, giantmonst, destruct, kaiju]   \n",
       "9218                                         [music, documentari]   \n",
       "\n",
       "                                                    cast  \\\n",
       "0                       [tomhanks, timallen, donrickles]   \n",
       "1            [robinwilliams, jonathanhyde, kirstendunst]   \n",
       "2               [waltermatthau, jacklemmon, ann-margret]   \n",
       "3         [whitneyhouston, angelabassett, lorettadevine]   \n",
       "4                [stevemartin, dianekeaton, martinshort]   \n",
       "...                                                  ...   \n",
       "9214         [sidneypoitier, wendycrewson, jayo.sanders]   \n",
       "9215              [akshaykumar, ileanad'cruz, eshagupta]   \n",
       "9216              [hrithikroshan, poojahegde, kabirbedi]   \n",
       "9217  [hirokihasegawa, yutakatakenouchi, satomiishihara]   \n",
       "9218             [paulmccartney, ringostarr, johnlennon]   \n",
       "\n",
       "                                                             crew  cast_size  \\\n",
       "0     [{'credit_id': '52fe4284c3a36847f8024f49', 'department':...         13   \n",
       "1     [{'credit_id': '52fe44bfc3a36847f80a7cd1', 'department':...         26   \n",
       "2     [{'credit_id': '52fe466a9251416c75077a89', 'department':...          7   \n",
       "3     [{'credit_id': '52fe44779251416c91011acb', 'department':...         10   \n",
       "4     [{'credit_id': '52fe44959251416c75039ed7', 'department':...         12   \n",
       "...                                                           ...        ...   \n",
       "9214  [{'credit_id': '544475aac3a36819fb000578', 'department':...          7   \n",
       "9215  [{'credit_id': '5951baf692514129c4016600', 'department':...         14   \n",
       "9216  [{'credit_id': '57cd5d3592514179d50018e8', 'department':...         12   \n",
       "9217  [{'credit_id': '560892fa92514177550018b2', 'department':...         49   \n",
       "9218  [{'credit_id': '57057c6cc3a3680dca000285', 'department':...         28   \n",
       "\n",
       "      crew_size                                                  directors  \\\n",
       "0           106                 [johnlasseter, johnlasseter, johnlasseter]   \n",
       "1            16                    [joejohnston, joejohnston, joejohnston]   \n",
       "2             4                 [howarddeutch, howarddeutch, howarddeutch]   \n",
       "3            10           [forestwhitaker, forestwhitaker, forestwhitaker]   \n",
       "4             7                 [charlesshyer, charlesshyer, charlesshyer]   \n",
       "...         ...                                                        ...   \n",
       "9214          2              [greggchampion, greggchampion, greggchampion]   \n",
       "9215         16        [tinusureshdesai, tinusureshdesai, tinusureshdesai]   \n",
       "9216         16  [ashutoshgowariker, ashutoshgowariker, ashutoshgowariker]   \n",
       "9217         27                    [hideakianno, hideakianno, hideakianno]   \n",
       "9218          7                          [ronhoward, ronhoward, ronhoward]   \n",
       "\n",
       "                                                             soup  \n",
       "0     jealousi toy boy friendship friend rivalri boynextdoor n...  \n",
       "1     boardgam disappear basedonchildren'sbook newhom reclus g...  \n",
       "2     fish bestfriend duringcreditssting waltermatthau jacklem...  \n",
       "3     basedonnovel interracialrelationship singlemoth divorc c...  \n",
       "4     babi midlifecrisi confid age daughter motherdaughterrela...  \n",
       "...                                                           ...  \n",
       "9214  friendship sidneypoitier wendycrewson jayo.sanders gregg...  \n",
       "9215  bollywood akshaykumar ileanad'cruz eshagupta tinusureshd...  \n",
       "9216  bollywood hrithikroshan poojahegde kabirbedi ashutoshgow...  \n",
       "9217  monster godzilla giantmonst destruct kaiju hirokihasegaw...  \n",
       "9218  music documentari paulmccartney ringostarr johnlennon ro...  \n",
       "\n",
       "[9219 rows x 33 columns]"
      ]
     },
     "execution_count": 90,
     "metadata": {},
     "output_type": "execute_result"
    }
   ],
   "source": [
    "smd"
   ]
  },
  {
   "cell_type": "code",
   "execution_count": 78,
   "metadata": {
    "execution": {
     "iopub.execute_input": "2021-09-14T03:32:25.802591Z",
     "iopub.status.busy": "2021-09-14T03:32:25.802346Z",
     "iopub.status.idle": "2021-09-14T03:32:26.421951Z",
     "shell.execute_reply": "2021-09-14T03:32:26.420860Z",
     "shell.execute_reply.started": "2021-09-14T03:32:25.802567Z"
    }
   },
   "outputs": [],
   "source": [
    "count = CountVectorizer(analyzer='word',ngram_range=(1,2),min_df=0,stop_words='english')\n",
    "count_mat = count.fit_transform(smd['soup'])"
   ]
  },
  {
   "cell_type": "code",
   "execution_count": 79,
   "metadata": {
    "execution": {
     "iopub.execute_input": "2021-09-14T03:32:26.423339Z",
     "iopub.status.busy": "2021-09-14T03:32:26.423084Z",
     "iopub.status.idle": "2021-09-14T03:32:28.200813Z",
     "shell.execute_reply": "2021-09-14T03:32:28.199793Z",
     "shell.execute_reply.started": "2021-09-14T03:32:26.423313Z"
    }
   },
   "outputs": [],
   "source": [
    "cos_sim=cosine_similarity(count_mat,count_mat)"
   ]
  },
  {
   "cell_type": "code",
   "execution_count": 80,
   "metadata": {
    "execution": {
     "iopub.execute_input": "2021-09-14T03:32:28.203333Z",
     "iopub.status.busy": "2021-09-14T03:32:28.202637Z",
     "iopub.status.idle": "2021-09-14T03:32:28.218470Z",
     "shell.execute_reply": "2021-09-14T03:32:28.217189Z",
     "shell.execute_reply.started": "2021-09-14T03:32:28.203289Z"
    }
   },
   "outputs": [
    {
     "data": {
      "text/plain": [
       "title\n",
       "Toy Story                                                0\n",
       "Jumanji                                                  1\n",
       "Grumpier Old Men                                         2\n",
       "Waiting to Exhale                                        3\n",
       "Father of the Bride Part II                              4\n",
       "                                                      ... \n",
       "The Last Brickmaker in America                        9214\n",
       "Rustom                                                9215\n",
       "Mohenjo Daro                                          9216\n",
       "Shin Godzilla                                         9217\n",
       "The Beatles: Eight Days a Week - The Touring Years    9218\n",
       "Length: 9219, dtype: int64"
      ]
     },
     "execution_count": 80,
     "metadata": {},
     "output_type": "execute_result"
    }
   ],
   "source": [
    "smd = smd.reset_index()\n",
    "titles = smd['title']\n",
    "indices = pd.Series(smd.index,index=smd['title'])\n",
    "indices"
   ]
  },
  {
   "cell_type": "markdown",
   "metadata": {},
   "source": [
    "now we will use get recommendation with updated cosine similarity"
   ]
  },
  {
   "cell_type": "code",
   "execution_count": 81,
   "metadata": {
    "execution": {
     "iopub.execute_input": "2021-09-14T03:32:28.219810Z",
     "iopub.status.busy": "2021-09-14T03:32:28.219530Z",
     "iopub.status.idle": "2021-09-14T03:32:28.234982Z",
     "shell.execute_reply": "2021-09-14T03:32:28.234194Z",
     "shell.execute_reply.started": "2021-09-14T03:32:28.219783Z"
    }
   },
   "outputs": [
    {
     "data": {
      "text/plain": [
       "8031         The Dark Knight Rises\n",
       "6218                 Batman Begins\n",
       "6623                  The Prestige\n",
       "2085                     Following\n",
       "7648                     Inception\n",
       "4145                      Insomnia\n",
       "3381                       Memento\n",
       "8613                  Interstellar\n",
       "7659    Batman: Under the Red Hood\n",
       "1134                Batman Returns\n",
       "Name: title, dtype: object"
      ]
     },
     "execution_count": 81,
     "metadata": {},
     "output_type": "execute_result"
    }
   ],
   "source": [
    "get_recommendations('The Dark Knight').head(10)"
   ]
  },
  {
   "cell_type": "markdown",
   "metadata": {},
   "source": [
    "from the above we can be satisfied since the system recognise the Chistopher Nolan Movies. we can also experiment on this engine by giving more weights to Directors, cast,geners. by reducing the importance or weightage given to the Keywords by limiting the keywords.weighing geners based on their freaquency"
   ]
  },
  {
   "cell_type": "code",
   "execution_count": 82,
   "metadata": {
    "execution": {
     "iopub.execute_input": "2021-09-14T03:32:28.236412Z",
     "iopub.status.busy": "2021-09-14T03:32:28.235977Z",
     "iopub.status.idle": "2021-09-14T03:32:28.255043Z",
     "shell.execute_reply": "2021-09-14T03:32:28.254268Z",
     "shell.execute_reply.started": "2021-09-14T03:32:28.236381Z"
    }
   },
   "outputs": [
    {
     "data": {
      "text/plain": [
       "3319               Head Over Heels\n",
       "4763                 Freaky Friday\n",
       "1329              The House of Yes\n",
       "6277              Just Like Heaven\n",
       "7905         Mr. Popper's Penguins\n",
       "7332    Ghosts of Girlfriends Past\n",
       "6959     The Spiderwick Chronicles\n",
       "8883                      The DUFF\n",
       "6698         It's a Boy Girl Thing\n",
       "7377       I Love You, Beth Cooper\n",
       "Name: title, dtype: object"
      ]
     },
     "execution_count": 82,
     "metadata": {},
     "output_type": "execute_result"
    }
   ],
   "source": [
    "get_recommendations('Mean Girls').head(10)"
   ]
  },
  {
   "cell_type": "markdown",
   "metadata": {},
   "source": [
    "From the above we can see that Batman: Under the Red Hood is similar to Darknight Raises because of the similar characters in both films. But Batman: Under the Red Hood is not a good movie. when commpared to other Batman Movies. lets work on this detailings"
   ]
  },
  {
   "cell_type": "code",
   "execution_count": 83,
   "metadata": {
    "execution": {
     "iopub.execute_input": "2021-09-14T03:32:28.256502Z",
     "iopub.status.busy": "2021-09-14T03:32:28.256035Z",
     "iopub.status.idle": "2021-09-14T03:32:28.266465Z",
     "shell.execute_reply": "2021-09-14T03:32:28.265578Z",
     "shell.execute_reply.started": "2021-09-14T03:32:28.256473Z"
    }
   },
   "outputs": [],
   "source": [
    "idx = indices['Toy Story']"
   ]
  },
  {
   "cell_type": "code",
   "execution_count": 84,
   "metadata": {
    "execution": {
     "iopub.execute_input": "2021-09-14T03:32:28.268090Z",
     "iopub.status.busy": "2021-09-14T03:32:28.267713Z",
     "iopub.status.idle": "2021-09-14T03:32:28.279557Z",
     "shell.execute_reply": "2021-09-14T03:32:28.278749Z",
     "shell.execute_reply.started": "2021-09-14T03:32:28.268064Z"
    }
   },
   "outputs": [],
   "source": [
    "sim_score = list(enumerate(cos_sim[idx]))"
   ]
  },
  {
   "cell_type": "code",
   "execution_count": 85,
   "metadata": {
    "execution": {
     "iopub.execute_input": "2021-09-14T03:32:28.281288Z",
     "iopub.status.busy": "2021-09-14T03:32:28.280992Z",
     "iopub.status.idle": "2021-09-14T03:32:28.294818Z",
     "shell.execute_reply": "2021-09-14T03:32:28.294075Z",
     "shell.execute_reply.started": "2021-09-14T03:32:28.281262Z"
    }
   },
   "outputs": [],
   "source": [
    "sim_score = sorted(sim_score,key= lambda x: x[1],reverse=True)"
   ]
  },
  {
   "cell_type": "code",
   "execution_count": 86,
   "metadata": {
    "execution": {
     "iopub.execute_input": "2021-09-14T03:32:28.296214Z",
     "iopub.status.busy": "2021-09-14T03:32:28.295738Z",
     "iopub.status.idle": "2021-09-14T03:32:28.320195Z",
     "shell.execute_reply": "2021-09-14T03:32:28.319493Z",
     "shell.execute_reply.started": "2021-09-14T03:32:28.296186Z"
    }
   },
   "outputs": [],
   "source": [
    "sim_score = sim_score[1:20]\n",
    "movie_ind = [i[0] for i in sim_score]\n",
    "movi = smd.iloc[movie_ind][['title','vote_average','vote_count','year']]\n",
    "vote_count = movi[movi['vote_count'].notnull()]['vote_count'].astype('int')\n",
    "vote_ava = movi[movi['vote_average'].notnull()]['vote_average'].astype('int')\n"
   ]
  },
  {
   "cell_type": "code",
   "execution_count": 87,
   "metadata": {
    "execution": {
     "iopub.execute_input": "2021-09-14T03:32:28.321439Z",
     "iopub.status.busy": "2021-09-14T03:32:28.321077Z",
     "iopub.status.idle": "2021-09-14T03:32:28.336342Z",
     "shell.execute_reply": "2021-09-14T03:32:28.335573Z",
     "shell.execute_reply.started": "2021-09-14T03:32:28.321412Z"
    }
   },
   "outputs": [
    {
     "name": "stdout",
     "output_type": "stream",
     "text": [
      "                                   title  vote_average  vote_count  year  \\\n",
      "7648                           Inception             8       14075  2010   \n",
      "8613                        Interstellar             8       11187  2014   \n",
      "6623                        The Prestige             8        4510  2006   \n",
      "3381                             Memento             8        4168  2000   \n",
      "8031               The Dark Knight Rises             7        9263  2012   \n",
      "6218                       Batman Begins             7        7511  2005   \n",
      "1134                      Batman Returns             6        1706  1992   \n",
      "9024  Batman v Superman: Dawn of Justice             5        7189  2016   \n",
      "\n",
      "            wr  \n",
      "7648  7.710253  \n",
      "8613  7.645088  \n",
      "6623  7.260651  \n",
      "3381  7.217222  \n",
      "8031  6.734063  \n",
      "6218  6.683227  \n",
      "1134  5.628269  \n",
      "9024  5.045810  \n"
     ]
    },
    {
     "name": "stderr",
     "output_type": "stream",
     "text": [
      "<ipython-input-87-5946e57b411c>:4: SettingWithCopyWarning: \n",
      "A value is trying to be set on a copy of a slice from a DataFrame.\n",
      "Try using .loc[row_indexer,col_indexer] = value instead\n",
      "\n",
      "See the caveats in the documentation: https://pandas.pydata.org/pandas-docs/stable/user_guide/indexing.html#returning-a-view-versus-a-copy\n",
      "  quantifi['vote_count'] = quantifi['vote_count'].astype('int')\n",
      "<ipython-input-87-5946e57b411c>:5: SettingWithCopyWarning: \n",
      "A value is trying to be set on a copy of a slice from a DataFrame.\n",
      "Try using .loc[row_indexer,col_indexer] = value instead\n",
      "\n",
      "See the caveats in the documentation: https://pandas.pydata.org/pandas-docs/stable/user_guide/indexing.html#returning-a-view-versus-a-copy\n",
      "  quantifi['vote_average'] = quantifi['vote_average'].astype('int')\n",
      "<ipython-input-87-5946e57b411c>:6: SettingWithCopyWarning: \n",
      "A value is trying to be set on a copy of a slice from a DataFrame.\n",
      "Try using .loc[row_indexer,col_indexer] = value instead\n",
      "\n",
      "See the caveats in the documentation: https://pandas.pydata.org/pandas-docs/stable/user_guide/indexing.html#returning-a-view-versus-a-copy\n",
      "  quantifi['wr'] =  quantifi.apply(weig_rat, axis=1)\n"
     ]
    }
   ],
   "source": [
    "c = vote_ava.mean()\n",
    "m = vote_count.quantile(0.60)\n",
    "quantifi = movi[(movi['vote_count']>= m) & (movi['vote_count'].notnull()) & (movi['vote_average'].notnull())]\n",
    "quantifi['vote_count'] = quantifi['vote_count'].astype('int')\n",
    "quantifi['vote_average'] = quantifi['vote_average'].astype('int')\n",
    "quantifi['wr'] =  quantifi.apply(weig_rat, axis=1)\n",
    "quantifi =quantifi.sort_values('wr', ascending=False).head(10)\n",
    "print(quantifi)"
   ]
  },
  {
   "cell_type": "markdown",
   "metadata": {},
   "source": [
    "now we can create a funtion such that it accepts the argument of differnt movie and go thorught  the  series of pipeline to get the resullt"
   ]
  },
  {
   "cell_type": "code",
   "execution_count": 131,
   "metadata": {
    "execution": {
     "iopub.execute_input": "2021-09-14T03:32:28.337879Z",
     "iopub.status.busy": "2021-09-14T03:32:28.337481Z",
     "iopub.status.idle": "2021-09-14T03:32:28.347338Z",
     "shell.execute_reply": "2021-09-14T03:32:28.346443Z",
     "shell.execute_reply.started": "2021-09-14T03:32:28.337843Z"
    }
   },
   "outputs": [],
   "source": [
    "def final_reco(movi):\n",
    "    idx = indices[movi]\n",
    "    sim_score = list(enumerate(cos_sim[idx]))\n",
    "    sim_score = sorted(sim_score,key= lambda x: x[1],reverse=True)\n",
    "    sim_score = sim_score[1:20]\n",
    "    movie_ind = [i[0] for i in sim_score]\n",
    "    movi = smd.iloc[movie_ind][['title','vote_average','vote_count','year']]\n",
    "    vote_count = movi[movi['vote_count'].notnull()]['vote_count'].astype('int')\n",
    "    vote_ava = movi[movi['vote_average'].notnull()]['vote_average'].astype('int')\n",
    "    c = vote_ava.mean()\n",
    "    m = vote_count.quantile(0.60)\n",
    "    quantifi = movi[(movi['vote_count']>= m) & (movi['vote_count'].notnull()) & (movi['vote_average'].notnull())]\n",
    "    quantifi['vote_count'] = quantifi['vote_count'].astype('int')\n",
    "    quantifi['vote_average'] = quantifi['vote_average'].astype('int')\n",
    "    quantifi['wr'] =  quantifi.apply(weig_rat, axis=1)\n",
    "    quantifi =quantifi.sort_values('wr', ascending=False).head(10)\n",
    "    return quantifi"
   ]
  },
  {
   "cell_type": "code",
   "execution_count": 132,
   "metadata": {
    "execution": {
     "iopub.execute_input": "2021-09-14T03:32:28.349026Z",
     "iopub.status.busy": "2021-09-14T03:32:28.348499Z",
     "iopub.status.idle": "2021-09-14T03:32:28.383335Z",
     "shell.execute_reply": "2021-09-14T03:32:28.382373Z",
     "shell.execute_reply.started": "2021-09-14T03:32:28.348935Z"
    }
   },
   "outputs": [
    {
     "name": "stderr",
     "output_type": "stream",
     "text": [
      "<ipython-input-131-24f89e4575b5>:13: SettingWithCopyWarning: \n",
      "A value is trying to be set on a copy of a slice from a DataFrame.\n",
      "Try using .loc[row_indexer,col_indexer] = value instead\n",
      "\n",
      "See the caveats in the documentation: https://pandas.pydata.org/pandas-docs/stable/user_guide/indexing.html#returning-a-view-versus-a-copy\n",
      "  quantifi['vote_count'] = quantifi['vote_count'].astype('int')\n",
      "<ipython-input-131-24f89e4575b5>:14: SettingWithCopyWarning: \n",
      "A value is trying to be set on a copy of a slice from a DataFrame.\n",
      "Try using .loc[row_indexer,col_indexer] = value instead\n",
      "\n",
      "See the caveats in the documentation: https://pandas.pydata.org/pandas-docs/stable/user_guide/indexing.html#returning-a-view-versus-a-copy\n",
      "  quantifi['vote_average'] = quantifi['vote_average'].astype('int')\n",
      "<ipython-input-131-24f89e4575b5>:15: SettingWithCopyWarning: \n",
      "A value is trying to be set on a copy of a slice from a DataFrame.\n",
      "Try using .loc[row_indexer,col_indexer] = value instead\n",
      "\n",
      "See the caveats in the documentation: https://pandas.pydata.org/pandas-docs/stable/user_guide/indexing.html#returning-a-view-versus-a-copy\n",
      "  quantifi['wr'] =  quantifi.apply(weig_rat, axis=1)\n"
     ]
    },
    {
     "data": {
      "text/html": [
       "<div>\n",
       "<style scoped>\n",
       "    .dataframe tbody tr th:only-of-type {\n",
       "        vertical-align: middle;\n",
       "    }\n",
       "\n",
       "    .dataframe tbody tr th {\n",
       "        vertical-align: top;\n",
       "    }\n",
       "\n",
       "    .dataframe thead th {\n",
       "        text-align: right;\n",
       "    }\n",
       "</style>\n",
       "<table border=\"1\" class=\"dataframe\">\n",
       "  <thead>\n",
       "    <tr style=\"text-align: right;\">\n",
       "      <th></th>\n",
       "      <th>title</th>\n",
       "      <th>vote_average</th>\n",
       "      <th>vote_count</th>\n",
       "      <th>year</th>\n",
       "      <th>wr</th>\n",
       "    </tr>\n",
       "  </thead>\n",
       "  <tbody>\n",
       "    <tr>\n",
       "      <th>1547</th>\n",
       "      <td>The Breakfast Club</td>\n",
       "      <td>7</td>\n",
       "      <td>2189</td>\n",
       "      <td>1985</td>\n",
       "      <td>6.709602</td>\n",
       "    </tr>\n",
       "    <tr>\n",
       "      <th>8883</th>\n",
       "      <td>The DUFF</td>\n",
       "      <td>6</td>\n",
       "      <td>1372</td>\n",
       "      <td>2015</td>\n",
       "      <td>5.818541</td>\n",
       "    </tr>\n",
       "    <tr>\n",
       "      <th>3712</th>\n",
       "      <td>The Princess Diaries</td>\n",
       "      <td>6</td>\n",
       "      <td>1063</td>\n",
       "      <td>2001</td>\n",
       "      <td>5.781086</td>\n",
       "    </tr>\n",
       "    <tr>\n",
       "      <th>4763</th>\n",
       "      <td>Freaky Friday</td>\n",
       "      <td>6</td>\n",
       "      <td>919</td>\n",
       "      <td>2003</td>\n",
       "      <td>5.757786</td>\n",
       "    </tr>\n",
       "    <tr>\n",
       "      <th>6277</th>\n",
       "      <td>Just Like Heaven</td>\n",
       "      <td>6</td>\n",
       "      <td>595</td>\n",
       "      <td>2005</td>\n",
       "      <td>5.681521</td>\n",
       "    </tr>\n",
       "    <tr>\n",
       "      <th>6959</th>\n",
       "      <td>The Spiderwick Chronicles</td>\n",
       "      <td>6</td>\n",
       "      <td>593</td>\n",
       "      <td>2008</td>\n",
       "      <td>5.680901</td>\n",
       "    </tr>\n",
       "    <tr>\n",
       "      <th>7332</th>\n",
       "      <td>Ghosts of Girlfriends Past</td>\n",
       "      <td>5</td>\n",
       "      <td>716</td>\n",
       "      <td>2009</td>\n",
       "      <td>5.092422</td>\n",
       "    </tr>\n",
       "    <tr>\n",
       "      <th>7905</th>\n",
       "      <td>Mr. Popper's Penguins</td>\n",
       "      <td>5</td>\n",
       "      <td>775</td>\n",
       "      <td>2011</td>\n",
       "      <td>5.087912</td>\n",
       "    </tr>\n",
       "  </tbody>\n",
       "</table>\n",
       "</div>"
      ],
      "text/plain": [
       "                           title  vote_average  vote_count  year        wr\n",
       "1547          The Breakfast Club             7        2189  1985  6.709602\n",
       "8883                    The DUFF             6        1372  2015  5.818541\n",
       "3712        The Princess Diaries             6        1063  2001  5.781086\n",
       "4763               Freaky Friday             6         919  2003  5.757786\n",
       "6277            Just Like Heaven             6         595  2005  5.681521\n",
       "6959   The Spiderwick Chronicles             6         593  2008  5.680901\n",
       "7332  Ghosts of Girlfriends Past             5         716  2009  5.092422\n",
       "7905       Mr. Popper's Penguins             5         775  2011  5.087912"
      ]
     },
     "execution_count": 132,
     "metadata": {},
     "output_type": "execute_result"
    }
   ],
   "source": [
    "final_reco('Mean Girls')"
   ]
  },
  {
   "cell_type": "code",
   "execution_count": null,
   "metadata": {},
   "outputs": [],
   "source": []
  }
 ],
 "metadata": {
  "kernelspec": {
   "display_name": "Python 3",
   "language": "python",
   "name": "python3"
  },
  "language_info": {
   "codemirror_mode": {
    "name": "ipython",
    "version": 3
   },
   "file_extension": ".py",
   "mimetype": "text/x-python",
   "name": "python",
   "nbconvert_exporter": "python",
   "pygments_lexer": "ipython3",
   "version": "3.9.2"
  }
 },
 "nbformat": 4,
 "nbformat_minor": 4
}
